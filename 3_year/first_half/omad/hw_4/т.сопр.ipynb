{
 "cells": [
  {
   "cell_type": "code",
   "execution_count": 1,
   "id": "8d733c15",
   "metadata": {},
   "outputs": [],
   "source": [
    "import numpy as np\n",
    "import pandas as pd\n",
    "import matplotlib.pyplot as plt"
   ]
  },
  {
   "cell_type": "code",
   "execution_count": 2,
   "id": "efe0b067",
   "metadata": {},
   "outputs": [
    {
     "data": {
      "text/html": [
       "<div>\n",
       "<style scoped>\n",
       "    .dataframe tbody tr th:only-of-type {\n",
       "        vertical-align: middle;\n",
       "    }\n",
       "\n",
       "    .dataframe tbody tr th {\n",
       "        vertical-align: top;\n",
       "    }\n",
       "\n",
       "    .dataframe thead th {\n",
       "        text-align: right;\n",
       "    }\n",
       "</style>\n",
       "<table border=\"1\" class=\"dataframe\">\n",
       "  <thead>\n",
       "    <tr style=\"text-align: right;\">\n",
       "      <th></th>\n",
       "      <th>Unnamed: 0</th>\n",
       "      <th>carat</th>\n",
       "      <th>cut</th>\n",
       "      <th>color</th>\n",
       "      <th>clarity</th>\n",
       "      <th>depth</th>\n",
       "      <th>table</th>\n",
       "      <th>price</th>\n",
       "      <th>x</th>\n",
       "      <th>y</th>\n",
       "      <th>z</th>\n",
       "    </tr>\n",
       "  </thead>\n",
       "  <tbody>\n",
       "    <tr>\n",
       "      <th>0</th>\n",
       "      <td>1</td>\n",
       "      <td>0.23</td>\n",
       "      <td>Ideal</td>\n",
       "      <td>E</td>\n",
       "      <td>SI2</td>\n",
       "      <td>61.5</td>\n",
       "      <td>55.0</td>\n",
       "      <td>326</td>\n",
       "      <td>3.95</td>\n",
       "      <td>3.98</td>\n",
       "      <td>2.43</td>\n",
       "    </tr>\n",
       "    <tr>\n",
       "      <th>1</th>\n",
       "      <td>2</td>\n",
       "      <td>0.21</td>\n",
       "      <td>Premium</td>\n",
       "      <td>E</td>\n",
       "      <td>SI1</td>\n",
       "      <td>59.8</td>\n",
       "      <td>61.0</td>\n",
       "      <td>326</td>\n",
       "      <td>3.89</td>\n",
       "      <td>3.84</td>\n",
       "      <td>2.31</td>\n",
       "    </tr>\n",
       "    <tr>\n",
       "      <th>2</th>\n",
       "      <td>3</td>\n",
       "      <td>0.23</td>\n",
       "      <td>Good</td>\n",
       "      <td>E</td>\n",
       "      <td>VS1</td>\n",
       "      <td>56.9</td>\n",
       "      <td>65.0</td>\n",
       "      <td>327</td>\n",
       "      <td>4.05</td>\n",
       "      <td>4.07</td>\n",
       "      <td>2.31</td>\n",
       "    </tr>\n",
       "    <tr>\n",
       "      <th>3</th>\n",
       "      <td>4</td>\n",
       "      <td>0.29</td>\n",
       "      <td>Premium</td>\n",
       "      <td>I</td>\n",
       "      <td>VS2</td>\n",
       "      <td>62.4</td>\n",
       "      <td>58.0</td>\n",
       "      <td>334</td>\n",
       "      <td>4.20</td>\n",
       "      <td>4.23</td>\n",
       "      <td>2.63</td>\n",
       "    </tr>\n",
       "    <tr>\n",
       "      <th>4</th>\n",
       "      <td>5</td>\n",
       "      <td>0.31</td>\n",
       "      <td>Good</td>\n",
       "      <td>J</td>\n",
       "      <td>SI2</td>\n",
       "      <td>63.3</td>\n",
       "      <td>58.0</td>\n",
       "      <td>335</td>\n",
       "      <td>4.34</td>\n",
       "      <td>4.35</td>\n",
       "      <td>2.75</td>\n",
       "    </tr>\n",
       "    <tr>\n",
       "      <th>...</th>\n",
       "      <td>...</td>\n",
       "      <td>...</td>\n",
       "      <td>...</td>\n",
       "      <td>...</td>\n",
       "      <td>...</td>\n",
       "      <td>...</td>\n",
       "      <td>...</td>\n",
       "      <td>...</td>\n",
       "      <td>...</td>\n",
       "      <td>...</td>\n",
       "      <td>...</td>\n",
       "    </tr>\n",
       "    <tr>\n",
       "      <th>53935</th>\n",
       "      <td>53936</td>\n",
       "      <td>0.72</td>\n",
       "      <td>Ideal</td>\n",
       "      <td>D</td>\n",
       "      <td>SI1</td>\n",
       "      <td>60.8</td>\n",
       "      <td>57.0</td>\n",
       "      <td>2757</td>\n",
       "      <td>5.75</td>\n",
       "      <td>5.76</td>\n",
       "      <td>3.50</td>\n",
       "    </tr>\n",
       "    <tr>\n",
       "      <th>53936</th>\n",
       "      <td>53937</td>\n",
       "      <td>0.72</td>\n",
       "      <td>Good</td>\n",
       "      <td>D</td>\n",
       "      <td>SI1</td>\n",
       "      <td>63.1</td>\n",
       "      <td>55.0</td>\n",
       "      <td>2757</td>\n",
       "      <td>5.69</td>\n",
       "      <td>5.75</td>\n",
       "      <td>3.61</td>\n",
       "    </tr>\n",
       "    <tr>\n",
       "      <th>53937</th>\n",
       "      <td>53938</td>\n",
       "      <td>0.70</td>\n",
       "      <td>Very Good</td>\n",
       "      <td>D</td>\n",
       "      <td>SI1</td>\n",
       "      <td>62.8</td>\n",
       "      <td>60.0</td>\n",
       "      <td>2757</td>\n",
       "      <td>5.66</td>\n",
       "      <td>5.68</td>\n",
       "      <td>3.56</td>\n",
       "    </tr>\n",
       "    <tr>\n",
       "      <th>53938</th>\n",
       "      <td>53939</td>\n",
       "      <td>0.86</td>\n",
       "      <td>Premium</td>\n",
       "      <td>H</td>\n",
       "      <td>SI2</td>\n",
       "      <td>61.0</td>\n",
       "      <td>58.0</td>\n",
       "      <td>2757</td>\n",
       "      <td>6.15</td>\n",
       "      <td>6.12</td>\n",
       "      <td>3.74</td>\n",
       "    </tr>\n",
       "    <tr>\n",
       "      <th>53939</th>\n",
       "      <td>53940</td>\n",
       "      <td>0.75</td>\n",
       "      <td>Ideal</td>\n",
       "      <td>D</td>\n",
       "      <td>SI2</td>\n",
       "      <td>62.2</td>\n",
       "      <td>55.0</td>\n",
       "      <td>2757</td>\n",
       "      <td>5.83</td>\n",
       "      <td>5.87</td>\n",
       "      <td>3.64</td>\n",
       "    </tr>\n",
       "  </tbody>\n",
       "</table>\n",
       "<p>53940 rows × 11 columns</p>\n",
       "</div>"
      ],
      "text/plain": [
       "       Unnamed: 0  carat        cut color clarity  depth  table  price     x  \\\n",
       "0               1   0.23      Ideal     E     SI2   61.5   55.0    326  3.95   \n",
       "1               2   0.21    Premium     E     SI1   59.8   61.0    326  3.89   \n",
       "2               3   0.23       Good     E     VS1   56.9   65.0    327  4.05   \n",
       "3               4   0.29    Premium     I     VS2   62.4   58.0    334  4.20   \n",
       "4               5   0.31       Good     J     SI2   63.3   58.0    335  4.34   \n",
       "...           ...    ...        ...   ...     ...    ...    ...    ...   ...   \n",
       "53935       53936   0.72      Ideal     D     SI1   60.8   57.0   2757  5.75   \n",
       "53936       53937   0.72       Good     D     SI1   63.1   55.0   2757  5.69   \n",
       "53937       53938   0.70  Very Good     D     SI1   62.8   60.0   2757  5.66   \n",
       "53938       53939   0.86    Premium     H     SI2   61.0   58.0   2757  6.15   \n",
       "53939       53940   0.75      Ideal     D     SI2   62.2   55.0   2757  5.83   \n",
       "\n",
       "          y     z  \n",
       "0      3.98  2.43  \n",
       "1      3.84  2.31  \n",
       "2      4.07  2.31  \n",
       "3      4.23  2.63  \n",
       "4      4.35  2.75  \n",
       "...     ...   ...  \n",
       "53935  5.76  3.50  \n",
       "53936  5.75  3.61  \n",
       "53937  5.68  3.56  \n",
       "53938  6.12  3.74  \n",
       "53939  5.87  3.64  \n",
       "\n",
       "[53940 rows x 11 columns]"
      ]
     },
     "execution_count": 2,
     "metadata": {},
     "output_type": "execute_result"
    }
   ],
   "source": [
    "data = pd.read_csv('diamonds.csv')\n",
    "data"
   ]
  },
  {
   "cell_type": "code",
   "execution_count": 3,
   "id": "6fe9a991",
   "metadata": {},
   "outputs": [
    {
     "data": {
      "text/plain": [
       "<matplotlib.lines.Line2D at 0x7fe24845c0a0>"
      ]
     },
     "execution_count": 3,
     "metadata": {},
     "output_type": "execute_result"
    },
    {
     "data": {
      "image/png": "[encoded data removed]",
      "text/plain": [
       "<Figure size 720x576 with 1 Axes>"
      ]
     },
     "metadata": {
      "needs_background": "light"
     },
     "output_type": "display_data"
    }
   ],
   "source": [
    "plt.figure(figsize=(10, 8))\n",
    "plt.hist(data['carat'], bins = 60, color = 'darkviolet')\n",
    "plt.axvline(0.65, c='g')\n",
    "plt.axvline(1.45, c='g')"
   ]
  },
  {
   "cell_type": "code",
   "execution_count": 4,
   "id": "4c713a6b",
   "metadata": {},
   "outputs": [],
   "source": [
    "data_cat = data.copy()\n",
    "data_cat['carat_label'] = 0\n",
    "data_cat.loc[data_cat['carat'] < 0.65, 'carat_label'] = 'small'\n",
    "data_cat.loc[(data_cat['carat'] >= 0.65) & (data_cat['carat'] <= 1.45) , 'carat_label'] = 'medium'\n",
    "data_cat.loc[data_cat['carat'] > 1.45, 'carat_label'] = 'big'"
   ]
  },
  {
   "cell_type": "code",
   "execution_count": 5,
   "id": "1217335e",
   "metadata": {},
   "outputs": [
    {
     "data": {
      "text/plain": [
       "small     24969\n",
       "medium    22679\n",
       "big        6292\n",
       "Name: carat_label, dtype: int64"
      ]
     },
     "execution_count": 5,
     "metadata": {},
     "output_type": "execute_result"
    }
   ],
   "source": [
    "data_cat['carat_label'].value_counts()"
   ]
  },
  {
   "cell_type": "code",
   "execution_count": null,
   "id": "1fde72e5",
   "metadata": {},
   "outputs": [],
   "source": []
  },
  {
   "cell_type": "code",
   "execution_count": 6,
   "id": "6b21bafe",
   "metadata": {},
   "outputs": [
    {
     "data": {
      "text/plain": [
       "<matplotlib.lines.Line2D at 0x7fe2482dd9d0>"
      ]
     },
     "execution_count": 6,
     "metadata": {},
     "output_type": "execute_result"
    },
    {
     "data": {
      "image/png": "[encoded data removed]",
      "text/plain": [
       "<Figure size 720x576 with 1 Axes>"
      ]
     },
     "metadata": {
      "needs_background": "light"
     },
     "output_type": "display_data"
    }
   ],
   "source": [
    "plt.figure(figsize=(10, 8))\n",
    "plt.hist(data['price'], bins = 100, color = 'darkviolet')\n",
    "plt.axvline(1500, c='g')\n",
    "plt.axvline(3500, c='g')"
   ]
  },
  {
   "cell_type": "code",
   "execution_count": null,
   "id": "71394b9f",
   "metadata": {},
   "outputs": [],
   "source": []
  },
  {
   "cell_type": "code",
   "execution_count": 7,
   "id": "7c6f8ba8",
   "metadata": {},
   "outputs": [],
   "source": [
    "data_cat['price_label'] = 0\n",
    "data_cat.loc[data_cat['price'] < 1500, 'price_label'] = 'cheap'\n",
    "data_cat.loc[(data_cat['price'] >= 1500) & (data_cat['price'] <= 3500) , 'price_label'] = 'medium'\n",
    "data_cat.loc[data_cat['price'] > 3500, 'price_label'] = 'expensive'"
   ]
  },
  {
   "cell_type": "code",
   "execution_count": 8,
   "id": "96d9ba75",
   "metadata": {},
   "outputs": [
    {
     "data": {
      "text/plain": [
       "cheap        20010\n",
       "medium       12490\n",
       "expensive    21440\n",
       "Name: price_label, dtype: int64"
      ]
     },
     "execution_count": 8,
     "metadata": {},
     "output_type": "execute_result"
    }
   ],
   "source": [
    "data_cat['price_label'].value_counts(sort=False)"
   ]
  },
  {
   "cell_type": "code",
   "execution_count": null,
   "id": "7291a550",
   "metadata": {},
   "outputs": [],
   "source": []
  },
  {
   "cell_type": "code",
   "execution_count": 9,
   "id": "449cfc71",
   "metadata": {},
   "outputs": [],
   "source": [
    "from sklearn.cluster import KMeans\n",
    "def clasters(data, n_clusters):\n",
    "    criterions = []\n",
    "    labels = []\n",
    "\n",
    "    for i in range(12):\n",
    "        kmeans = KMeans(n_clusters=n_clusters, init='random', n_init=1)\n",
    "        kmeans.fit(data)\n",
    "        criterions.append(kmeans.inertia_)\n",
    "        labels.append(kmeans.labels_)\n",
    "\n",
    "    opt_ind = np.argmin(criterions)\n",
    "    opt_criterion = criterions[opt_ind]\n",
    "    opt_label = labels[opt_ind]\n",
    "    \n",
    "    return criterions, labels, opt_criterion, opt_label"
   ]
  },
  {
   "cell_type": "code",
   "execution_count": 10,
   "id": "7da5b283",
   "metadata": {},
   "outputs": [],
   "source": [
    "numeric =  ['carat', 'depth', 'table', 'price', 'x', 'y', 'z']\n",
    "norm_data = (data[numeric] - data[numeric].mean()) / data[numeric].std()\n",
    "criterions5, labels5, opt_criterion5, opt_label5 = clasters(norm_data, 5)"
   ]
  },
  {
   "cell_type": "code",
   "execution_count": 11,
   "id": "eea706fc",
   "metadata": {},
   "outputs": [],
   "source": [
    "claster_data5 = data[numeric].copy()\n",
    "claster_data5.loc[:, 'label5'] = opt_label5"
   ]
  },
  {
   "cell_type": "code",
   "execution_count": null,
   "id": "6e5a2467",
   "metadata": {},
   "outputs": [],
   "source": []
  },
  {
   "cell_type": "markdown",
   "id": "f418cbb8",
   "metadata": {},
   "source": [
    "Карат - кластер и цена - кластер"
   ]
  },
  {
   "cell_type": "code",
   "execution_count": 12,
   "id": "6346eeee",
   "metadata": {},
   "outputs": [
    {
     "data": {
      "text/html": [
       "<div>\n",
       "<style scoped>\n",
       "    .dataframe tbody tr th:only-of-type {\n",
       "        vertical-align: middle;\n",
       "    }\n",
       "\n",
       "    .dataframe tbody tr th {\n",
       "        vertical-align: top;\n",
       "    }\n",
       "\n",
       "    .dataframe thead th {\n",
       "        text-align: right;\n",
       "    }\n",
       "</style>\n",
       "<table border=\"1\" class=\"dataframe\">\n",
       "  <thead>\n",
       "    <tr style=\"text-align: right;\">\n",
       "      <th>label5</th>\n",
       "      <th>0</th>\n",
       "      <th>1</th>\n",
       "      <th>2</th>\n",
       "      <th>3</th>\n",
       "      <th>4</th>\n",
       "      <th>All</th>\n",
       "    </tr>\n",
       "    <tr>\n",
       "      <th>carat_label</th>\n",
       "      <th></th>\n",
       "      <th></th>\n",
       "      <th></th>\n",
       "      <th></th>\n",
       "      <th></th>\n",
       "      <th></th>\n",
       "    </tr>\n",
       "  </thead>\n",
       "  <tbody>\n",
       "    <tr>\n",
       "      <th>big</th>\n",
       "      <td>106</td>\n",
       "      <td>2</td>\n",
       "      <td>5970</td>\n",
       "      <td>213</td>\n",
       "      <td>1</td>\n",
       "      <td>6292</td>\n",
       "    </tr>\n",
       "    <tr>\n",
       "      <th>medium</th>\n",
       "      <td>16081</td>\n",
       "      <td>99</td>\n",
       "      <td>714</td>\n",
       "      <td>5732</td>\n",
       "      <td>53</td>\n",
       "      <td>22679</td>\n",
       "    </tr>\n",
       "    <tr>\n",
       "      <th>small</th>\n",
       "      <td>32</td>\n",
       "      <td>7625</td>\n",
       "      <td>2</td>\n",
       "      <td>76</td>\n",
       "      <td>17234</td>\n",
       "      <td>24969</td>\n",
       "    </tr>\n",
       "    <tr>\n",
       "      <th>All</th>\n",
       "      <td>16219</td>\n",
       "      <td>7726</td>\n",
       "      <td>6686</td>\n",
       "      <td>6021</td>\n",
       "      <td>17288</td>\n",
       "      <td>53940</td>\n",
       "    </tr>\n",
       "  </tbody>\n",
       "</table>\n",
       "</div>"
      ],
      "text/plain": [
       "label5           0     1     2     3      4    All\n",
       "carat_label                                       \n",
       "big            106     2  5970   213      1   6292\n",
       "medium       16081    99   714  5732     53  22679\n",
       "small           32  7625     2    76  17234  24969\n",
       "All          16219  7726  6686  6021  17288  53940"
      ]
     },
     "execution_count": 12,
     "metadata": {},
     "output_type": "execute_result"
    }
   ],
   "source": [
    "crosstab_carat1 = pd.crosstab(data_cat['carat_label'], claster_data5['label5'], margins = True)\n",
    "crosstab_carat2 = pd.crosstab(data_cat['carat_label'], claster_data5['label5'], margins = False)\n",
    "crosstab_carat1 # матрица сопряженности"
   ]
  },
  {
   "cell_type": "code",
   "execution_count": 13,
   "id": "49923ed4",
   "metadata": {},
   "outputs": [
    {
     "data": {
      "text/html": [
       "<div>\n",
       "<style scoped>\n",
       "    .dataframe tbody tr th:only-of-type {\n",
       "        vertical-align: middle;\n",
       "    }\n",
       "\n",
       "    .dataframe tbody tr th {\n",
       "        vertical-align: top;\n",
       "    }\n",
       "\n",
       "    .dataframe thead th {\n",
       "        text-align: right;\n",
       "    }\n",
       "</style>\n",
       "<table border=\"1\" class=\"dataframe\">\n",
       "  <thead>\n",
       "    <tr style=\"text-align: right;\">\n",
       "      <th>label5</th>\n",
       "      <th>0</th>\n",
       "      <th>1</th>\n",
       "      <th>2</th>\n",
       "      <th>3</th>\n",
       "      <th>4</th>\n",
       "      <th>All</th>\n",
       "    </tr>\n",
       "    <tr>\n",
       "      <th>price_label</th>\n",
       "      <th></th>\n",
       "      <th></th>\n",
       "      <th></th>\n",
       "      <th></th>\n",
       "      <th></th>\n",
       "      <th></th>\n",
       "    </tr>\n",
       "  </thead>\n",
       "  <tbody>\n",
       "    <tr>\n",
       "      <th>cheap</th>\n",
       "      <td>65</td>\n",
       "      <td>6296</td>\n",
       "      <td>0</td>\n",
       "      <td>31</td>\n",
       "      <td>13618</td>\n",
       "      <td>20010</td>\n",
       "    </tr>\n",
       "    <tr>\n",
       "      <th>expensive</th>\n",
       "      <td>10636</td>\n",
       "      <td>18</td>\n",
       "      <td>6684</td>\n",
       "      <td>4076</td>\n",
       "      <td>26</td>\n",
       "      <td>21440</td>\n",
       "    </tr>\n",
       "    <tr>\n",
       "      <th>medium</th>\n",
       "      <td>5518</td>\n",
       "      <td>1412</td>\n",
       "      <td>2</td>\n",
       "      <td>1914</td>\n",
       "      <td>3644</td>\n",
       "      <td>12490</td>\n",
       "    </tr>\n",
       "    <tr>\n",
       "      <th>All</th>\n",
       "      <td>16219</td>\n",
       "      <td>7726</td>\n",
       "      <td>6686</td>\n",
       "      <td>6021</td>\n",
       "      <td>17288</td>\n",
       "      <td>53940</td>\n",
       "    </tr>\n",
       "  </tbody>\n",
       "</table>\n",
       "</div>"
      ],
      "text/plain": [
       "label5           0     1     2     3      4    All\n",
       "price_label                                       \n",
       "cheap           65  6296     0    31  13618  20010\n",
       "expensive    10636    18  6684  4076     26  21440\n",
       "medium        5518  1412     2  1914   3644  12490\n",
       "All          16219  7726  6686  6021  17288  53940"
      ]
     },
     "execution_count": 13,
     "metadata": {},
     "output_type": "execute_result"
    }
   ],
   "source": [
    "crosstab_price1 = pd.crosstab(data_cat['price_label'], claster_data5['label5'], margins = True)\n",
    "crosstab_price2 = pd.crosstab(data_cat['price_label'], claster_data5['label5'], margins = False)\n",
    "crosstab_price1 # матрица сопряженности"
   ]
  },
  {
   "cell_type": "code",
   "execution_count": 14,
   "id": "b0d77ee7",
   "metadata": {},
   "outputs": [
    {
     "data": {
      "text/html": [
       "<div>\n",
       "<style scoped>\n",
       "    .dataframe tbody tr th:only-of-type {\n",
       "        vertical-align: middle;\n",
       "    }\n",
       "\n",
       "    .dataframe tbody tr th {\n",
       "        vertical-align: top;\n",
       "    }\n",
       "\n",
       "    .dataframe thead th {\n",
       "        text-align: right;\n",
       "    }\n",
       "</style>\n",
       "<table border=\"1\" class=\"dataframe\">\n",
       "  <thead>\n",
       "    <tr style=\"text-align: right;\">\n",
       "      <th>label5</th>\n",
       "      <th>0</th>\n",
       "      <th>1</th>\n",
       "      <th>2</th>\n",
       "      <th>3</th>\n",
       "      <th>4</th>\n",
       "      <th>All</th>\n",
       "    </tr>\n",
       "    <tr>\n",
       "      <th>price_label</th>\n",
       "      <th></th>\n",
       "      <th></th>\n",
       "      <th></th>\n",
       "      <th></th>\n",
       "      <th></th>\n",
       "      <th></th>\n",
       "    </tr>\n",
       "  </thead>\n",
       "  <tbody>\n",
       "    <tr>\n",
       "      <th>cheap</th>\n",
       "      <td>65</td>\n",
       "      <td>6296</td>\n",
       "      <td>0</td>\n",
       "      <td>31</td>\n",
       "      <td>13618</td>\n",
       "      <td>20010</td>\n",
       "    </tr>\n",
       "    <tr>\n",
       "      <th>medium</th>\n",
       "      <td>5518</td>\n",
       "      <td>1412</td>\n",
       "      <td>2</td>\n",
       "      <td>1914</td>\n",
       "      <td>3644</td>\n",
       "      <td>12490</td>\n",
       "    </tr>\n",
       "    <tr>\n",
       "      <th>expensive</th>\n",
       "      <td>10636</td>\n",
       "      <td>18</td>\n",
       "      <td>6684</td>\n",
       "      <td>4076</td>\n",
       "      <td>26</td>\n",
       "      <td>21440</td>\n",
       "    </tr>\n",
       "  </tbody>\n",
       "</table>\n",
       "</div>"
      ],
      "text/plain": [
       "label5           0     1     2     3      4    All\n",
       "price_label                                       \n",
       "cheap           65  6296     0    31  13618  20010\n",
       "medium        5518  1412     2  1914   3644  12490\n",
       "expensive    10636    18  6684  4076     26  21440"
      ]
     },
     "execution_count": 14,
     "metadata": {},
     "output_type": "execute_result"
    }
   ],
   "source": [
    "t2 = crosstab_price1.reindex(['cheap','medium','expensive'])\n",
    "t2"
   ]
  },
  {
   "cell_type": "code",
   "execution_count": null,
   "id": "8216a2a6",
   "metadata": {},
   "outputs": [],
   "source": []
  },
  {
   "cell_type": "code",
   "execution_count": 15,
   "id": "54846f95",
   "metadata": {},
   "outputs": [
    {
     "data": {
      "text/html": [
       "<div>\n",
       "<style scoped>\n",
       "    .dataframe tbody tr th:only-of-type {\n",
       "        vertical-align: middle;\n",
       "    }\n",
       "\n",
       "    .dataframe tbody tr th {\n",
       "        vertical-align: top;\n",
       "    }\n",
       "\n",
       "    .dataframe thead th {\n",
       "        text-align: right;\n",
       "    }\n",
       "</style>\n",
       "<table border=\"1\" class=\"dataframe\">\n",
       "  <thead>\n",
       "    <tr style=\"text-align: right;\">\n",
       "      <th>label5</th>\n",
       "      <th>0</th>\n",
       "      <th>1</th>\n",
       "      <th>2</th>\n",
       "      <th>3</th>\n",
       "      <th>4</th>\n",
       "      <th>All</th>\n",
       "    </tr>\n",
       "    <tr>\n",
       "      <th>carat_label</th>\n",
       "      <th></th>\n",
       "      <th></th>\n",
       "      <th></th>\n",
       "      <th></th>\n",
       "      <th></th>\n",
       "      <th></th>\n",
       "    </tr>\n",
       "  </thead>\n",
       "  <tbody>\n",
       "    <tr>\n",
       "      <th>big</th>\n",
       "      <td>0.001965</td>\n",
       "      <td>0.000037</td>\n",
       "      <td>0.110679</td>\n",
       "      <td>0.003949</td>\n",
       "      <td>0.000019</td>\n",
       "      <td>0.116648</td>\n",
       "    </tr>\n",
       "    <tr>\n",
       "      <th>medium</th>\n",
       "      <td>0.298128</td>\n",
       "      <td>0.001835</td>\n",
       "      <td>0.013237</td>\n",
       "      <td>0.106266</td>\n",
       "      <td>0.000983</td>\n",
       "      <td>0.420449</td>\n",
       "    </tr>\n",
       "    <tr>\n",
       "      <th>small</th>\n",
       "      <td>0.000593</td>\n",
       "      <td>0.141361</td>\n",
       "      <td>0.000037</td>\n",
       "      <td>0.001409</td>\n",
       "      <td>0.319503</td>\n",
       "      <td>0.462903</td>\n",
       "    </tr>\n",
       "    <tr>\n",
       "      <th>All</th>\n",
       "      <td>0.300686</td>\n",
       "      <td>0.143233</td>\n",
       "      <td>0.123953</td>\n",
       "      <td>0.111624</td>\n",
       "      <td>0.320504</td>\n",
       "      <td>1.000000</td>\n",
       "    </tr>\n",
       "  </tbody>\n",
       "</table>\n",
       "</div>"
      ],
      "text/plain": [
       "label5              0         1         2         3         4       All\n",
       "carat_label                                                            \n",
       "big          0.001965  0.000037  0.110679  0.003949  0.000019  0.116648\n",
       "medium       0.298128  0.001835  0.013237  0.106266  0.000983  0.420449\n",
       "small        0.000593  0.141361  0.000037  0.001409  0.319503  0.462903\n",
       "All          0.300686  0.143233  0.123953  0.111624  0.320504  1.000000"
      ]
     },
     "execution_count": 15,
     "metadata": {},
     "output_type": "execute_result"
    }
   ],
   "source": [
    "carat_prob = pd.crosstab(data_cat['carat_label'], claster_data5['label5'], normalize = True, margins = True)\n",
    "carat_prob # частоты"
   ]
  },
  {
   "cell_type": "code",
   "execution_count": 16,
   "id": "77793f18",
   "metadata": {},
   "outputs": [
    {
     "data": {
      "text/html": [
       "<div>\n",
       "<style scoped>\n",
       "    .dataframe tbody tr th:only-of-type {\n",
       "        vertical-align: middle;\n",
       "    }\n",
       "\n",
       "    .dataframe tbody tr th {\n",
       "        vertical-align: top;\n",
       "    }\n",
       "\n",
       "    .dataframe thead th {\n",
       "        text-align: right;\n",
       "    }\n",
       "</style>\n",
       "<table border=\"1\" class=\"dataframe\">\n",
       "  <thead>\n",
       "    <tr style=\"text-align: right;\">\n",
       "      <th>label5</th>\n",
       "      <th>0</th>\n",
       "      <th>1</th>\n",
       "      <th>2</th>\n",
       "      <th>3</th>\n",
       "      <th>4</th>\n",
       "      <th>All</th>\n",
       "    </tr>\n",
       "    <tr>\n",
       "      <th>price_label</th>\n",
       "      <th></th>\n",
       "      <th></th>\n",
       "      <th></th>\n",
       "      <th></th>\n",
       "      <th></th>\n",
       "      <th></th>\n",
       "    </tr>\n",
       "  </thead>\n",
       "  <tbody>\n",
       "    <tr>\n",
       "      <th>cheap</th>\n",
       "      <td>0.001205</td>\n",
       "      <td>0.116722</td>\n",
       "      <td>0.000000</td>\n",
       "      <td>0.000575</td>\n",
       "      <td>0.252466</td>\n",
       "      <td>0.370968</td>\n",
       "    </tr>\n",
       "    <tr>\n",
       "      <th>expensive</th>\n",
       "      <td>0.197182</td>\n",
       "      <td>0.000334</td>\n",
       "      <td>0.123915</td>\n",
       "      <td>0.075565</td>\n",
       "      <td>0.000482</td>\n",
       "      <td>0.397479</td>\n",
       "    </tr>\n",
       "    <tr>\n",
       "      <th>medium</th>\n",
       "      <td>0.102299</td>\n",
       "      <td>0.026177</td>\n",
       "      <td>0.000037</td>\n",
       "      <td>0.035484</td>\n",
       "      <td>0.067557</td>\n",
       "      <td>0.231554</td>\n",
       "    </tr>\n",
       "    <tr>\n",
       "      <th>All</th>\n",
       "      <td>0.300686</td>\n",
       "      <td>0.143233</td>\n",
       "      <td>0.123953</td>\n",
       "      <td>0.111624</td>\n",
       "      <td>0.320504</td>\n",
       "      <td>1.000000</td>\n",
       "    </tr>\n",
       "  </tbody>\n",
       "</table>\n",
       "</div>"
      ],
      "text/plain": [
       "label5              0         1         2         3         4       All\n",
       "price_label                                                            \n",
       "cheap        0.001205  0.116722  0.000000  0.000575  0.252466  0.370968\n",
       "expensive    0.197182  0.000334  0.123915  0.075565  0.000482  0.397479\n",
       "medium       0.102299  0.026177  0.000037  0.035484  0.067557  0.231554\n",
       "All          0.300686  0.143233  0.123953  0.111624  0.320504  1.000000"
      ]
     },
     "execution_count": 16,
     "metadata": {},
     "output_type": "execute_result"
    }
   ],
   "source": [
    "price_prob = pd.crosstab(data_cat['price_label'], claster_data5['label5'], normalize = True, margins = True)\n",
    "price_prob # частоты"
   ]
  },
  {
   "cell_type": "code",
   "execution_count": null,
   "id": "379bc9d0",
   "metadata": {},
   "outputs": [],
   "source": []
  },
  {
   "cell_type": "code",
   "execution_count": 17,
   "id": "71da03a2",
   "metadata": {},
   "outputs": [
    {
     "data": {
      "text/plain": [
       "array([16219,  7726,  6686,  6021, 17288])"
      ]
     },
     "execution_count": 17,
     "metadata": {},
     "output_type": "execute_result"
    }
   ],
   "source": [
    "np.array(crosstab_carat1[-1:])[0][:-1]"
   ]
  },
  {
   "cell_type": "code",
   "execution_count": 18,
   "id": "bc8ce4ad",
   "metadata": {},
   "outputs": [
    {
     "data": {
      "text/html": [
       "<div>\n",
       "<style scoped>\n",
       "    .dataframe tbody tr th:only-of-type {\n",
       "        vertical-align: middle;\n",
       "    }\n",
       "\n",
       "    .dataframe tbody tr th {\n",
       "        vertical-align: top;\n",
       "    }\n",
       "\n",
       "    .dataframe thead th {\n",
       "        text-align: right;\n",
       "    }\n",
       "</style>\n",
       "<table border=\"1\" class=\"dataframe\">\n",
       "  <thead>\n",
       "    <tr style=\"text-align: right;\">\n",
       "      <th>label5</th>\n",
       "      <th>0</th>\n",
       "      <th>1</th>\n",
       "      <th>2</th>\n",
       "      <th>3</th>\n",
       "      <th>4</th>\n",
       "    </tr>\n",
       "    <tr>\n",
       "      <th>carat_label</th>\n",
       "      <th></th>\n",
       "      <th></th>\n",
       "      <th></th>\n",
       "      <th></th>\n",
       "      <th></th>\n",
       "    </tr>\n",
       "  </thead>\n",
       "  <tbody>\n",
       "    <tr>\n",
       "      <th>big</th>\n",
       "      <td>0.006536</td>\n",
       "      <td>0.000259</td>\n",
       "      <td>0.892911</td>\n",
       "      <td>0.035376</td>\n",
       "      <td>0.000058</td>\n",
       "    </tr>\n",
       "    <tr>\n",
       "      <th>medium</th>\n",
       "      <td>0.991491</td>\n",
       "      <td>0.012814</td>\n",
       "      <td>0.106790</td>\n",
       "      <td>0.952001</td>\n",
       "      <td>0.003066</td>\n",
       "    </tr>\n",
       "    <tr>\n",
       "      <th>small</th>\n",
       "      <td>0.001973</td>\n",
       "      <td>0.986927</td>\n",
       "      <td>0.000299</td>\n",
       "      <td>0.012622</td>\n",
       "      <td>0.996876</td>\n",
       "    </tr>\n",
       "  </tbody>\n",
       "</table>\n",
       "</div>"
      ],
      "text/plain": [
       "label5              0         1         2         3         4\n",
       "carat_label                                                  \n",
       "big          0.006536  0.000259  0.892911  0.035376  0.000058\n",
       "medium       0.991491  0.012814  0.106790  0.952001  0.003066\n",
       "small        0.001973  0.986927  0.000299  0.012622  0.996876"
      ]
     },
     "execution_count": 18,
     "metadata": {},
     "output_type": "execute_result"
    }
   ],
   "source": [
    "cond_prob_carat = np.divide(crosstab_carat2, np.array(crosstab_carat1[-1:])[0][:-1])\n",
    "cond_prob_carat # матрица условных вероятностей (суммы по столбцам равны 1)"
   ]
  },
  {
   "cell_type": "code",
   "execution_count": 19,
   "id": "ca689ea1",
   "metadata": {},
   "outputs": [
    {
     "data": {
      "text/html": [
       "<div>\n",
       "<style scoped>\n",
       "    .dataframe tbody tr th:only-of-type {\n",
       "        vertical-align: middle;\n",
       "    }\n",
       "\n",
       "    .dataframe tbody tr th {\n",
       "        vertical-align: top;\n",
       "    }\n",
       "\n",
       "    .dataframe thead th {\n",
       "        text-align: right;\n",
       "    }\n",
       "</style>\n",
       "<table border=\"1\" class=\"dataframe\">\n",
       "  <thead>\n",
       "    <tr style=\"text-align: right;\">\n",
       "      <th>label5</th>\n",
       "      <th>0</th>\n",
       "      <th>1</th>\n",
       "      <th>2</th>\n",
       "      <th>3</th>\n",
       "      <th>4</th>\n",
       "    </tr>\n",
       "    <tr>\n",
       "      <th>price_label</th>\n",
       "      <th></th>\n",
       "      <th></th>\n",
       "      <th></th>\n",
       "      <th></th>\n",
       "      <th></th>\n",
       "    </tr>\n",
       "  </thead>\n",
       "  <tbody>\n",
       "    <tr>\n",
       "      <th>cheap</th>\n",
       "      <td>0.004008</td>\n",
       "      <td>0.814911</td>\n",
       "      <td>0.000000</td>\n",
       "      <td>0.005149</td>\n",
       "      <td>0.787714</td>\n",
       "    </tr>\n",
       "    <tr>\n",
       "      <th>expensive</th>\n",
       "      <td>0.655774</td>\n",
       "      <td>0.002330</td>\n",
       "      <td>0.999701</td>\n",
       "      <td>0.676964</td>\n",
       "      <td>0.001504</td>\n",
       "    </tr>\n",
       "    <tr>\n",
       "      <th>medium</th>\n",
       "      <td>0.340218</td>\n",
       "      <td>0.182760</td>\n",
       "      <td>0.000299</td>\n",
       "      <td>0.317887</td>\n",
       "      <td>0.210782</td>\n",
       "    </tr>\n",
       "  </tbody>\n",
       "</table>\n",
       "</div>"
      ],
      "text/plain": [
       "label5              0         1         2         3         4\n",
       "price_label                                                  \n",
       "cheap        0.004008  0.814911  0.000000  0.005149  0.787714\n",
       "expensive    0.655774  0.002330  0.999701  0.676964  0.001504\n",
       "medium       0.340218  0.182760  0.000299  0.317887  0.210782"
      ]
     },
     "execution_count": 19,
     "metadata": {},
     "output_type": "execute_result"
    }
   ],
   "source": [
    "cond_prob_price = np.divide(crosstab_price2, np.array(crosstab_price1[-1:])[0][:-1])\n",
    "cond_prob_price # матрица условных вероятностей (суммы по столбцам равны 1)"
   ]
  },
  {
   "cell_type": "code",
   "execution_count": 20,
   "id": "94baa56d",
   "metadata": {},
   "outputs": [
    {
     "data": {
      "text/html": [
       "<div>\n",
       "<style scoped>\n",
       "    .dataframe tbody tr th:only-of-type {\n",
       "        vertical-align: middle;\n",
       "    }\n",
       "\n",
       "    .dataframe tbody tr th {\n",
       "        vertical-align: top;\n",
       "    }\n",
       "\n",
       "    .dataframe thead th {\n",
       "        text-align: right;\n",
       "    }\n",
       "</style>\n",
       "<table border=\"1\" class=\"dataframe\">\n",
       "  <thead>\n",
       "    <tr style=\"text-align: right;\">\n",
       "      <th>label5</th>\n",
       "      <th>0</th>\n",
       "      <th>1</th>\n",
       "      <th>2</th>\n",
       "      <th>3</th>\n",
       "      <th>4</th>\n",
       "    </tr>\n",
       "    <tr>\n",
       "      <th>price_label</th>\n",
       "      <th></th>\n",
       "      <th></th>\n",
       "      <th></th>\n",
       "      <th></th>\n",
       "      <th></th>\n",
       "    </tr>\n",
       "  </thead>\n",
       "  <tbody>\n",
       "    <tr>\n",
       "      <th>cheap</th>\n",
       "      <td>0.004008</td>\n",
       "      <td>0.814911</td>\n",
       "      <td>0.000000</td>\n",
       "      <td>0.005149</td>\n",
       "      <td>0.787714</td>\n",
       "    </tr>\n",
       "    <tr>\n",
       "      <th>medium</th>\n",
       "      <td>0.340218</td>\n",
       "      <td>0.182760</td>\n",
       "      <td>0.000299</td>\n",
       "      <td>0.317887</td>\n",
       "      <td>0.210782</td>\n",
       "    </tr>\n",
       "    <tr>\n",
       "      <th>expensive</th>\n",
       "      <td>0.655774</td>\n",
       "      <td>0.002330</td>\n",
       "      <td>0.999701</td>\n",
       "      <td>0.676964</td>\n",
       "      <td>0.001504</td>\n",
       "    </tr>\n",
       "  </tbody>\n",
       "</table>\n",
       "</div>"
      ],
      "text/plain": [
       "label5              0         1         2         3         4\n",
       "price_label                                                  \n",
       "cheap        0.004008  0.814911  0.000000  0.005149  0.787714\n",
       "medium       0.340218  0.182760  0.000299  0.317887  0.210782\n",
       "expensive    0.655774  0.002330  0.999701  0.676964  0.001504"
      ]
     },
     "execution_count": 20,
     "metadata": {},
     "output_type": "execute_result"
    }
   ],
   "source": [
    "t_cond_prob_price = cond_prob_price.reindex(['cheap','medium','expensive'])\n",
    "t_cond_prob_price"
   ]
  },
  {
   "cell_type": "code",
   "execution_count": null,
   "id": "3db6c375",
   "metadata": {},
   "outputs": [],
   "source": []
  },
  {
   "cell_type": "code",
   "execution_count": 21,
   "id": "8f8c7f1b",
   "metadata": {},
   "outputs": [
    {
     "data": {
      "text/plain": [
       "array([[0.11664813],\n",
       "       [0.42044865],\n",
       "       [0.46290323],\n",
       "       [1.        ]])"
      ]
     },
     "execution_count": 21,
     "metadata": {},
     "output_type": "execute_result"
    }
   ],
   "source": [
    "carat_prob.iloc[:, -1].values[:, None] "
   ]
  },
  {
   "cell_type": "code",
   "execution_count": 22,
   "id": "a6ce0cbc",
   "metadata": {},
   "outputs": [
    {
     "data": {
      "text/plain": [
       "array([[0.30068595, 0.14323322, 0.12395254, 0.11162403, 0.32050426,\n",
       "        1.        ]])"
      ]
     },
     "execution_count": 22,
     "metadata": {},
     "output_type": "execute_result"
    }
   ],
   "source": [
    "carat_prob.iloc[-1, :].values[None, :]"
   ]
  },
  {
   "cell_type": "code",
   "execution_count": 23,
   "id": "8519e98c",
   "metadata": {},
   "outputs": [
    {
     "data": {
      "text/plain": [
       "array([[0.03507445, 0.01670789, 0.01445883, 0.01302073, 0.03738622,\n",
       "        0.11664813],\n",
       "       [0.126423  , 0.06022221, 0.05211568, 0.04693217, 0.13475558,\n",
       "        0.42044865],\n",
       "       [0.13918849, 0.06630312, 0.05737803, 0.05167112, 0.14836246,\n",
       "        0.46290323],\n",
       "       [0.30068595, 0.14323322, 0.12395254, 0.11162403, 0.32050426,\n",
       "        1.        ]])"
      ]
     },
     "execution_count": 23,
     "metadata": {},
     "output_type": "execute_result"
    }
   ],
   "source": [
    "c_prob = carat_prob.iloc[:, -1].values[:, None] @ carat_prob.iloc[-1, :].values[None, :]\n",
    "c_prob # матрица распределения при условии независимости признаков"
   ]
  },
  {
   "cell_type": "code",
   "execution_count": 24,
   "id": "e94a23c0",
   "metadata": {},
   "outputs": [
    {
     "data": {
      "text/plain": [
       "array([[0.11154479, 0.0531349 , 0.04598239, 0.04140891, 0.11889674,\n",
       "        0.37096774],\n",
       "       [0.11951625, 0.05693215, 0.04926849, 0.04436817, 0.12739361,\n",
       "        0.39747868],\n",
       "       [0.06962491, 0.03316617, 0.02870165, 0.02584694, 0.07421391,\n",
       "        0.23155358],\n",
       "       [0.30068595, 0.14323322, 0.12395254, 0.11162403, 0.32050426,\n",
       "        1.        ]])"
      ]
     },
     "execution_count": 24,
     "metadata": {},
     "output_type": "execute_result"
    }
   ],
   "source": [
    "p_prob = price_prob.iloc[:, -1].values[:, None] @ price_prob.iloc[-1, :].values[None, :]\n",
    "p_prob # матрица распределения при условии независимости признаков"
   ]
  },
  {
   "cell_type": "code",
   "execution_count": null,
   "id": "c53e2ef2",
   "metadata": {},
   "outputs": [],
   "source": []
  },
  {
   "cell_type": "code",
   "execution_count": 32,
   "id": "1ca6bbb8",
   "metadata": {},
   "outputs": [
    {
     "data": {
      "text/html": [
       "<div>\n",
       "<style scoped>\n",
       "    .dataframe tbody tr th:only-of-type {\n",
       "        vertical-align: middle;\n",
       "    }\n",
       "\n",
       "    .dataframe tbody tr th {\n",
       "        vertical-align: top;\n",
       "    }\n",
       "\n",
       "    .dataframe thead th {\n",
       "        text-align: right;\n",
       "    }\n",
       "</style>\n",
       "<table border=\"1\" class=\"dataframe\">\n",
       "  <thead>\n",
       "    <tr style=\"text-align: right;\">\n",
       "      <th>label5</th>\n",
       "      <th>0</th>\n",
       "      <th>1</th>\n",
       "      <th>2</th>\n",
       "      <th>3</th>\n",
       "      <th>4</th>\n",
       "      <th>All</th>\n",
       "    </tr>\n",
       "    <tr>\n",
       "      <th>carat_label</th>\n",
       "      <th></th>\n",
       "      <th></th>\n",
       "      <th></th>\n",
       "      <th></th>\n",
       "      <th></th>\n",
       "      <th></th>\n",
       "    </tr>\n",
       "  </thead>\n",
       "  <tbody>\n",
       "    <tr>\n",
       "      <th>big</th>\n",
       "      <td>-94.397214</td>\n",
       "      <td>-99.778079</td>\n",
       "      <td>665.473547</td>\n",
       "      <td>-69.672738</td>\n",
       "      <td>-99.950412</td>\n",
       "      <td>0.0</td>\n",
       "    </tr>\n",
       "    <tr>\n",
       "      <th>medium</th>\n",
       "      <td>135.817494</td>\n",
       "      <td>-96.952333</td>\n",
       "      <td>-74.600868</td>\n",
       "      <td>126.425114</td>\n",
       "      <td>-99.270848</td>\n",
       "      <td>0.0</td>\n",
       "    </tr>\n",
       "    <tr>\n",
       "      <th>small</th>\n",
       "      <td>-99.573778</td>\n",
       "      <td>113.203798</td>\n",
       "      <td>-99.935379</td>\n",
       "      <td>-97.273191</td>\n",
       "      <td>115.353100</td>\n",
       "      <td>0.0</td>\n",
       "    </tr>\n",
       "    <tr>\n",
       "      <th>All</th>\n",
       "      <td>0.000000</td>\n",
       "      <td>0.000000</td>\n",
       "      <td>0.000000</td>\n",
       "      <td>0.000000</td>\n",
       "      <td>0.000000</td>\n",
       "      <td>0.0</td>\n",
       "    </tr>\n",
       "  </tbody>\n",
       "</table>\n",
       "</div>"
      ],
      "text/plain": [
       "label5                0           1           2           3           4  All\n",
       "carat_label                                                                 \n",
       "big          -94.397214  -99.778079  665.473547  -69.672738  -99.950412  0.0\n",
       "medium       135.817494  -96.952333  -74.600868  126.425114  -99.270848  0.0\n",
       "small        -99.573778  113.203798  -99.935379  -97.273191  115.353100  0.0\n",
       "All            0.000000    0.000000    0.000000    0.000000    0.000000  0.0"
      ]
     },
     "execution_count": 32,
     "metadata": {},
     "output_type": "execute_result"
    }
   ],
   "source": [
    "c_quetle =carat_prob / c_prob - 1\n",
    "c_quetle*100 # матрица индексов Кетле"
   ]
  },
  {
   "cell_type": "code",
   "execution_count": 31,
   "id": "7b080d88",
   "metadata": {},
   "outputs": [],
   "source": [
    "p_quetle = price_prob / p_prob - 1\n",
    "p_quetle # матрица индексов Кетле"
   ]
  },
  {
   "cell_type": "code",
   "execution_count": 33,
   "id": "98263d07",
   "metadata": {},
   "outputs": [
    {
     "data": {
      "text/html": [
       "<div>\n",
       "<style scoped>\n",
       "    .dataframe tbody tr th:only-of-type {\n",
       "        vertical-align: middle;\n",
       "    }\n",
       "\n",
       "    .dataframe tbody tr th {\n",
       "        vertical-align: top;\n",
       "    }\n",
       "\n",
       "    .dataframe thead th {\n",
       "        text-align: right;\n",
       "    }\n",
       "</style>\n",
       "<table border=\"1\" class=\"dataframe\">\n",
       "  <thead>\n",
       "    <tr style=\"text-align: right;\">\n",
       "      <th>label5</th>\n",
       "      <th>0</th>\n",
       "      <th>1</th>\n",
       "      <th>2</th>\n",
       "      <th>3</th>\n",
       "      <th>4</th>\n",
       "      <th>All</th>\n",
       "    </tr>\n",
       "    <tr>\n",
       "      <th>price_label</th>\n",
       "      <th></th>\n",
       "      <th></th>\n",
       "      <th></th>\n",
       "      <th></th>\n",
       "      <th></th>\n",
       "      <th></th>\n",
       "    </tr>\n",
       "  </thead>\n",
       "  <tbody>\n",
       "    <tr>\n",
       "      <th>cheap</th>\n",
       "      <td>-98.919678</td>\n",
       "      <td>119.671578</td>\n",
       "      <td>-100.000000</td>\n",
       "      <td>-98.612104</td>\n",
       "      <td>112.340301</td>\n",
       "      <td>0.0</td>\n",
       "    </tr>\n",
       "    <tr>\n",
       "      <th>medium</th>\n",
       "      <td>46.928527</td>\n",
       "      <td>-21.072473</td>\n",
       "      <td>-99.870815</td>\n",
       "      <td>37.284596</td>\n",
       "      <td>-8.970508</td>\n",
       "      <td>0.0</td>\n",
       "    </tr>\n",
       "    <tr>\n",
       "      <th>expensive</th>\n",
       "      <td>64.983463</td>\n",
       "      <td>-99.413856</td>\n",
       "      <td>151.510563</td>\n",
       "      <td>70.314533</td>\n",
       "      <td>-99.621632</td>\n",
       "      <td>0.0</td>\n",
       "    </tr>\n",
       "  </tbody>\n",
       "</table>\n",
       "</div>"
      ],
      "text/plain": [
       "label5               0           1           2          3           4  All\n",
       "price_label                                                               \n",
       "cheap       -98.919678  119.671578 -100.000000 -98.612104  112.340301  0.0\n",
       "medium       46.928527  -21.072473  -99.870815  37.284596   -8.970508  0.0\n",
       "expensive    64.983463  -99.413856  151.510563  70.314533  -99.621632  0.0"
      ]
     },
     "execution_count": 33,
     "metadata": {},
     "output_type": "execute_result"
    }
   ],
   "source": [
    "t_p_quetle = p_quetle.reindex(['cheap','medium','expensive'])\n",
    "t_p_quetle*100"
   ]
  },
  {
   "cell_type": "code",
   "execution_count": 36,
   "id": "4ef6292a",
   "metadata": {},
   "outputs": [
    {
     "data": {
      "text/plain": [
       "178.5085590387909"
      ]
     },
     "execution_count": 36,
     "metadata": {},
     "output_type": "execute_result"
    }
   ],
   "source": [
    "np.sum((c_quetle.iloc[:-1, :-1] * carat_prob.iloc[:-1, :-1]).values)*100"
   ]
  },
  {
   "cell_type": "code",
   "execution_count": 37,
   "id": "56ab7ead",
   "metadata": {},
   "outputs": [
    {
     "data": {
      "text/plain": [
       "83.93716345473837"
      ]
     },
     "execution_count": 37,
     "metadata": {},
     "output_type": "execute_result"
    }
   ],
   "source": [
    "np.sum((p_quetle.iloc[:-1, :-1] * price_prob.iloc[:-1, :-1]).values)*100"
   ]
  },
  {
   "cell_type": "code",
   "execution_count": 1,
   "id": "db355039",
   "metadata": {},
   "outputs": [
    {
     "ename": "NameError",
     "evalue": "name 'c_quetle' is not defined",
     "output_type": "error",
     "traceback": [
      "\u001b[0;31m---------------------------------------------------------------------------\u001b[0m",
      "\u001b[0;31mNameError\u001b[0m                                 Traceback (most recent call last)",
      "Input \u001b[0;32mIn [1]\u001b[0m, in \u001b[0;36m<cell line: 1>\u001b[0;34m()\u001b[0m\n\u001b[0;32m----> 1\u001b[0m \u001b[43mc_quetle\u001b[49m\n",
      "\u001b[0;31mNameError\u001b[0m: name 'c_quetle' is not defined"
     ]
    }
   ],
   "source": [
    "c_quetle"
   ]
  },
  {
   "cell_type": "code",
   "execution_count": 38,
   "id": "8e856de0",
   "metadata": {},
   "outputs": [
    {
     "data": {
      "text/html": [
       "<div>\n",
       "<style scoped>\n",
       "    .dataframe tbody tr th:only-of-type {\n",
       "        vertical-align: middle;\n",
       "    }\n",
       "\n",
       "    .dataframe tbody tr th {\n",
       "        vertical-align: top;\n",
       "    }\n",
       "\n",
       "    .dataframe thead th {\n",
       "        text-align: right;\n",
       "    }\n",
       "</style>\n",
       "<table border=\"1\" class=\"dataframe\">\n",
       "  <thead>\n",
       "    <tr style=\"text-align: right;\">\n",
       "      <th>label5</th>\n",
       "      <th>0</th>\n",
       "      <th>1</th>\n",
       "      <th>2</th>\n",
       "      <th>3</th>\n",
       "      <th>4</th>\n",
       "    </tr>\n",
       "    <tr>\n",
       "      <th>carat_label</th>\n",
       "      <th></th>\n",
       "      <th></th>\n",
       "      <th></th>\n",
       "      <th></th>\n",
       "      <th></th>\n",
       "    </tr>\n",
       "  </thead>\n",
       "  <tbody>\n",
       "    <tr>\n",
       "      <th>big</th>\n",
       "      <td>0.031254</td>\n",
       "      <td>0.016634</td>\n",
       "      <td>0.640317</td>\n",
       "      <td>0.006321</td>\n",
       "      <td>0.037349</td>\n",
       "    </tr>\n",
       "    <tr>\n",
       "      <th>medium</th>\n",
       "      <td>0.233205</td>\n",
       "      <td>0.056607</td>\n",
       "      <td>0.029004</td>\n",
       "      <td>0.075013</td>\n",
       "      <td>0.132798</td>\n",
       "    </tr>\n",
       "    <tr>\n",
       "      <th>small</th>\n",
       "      <td>0.138005</td>\n",
       "      <td>0.084968</td>\n",
       "      <td>0.057304</td>\n",
       "      <td>0.048892</td>\n",
       "      <td>0.197416</td>\n",
       "    </tr>\n",
       "  </tbody>\n",
       "</table>\n",
       "</div>"
      ],
      "text/plain": [
       "label5              0         1         2         3         4\n",
       "carat_label                                                  \n",
       "big          0.031254  0.016634  0.640317  0.006321  0.037349\n",
       "medium       0.233205  0.056607  0.029004  0.075013  0.132798\n",
       "small        0.138005  0.084968  0.057304  0.048892  0.197416"
      ]
     },
     "execution_count": 38,
     "metadata": {},
     "output_type": "execute_result"
    }
   ],
   "source": [
    "c_kxi = (carat_prob - c_prob)**2 / c_prob\n",
    "c_kxi = c_kxi.iloc[:-1, :-1]\n",
    "c_kxi # хи-квадрат"
   ]
  },
  {
   "cell_type": "code",
   "execution_count": 39,
   "id": "0406f83d",
   "metadata": {},
   "outputs": [
    {
     "data": {
      "text/plain": [
       "1.7850855903879088"
      ]
     },
     "execution_count": 39,
     "metadata": {},
     "output_type": "execute_result"
    }
   ],
   "source": [
    "np.sum(c_kxi.values)"
   ]
  },
  {
   "cell_type": "code",
   "execution_count": 40,
   "id": "aad289ca",
   "metadata": {},
   "outputs": [
    {
     "data": {
      "text/html": [
       "<div>\n",
       "<style scoped>\n",
       "    .dataframe tbody tr th:only-of-type {\n",
       "        vertical-align: middle;\n",
       "    }\n",
       "\n",
       "    .dataframe tbody tr th {\n",
       "        vertical-align: top;\n",
       "    }\n",
       "\n",
       "    .dataframe thead th {\n",
       "        text-align: right;\n",
       "    }\n",
       "</style>\n",
       "<table border=\"1\" class=\"dataframe\">\n",
       "  <thead>\n",
       "    <tr style=\"text-align: right;\">\n",
       "      <th>label5</th>\n",
       "      <th>0</th>\n",
       "      <th>1</th>\n",
       "      <th>2</th>\n",
       "      <th>3</th>\n",
       "      <th>4</th>\n",
       "    </tr>\n",
       "    <tr>\n",
       "      <th>price_label</th>\n",
       "      <th></th>\n",
       "      <th></th>\n",
       "      <th></th>\n",
       "      <th></th>\n",
       "      <th></th>\n",
       "    </tr>\n",
       "  </thead>\n",
       "  <tbody>\n",
       "    <tr>\n",
       "      <th>cheap</th>\n",
       "      <td>0.109148</td>\n",
       "      <td>0.076096</td>\n",
       "      <td>0.045982</td>\n",
       "      <td>0.040267</td>\n",
       "      <td>0.150052</td>\n",
       "    </tr>\n",
       "    <tr>\n",
       "      <th>expensive</th>\n",
       "      <td>0.050470</td>\n",
       "      <td>0.056267</td>\n",
       "      <td>0.113098</td>\n",
       "      <td>0.021936</td>\n",
       "      <td>0.126431</td>\n",
       "    </tr>\n",
       "    <tr>\n",
       "      <th>medium</th>\n",
       "      <td>0.015333</td>\n",
       "      <td>0.001473</td>\n",
       "      <td>0.028628</td>\n",
       "      <td>0.003593</td>\n",
       "      <td>0.000597</td>\n",
       "    </tr>\n",
       "  </tbody>\n",
       "</table>\n",
       "</div>"
      ],
      "text/plain": [
       "label5              0         1         2         3         4\n",
       "price_label                                                  \n",
       "cheap        0.109148  0.076096  0.045982  0.040267  0.150052\n",
       "expensive    0.050470  0.056267  0.113098  0.021936  0.126431\n",
       "medium       0.015333  0.001473  0.028628  0.003593  0.000597"
      ]
     },
     "execution_count": 40,
     "metadata": {},
     "output_type": "execute_result"
    }
   ],
   "source": [
    "p_kxi = (price_prob - p_prob)**2 / p_prob\n",
    "p_kxi = p_kxi.iloc[:-1, :-1]\n",
    "p_kxi # хи-квадрат"
   ]
  },
  {
   "cell_type": "code",
   "execution_count": 41,
   "id": "f70da9f1",
   "metadata": {},
   "outputs": [
    {
     "data": {
      "text/plain": [
       "0.8393716345473835"
      ]
     },
     "execution_count": 41,
     "metadata": {},
     "output_type": "execute_result"
    }
   ],
   "source": [
    "np.sum(p_kxi.values)"
   ]
  }
 ],
 "metadata": {
  "kernelspec": {
   "display_name": "Python 3 (ipykernel)",
   "language": "python",
   "name": "python3"
  },
  "language_info": {
   "codemirror_mode": {
    "name": "ipython",
    "version": 3
   },
   "file_extension": ".py",
   "mimetype": "text/x-python",
   "name": "python",
   "nbconvert_exporter": "python",
   "pygments_lexer": "ipython3",
   "version": "3.9.12"
  }
 },
 "nbformat": 4,
 "nbformat_minor": 5
}
