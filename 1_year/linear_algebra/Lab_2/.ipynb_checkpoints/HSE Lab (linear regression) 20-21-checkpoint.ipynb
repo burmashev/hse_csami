{
 "cells": [
  {
   "cell_type": "markdown",
   "metadata": {},
   "source": [
    "# Лабораторная работа 2\n",
    "\n",
    "## Линейная регрессия"
   ]
  },
  {
   "cell_type": "markdown",
   "metadata": {},
   "source": [
    "### Метод наименьших квадратов: постановка задачи\n",
    "\n",
    "Рассмотрим систему уравнений $Xa = y$, в которой $a$ — столбец неизвестных. Её можно переписать в векторном виде\n",
    "$$x_1 a_1 + x_2 a_2 + \\ldots + x_k a_k = y,$$\n",
    "где $x_1,\\ldots,x_k$ — столбцы матрицы $X$. Таким образом, решить исходную систему означает найти линейную комбинацию векторов $x_1,\\ldots,x_k$, равную правой части. Но что делать, если такой линейной комбинации не существует? Геометрически это означает, что вектор $y$ не лежит в подпространстве $U = \\langle x_1,\\ldots, x_k\\rangle$. В этом случае мы можем найти *псевдорешение*: вектор коэффициентов $\\hat{a}$, для которого линейная комбинация $x_1 \\hat{a}_1 + x_2 \\hat{a}_2 + \\ldots + x_k \\hat{a}_k$ хоть и не равна в точности $y$, но является наилучшим приближением — то есть ближайшей к $y$ точкой $\\hat{y}$ подпространства $U$ (иными словами, ортогональной проекцией $y$ на это подпростанство). Итак, цель наших исканий можно сформулировать двумя эквивалентными способами:\n",
    "\n",
    "1. Найти вектор $\\hat{a}$, для которого длина разности $|X\\hat{a} - y|$ минимальна (отсюда название \"метод наименьших квадратов\");\n",
    "2. Найти ортогональную проекцию $\\hat{y}$ вектора $y$ на подпространство $U$ и представить её в виде $X\\hat{a}$.\n",
    "\n",
    "Далее мы будем предполагать, что векторы $x_1,\\ldots,x_k$ линейно независимы (если нет, то сначала имеет смысл выделить максимальную линейно независимую подсистему).\n",
    "\n",
    "На лекциях было показано, что проекция вектора $y$ на подпространство $U = \\langle x_1,\\ldots, x_k\\rangle$, записывается в виде\n",
    "$$\\hat{y} = X\\left(X^TX\\right)^{-1}X^Ty,$$\n",
    "и, соответственно, искомый вектор $\\hat{a}$ равен\n",
    "$$\\hat{a} = \\left(X^TX\\right)^{-1}X^Ty.$$"
   ]
  },
  {
   "cell_type": "markdown",
   "metadata": {},
   "source": [
    "### Задача линейной регрессии\n",
    "\n",
    "Начнём с примера. Допустим, вы хотите найти зависимость среднего балла S студента ФКН от его роста H, веса W, длины волос L и N — количества часов, которые он ежедневно посвящает учёбе. Представьте, что мы измерили все эти параметры для $n$ студентов и получили наборы значений: $S_1,\\ldots, S_n$, $H_1,\\ldots, H_n$ и так далее.\n",
    "\n",
    "Тут можно подбирать много разных умных моделей, но начать имеет смысл с самой простой, линейной:\n",
    "$$S = a_1H + a_2W + a_3L + a_4N + a_5.$$\n",
    "Конечно, строгой линейной зависимости нет (иначе можно было бы радостно упразднить экзамены), но мы можем попробовать подобрать коэффициенты $a_1, a_2, a_3, a_4, a_5$, для которых отклонение правой части от наблюдаемых было бы наименьшим:\n",
    "$$\\sum_{i=1}^n\\left(S_i - ( a_1H_i + a_2W_i + a_3L_i + a_4N_i + a_5)\\right)^2 \\longrightarrow \\min$$\n",
    "И сразу видно, что мы получили задачу на метод наименьших квадратов! А именно, у нас\n",
    "$$X =\n",
    "\\begin{pmatrix}\n",
    "H_1 & W_1 & L_1 & N_1 & 1\\\\\n",
    "H_2 & W_2 & L_2 & N_2 & 1\\\\\n",
    "\\dots & \\dots & \\dots & \\dots & \\dots \\\\\n",
    "H_n & W_n & L_n & N_n & 1\n",
    "\\end{pmatrix},\\qquad y=\n",
    "\\begin{pmatrix}\n",
    "S_1\\\\ S_2\\\\ \\vdots \\\\ S_n\n",
    "\\end{pmatrix}$$\n",
    "\n",
    "Решая эту задачу с помощью уже известных формул, получаем оценки коэффициентов $\\hat{a}_i$ ($i = 1\\ldots,5$)."
   ]
  },
  {
   "cell_type": "markdown",
   "metadata": {},
   "source": [
    "Теперь проговорим общую постановку задачи линейной регрессии. У нас есть $k$ переменных $x_1,\\ldots,x_k$ (\"регрессоров\"), через которые мы хотим выразить \"объясняемую переменную\" $y$:\n",
    "$$y = a_1x_1 + a_2x_2 + \\ldots + a_kx_k$$\n",
    "Значения всех переменных мы измерили $n$ раз (у $n$ различных объектов,  в $n$ различных моментов времени - это зависит от задачи). Подставим эти данные в предыдущее равенство:\n",
    "$$\\begin{pmatrix}\n",
    "y_1\\\\ y_2 \\\\ \\vdots \\\\ y_n\n",
    "\\end{pmatrix} = \n",
    "a_1\\begin{pmatrix}\n",
    "x_{11} \\\\ x_{21} \\\\ \\vdots \\\\ x_{n1} \\end{pmatrix} + a_2\\begin{pmatrix}\n",
    "x_{12} \\\\ x_{22} \\\\ \\vdots \\\\ x_{n2} \\end{pmatrix} + \\ldots + a_k\\begin{pmatrix}\n",
    "x_{1k} \\\\ x_{2k} \\\\ \\vdots \\\\ x_{nk} \\end{pmatrix}$$\n",
    "(здесь $x_{ij}$ - это значение $j$-го признака на $i$-м измерении). Это удобно переписать в матричном виде:\n",
    "$$\\begin{pmatrix}\n",
    "x_{11} & x_{12} & \\ldots & x_{1k}\\\\\n",
    "x_{21} & x_{22} & \\ldots & x_{2k}\\\\\n",
    "\\dots & \\dots & \\dots & \\dots\\\\\n",
    "x_{n1} & x_{n2} & \\ldots & x_{nk}\n",
    "\\end{pmatrix} \\cdot\n",
    "\\begin{pmatrix}\n",
    "a_1 \\\\ a_2 \\\\ \\vdots \\\\ a_k\n",
    "\\end{pmatrix} = \n",
    "\\begin{pmatrix}\n",
    "y_1 \\\\ y_2 \\\\ \\vdots \\\\ y_n\n",
    "\\end{pmatrix}$$\n",
    "или коротко $Xa = y$. Поскольку на практике эта система уравнений зачастую не имеет решения (ибо зависимости в жизни редко бывают действительно линейными), методом наименьших квадратов ищется псевдорешение."
   ]
  },
  {
   "cell_type": "markdown",
   "metadata": {},
   "source": [
    "### Оценка качества. Обучение и тест \n",
    "\n",
    "После того, как вы построили регрессию и получили какую-то зависимость объясняемой переменной от регрессоров, настаёт время оценить качество регрессии. Есть много разных функционалов качества; мы пока будем говорить только о самом простом и очевидном из них: о среднеквадратичной ошибке (mean square error). Она равна\n",
    "$$\\frac1{n}|X\\hat{a} - y|^2 = \\frac1{n}\\sum_{i=1}^n\\left(\\hat{a}_1x_{i1} + \\hat{a}_2x_{i2} + \\ldots + \\hat{a}_kx_{ik} - y_i\\right)^2$$\n",
    "\n",
    "В целом, хочется искать модели с наименьшей mean square error на имеющихся данных. Однако слишком фанатичная гонка за минимизацией ошибки может привести к печальным последствиям, в чём Вам предстоит убедиться в ходе выполнения этой лабораторной.\n",
    "\n",
    "Чтобы не попадать в эту ловушку, данные обычно делят на обучающие (по которым строят модель и оценивают коэффициенты) и тестовые. Лучшей стоит счесть ту модель, для которой значение функционала качества будет меньше."
   ]
  },
  {
   "cell_type": "markdown",
   "metadata": {},
   "source": [
    "### Правила оформления графиков\n",
    "При работе с данными часто неудобно делать какие-то выводы, если смотреть на таблицу и числа в частности, поэтому важно уметь визуализировать данные. \n",
    "\n",
    "У matplotlib, конечно же, есть [документация](https://matplotlib.org/users/index.html) с большим количеством [примеров](https://matplotlib.org/examples/), но для начала достаточно знать про несколько основных типов графиков:\n",
    "- plot — обычный поточечный график, которым можно изображать кривые или отдельные точки;\n",
    "- hist — гистограмма, показывающая распределение некоторой величины;\n",
    "- scatter — график, показывающий взаимосвязь двух величин;\n",
    "- bar — столбцовый график, показывающий взаимосвязь количественной величины от категориальной.\n",
    "\n",
    "Ещё одна билиотека для визуализации: [seaborn](https://jakevdp.github.io/PythonDataScienceHandbook/04.14-visualization-with-seaborn.html). Это настройка над matplotlib, иногда удобнее и красивее делать визуализации через неё. \n",
    "\n",
    "При выполнении этой лабораторной Вы столкнётесь с необходимость рисовать большое количество графиков. Не забывайте про базовые принципы построения приличных графиков:\n",
    "- оси должны быть подписаны, причём не слишком мелко;\n",
    "- у графика должно быть название;\n",
    "- если изображено несколько графиков, то необходима поясняющая легенда;\n",
    "- для точек из разных выборок, необходимо использовать разные цвета;\n",
    "- все линии на графиках должны быть чётко видны (нет похожих цветов или цветов, сливающихся с фоном);\n",
    "- если отображена величина, имеющая очевидный диапазон значений (например, проценты могут быть от 0 до 100), то желательно масштабировать ось на весь диапазон значений (исключением является случай, когда вам необходимо показать малое отличие, которое незаметно в таких масштабах).\n",
    "\n",
    "Помните, что проверяющий имеет право снизить оценку за неопрятные графики."
   ]
  },
  {
   "cell_type": "markdown",
   "metadata": {},
   "source": [
    "### Формат сдачи\n",
    "Задания сдаются через систему Anytask. Инвайт можно найти на странице курса. Присылать необходимо ноутбук с выполненным заданием. Сам ноутбук называйте в формате homework-practice-02-linregr-Username.ipynb, где Username — Ваша фамилия."
   ]
  },
  {
   "cell_type": "markdown",
   "metadata": {},
   "source": [
    "### Задание 1. Метод наименьших квадратов (3 балла)"
   ]
  },
  {
   "cell_type": "markdown",
   "metadata": {},
   "source": [
    "Скачайте файлы ``train.txt`` и ``test.txt``. В первом из них находится обучающая выборка, а во втором — тестовая. Каждый из файлов содержит два столбца чисел, разделённых пробелами: в первом — $n$ точек (значения аргумента $x$), во втором — значения некоторой функции $y = f(x)$ в этих точках, искажённые случайным шумом. Ваша задача — по обучающей выборке подобрать функцию $y = g(x)$, пристойно приближающую неизвестную вам зависимость."
   ]
  },
  {
   "cell_type": "markdown",
   "metadata": {},
   "source": [
    "Загрузим обучающие и тестовые данные (не забудьте ввести правильный путь!)."
   ]
  },
  {
   "cell_type": "code",
   "execution_count": 1,
   "metadata": {},
   "outputs": [],
   "source": [
    "# Запустите этот код\n",
    "import numpy as np\n",
    "\n",
    "import scipy.linalg as sla\n",
    "\n",
    "import matplotlib.pyplot as plt\n",
    "%matplotlib inline\n",
    "\n",
    "data_train = np.loadtxt('train.txt', delimiter=',')\n",
    "data_test = np.loadtxt('test.txt', delimiter=',')"
   ]
  },
  {
   "cell_type": "markdown",
   "metadata": {},
   "source": [
    "**0. [0 баллов]** Разделим значения $x$ и $y$"
   ]
  },
  {
   "cell_type": "code",
   "execution_count": 2,
   "metadata": {},
   "outputs": [],
   "source": [
    "X_train = data_train[:,0]\n",
    "y_train = data_train[:,1]\n",
    "\n",
    "# Сделайте то же для тестовой выборки\n",
    "#╰( ͡° ͜ʖ ͡° )つ──☆*:・ﾟ\n",
    "X_test = data_test[:,0]\n",
    "y_test = data_test[:,1]\n",
    "\n"
   ]
  },
  {
   "cell_type": "markdown",
   "metadata": {},
   "source": [
    "**1. [0.1 балла]** Найдите с помощью метода наименьших квадратов линейную функцию ($y = kx + b$), наилучшим образом приближающую неизвестную зависимость. Полезные функции: ``numpy.ones(n)`` для создания массива из единиц длины $n$ и ``numpy.concatenate((А, В), axis=1)`` для слияния двух матриц по столбцам (пара ``А`` и ``В`` превращается в матрицу ``[A B]``). Напечатайте этот многочлен в виде $kx+b$."
   ]
  },
  {
   "cell_type": "code",
   "execution_count": 3,
   "metadata": {},
   "outputs": [
    {
     "name": "stdout",
     "output_type": "stream",
     "text": [
      "2.2791344980519463*x + 4.433230905064935\n"
     ]
    }
   ],
   "source": [
    "#╰( ͡° ͜ʖ ͡° )つ──☆*:・ﾟ\n",
    "X = np.concatenate(((np.asmatrix(X_train)).T, np.ones((len(X_train), 1))), axis=1)\n",
    "y = (np.asmatrix(y_train)).T\n",
    "a = np.dot(np.dot(sla.inv(np.dot(X.T,X)),X.T),y)\n",
    "k = float(a[0][0])\n",
    "b = float(a[1][0])\n",
    "print(k, '*x + ', b, sep = '')"
   ]
  },
  {
   "cell_type": "markdown",
   "metadata": {},
   "source": [
    "**2. [0.15 балла]** Нарисуйте на плоскости точки $(x_i, y_i)$ из обеих выборок и полученную линейную функцию."
   ]
  },
  {
   "cell_type": "code",
   "execution_count": 4,
   "metadata": {},
   "outputs": [
    {
     "data": {
      "text/plain": [
       "<matplotlib.legend.Legend at 0x7fbecfa16b50>"
      ]
     },
     "execution_count": 4,
     "metadata": {},
     "output_type": "execute_result"
    },
    {
     "data": {
      "image/png": "[encoded data removed]",
      "text/plain": [
       "<Figure size 432x288 with 1 Axes>"
      ]
     },
     "metadata": {
      "needs_background": "light"
     },
     "output_type": "display_data"
    }
   ],
   "source": [
    "#╰( ͡° ͜ʖ ͡° )つ──☆*:・ﾟ\n",
    "fig, ax = plt.subplots() \n",
    "ax.set_xlim(-0.4, 1.2)\n",
    "ax.set_ylim(3, 8)\n",
    "ax.scatter(X_train, y_train, 10, label = 'train')\n",
    "ax.scatter(X_test, y_test, 10, label = 'test')\n",
    "x = np.linspace(-0.3, 1.1, 100)\n",
    "ax.plot(x, k*x+b, label = 'k*x+b')\n",
    "ax.set_xlabel('x')\n",
    "ax.set_ylabel('y')\n",
    "ax.set_title(\"Обе выборки и полученная функция\")\n",
    "ax.legend()"
   ]
  },
  {
   "cell_type": "markdown",
   "metadata": {},
   "source": [
    "**3. [0.15 балла]** Глядя на данные, подумайте, многочленом какой степени можно было бы лучше всего приблизить эту функцию с точки зрения минимизации среднеквадратичной ошибки на обучающей выборке. Найдите этот многочлен и напечатайте его в виде $a_0 + a_1 x + \\ldots a_k x^k$."
   ]
  },
  {
   "cell_type": "markdown",
   "metadata": {},
   "source": [
    "#╰( ͡° ͜ʖ ͡° )つ──☆*:・ﾟ\n",
    "Лучше всего приблизить эту функцию с точки зрения минимизации среднеквадратичной ошибки на обучающей выборке \n",
    "многочленом степени len(X_train)-1. По утверждению с семинара, если у нас есть набор различных точек x0,...xn и \n",
    "набор значений в этих точках y0,...yn, то существует единственный многочлен f степени не выше n, такой что f(xi) = yi\n",
    "при каждом i = 0,...n.\n"
   ]
  },
  {
   "cell_type": "code",
   "execution_count": 5,
   "metadata": {},
   "outputs": [
    {
     "name": "stdout",
     "output_type": "stream",
     "text": [
      "4.92933597825412+(14.58327685400809)*x^1+(-166.82397399673198)*x^2+(-2812.7207333423503)*x^3+(19555.198064617143)*x^4+(93531.13902403181)*x^5+(-897826.1352984831)*x^6+(829151.551470791)*x^7+(10099256.863851398)*x^8+(-39705854.27687466)*x^9+(59625698.26988518)*x^10+(-31969120.964084208)*x^11+(1437736.369923085)*x^12+(-32191435.9921481)*x^13+(54871118.15822446)*x^14+(-19513.31725463271)*x^15+(-39870851.137283385)*x^16+(7477291.700811788)*x^17+(19861442.49556172)*x^18+(-10795399.863262028)*x^19+(1138207.0498301163)*x^20"
     ]
    }
   ],
   "source": [
    "X3 = np.empty((len(X_train), len(X_train)))\n",
    "for i in range(len(X_train)):\n",
    "    for j in range(len(X_train)):\n",
    "        X3[i][j] = pow(X_train[i],j) \n",
    "y3 = y\n",
    "a3 = np.dot(np.dot(sla.inv(np.dot(X3.T,X3)),X3.T),y3)\n",
    "\n",
    "for i in range(len(X_train)):\n",
    "    if i==0:\n",
    "            print(float(a3[i]), '+', sep ='', end ='')\n",
    "    elif i==len(X_train)-1:\n",
    "            print('(', float(a3[i]), ')', '*x^', i, sep ='', end ='')\n",
    "    else:\n",
    "            print('(', float(a3[i]), ')', '*x^', i, '+', sep ='', end ='')\n",
    "\n"
   ]
  },
  {
   "cell_type": "markdown",
   "metadata": {},
   "source": [
    "**4. [0.1 балла]** Нарисуйте его график на одном чертеже вместе с точками $(x_i, y_i)$ из обеих выборок."
   ]
  },
  {
   "cell_type": "code",
   "execution_count": 6,
   "metadata": {},
   "outputs": [
    {
     "data": {
      "text/plain": [
       "<matplotlib.legend.Legend at 0x7fbecfaf8580>"
      ]
     },
     "execution_count": 6,
     "metadata": {},
     "output_type": "execute_result"
    },
    {
     "data": {
      "image/png": "[encoded data removed]",
      "text/plain": [
       "<Figure size 432x288 with 1 Axes>"
      ]
     },
     "metadata": {
      "needs_background": "light"
     },
     "output_type": "display_data"
    }
   ],
   "source": [
    "#╰( ͡° ͜ʖ ͡° )つ──☆*:・ﾟ\n",
    "\n",
    "def f(x, a):\n",
    "    result = 0.\n",
    "    for i in range(len(a)):\n",
    "        result += (x**i) * float(a[i])\n",
    "    return result\n",
    "\n",
    "def make_values(left, right, step):\n",
    "    values = []\n",
    "    temp = left\n",
    "    while temp <= right:\n",
    "        values.append(temp)\n",
    "        temp += (right-left)/step\n",
    "    return values\n",
    "\n",
    "def make_function(left, right, step, a):\n",
    "    function_values = []\n",
    "    temp = left\n",
    "    while temp <= right:\n",
    "        function_values.append(f(temp,a))\n",
    "        temp += (right-left)/step\n",
    "    return function_values\n",
    "\n",
    "fig, ax = plt.subplots() \n",
    "ax.set_xlim(-0.4, 1.2)\n",
    "ax.set_ylim(3, 8)\n",
    "\n",
    "ax.scatter(X_train, y_train, 10, label = 'train')\n",
    "ax.scatter(X_test, y_test, 10, label = 'test')\n",
    "\n",
    "ax.plot(make_values(-0.3, 1.1, 100000), make_function(-0.3, 1.1, 100000, a3), label = 'found polynomial')\n",
    "\n",
    "ax.set_xlabel('x')\n",
    "ax.set_ylabel('y')\n",
    "ax.set_title(\"Обе выборки и полученный многочлен\")\n",
    "ax.legend()"
   ]
  },
  {
   "cell_type": "markdown",
   "metadata": {},
   "source": [
    "**5. [0.25 балла]** Для $k = 1,2,3,\\ldots,10$ найдите многочлен $\\hat{f}_k$ степени $k$, наилучшим образом приближающий неизвестную зависимость. Напечатайте найденные многочлены в виде $a_0 + a_1 x + \\ldots a_k x^k$."
   ]
  },
  {
   "cell_type": "code",
   "execution_count": 7,
   "metadata": {},
   "outputs": [
    {
     "name": "stdout",
     "output_type": "stream",
     "text": [
      "k = 1\t4.433230905064935+(2.2791344980519463)*x^1\n",
      "\n",
      "k = 2\t4.472476503404164+(1.1578316883597337)*x^1+(1.4016285121152756)*x^2\n",
      "\n",
      "k = 3\t4.460736355285098+(1.065016105285233)*x^1+(1.8597508372608589)*x^2+(-0.3817686042878532)*x^3\n",
      "\n",
      "k = 4\t4.341166120399745+(1.1718023926318009)*x^1+(6.794091784358358)*x^2+(-13.051328119985527)*x^3+(7.9184746973127105)*x^4\n",
      "\n",
      "k = 5\t4.4312978138234325+(-0.1305980398779396)*x^1+(3.274714401814858)*x^2+(21.374796276320048)*x^3+(-51.131481385549066)*x^4+(29.5249780414227)*x^5\n",
      "\n",
      "k = 6\t4.383795011027765+(-4.597179325160414)*x^1+(16.002903990354294)*x^2+(121.25709713033427)*x^3+(-481.5101328868179)*x^4+(581.4532982445619)*x^5+(-229.97013341835543)*x^6\n",
      "\n",
      "k = 7\t4.444512709476475+(-4.008895911600961)*x^1+(7.215458595737616)*x^2+(119.35078426871624)*x^3+(-314.23117231768515)*x^4+(122.8782166447927)*x^5+(238.69936824480374)*x^6+(-167.381964882082)*x^7\n",
      "\n",
      "k = 8\t4.663789114760556+(-5.1827735493704115)*x^1+(-26.695631889338593)*x^2+(268.86044329061934)*x^3+(109.89567885011684)*x^4+(-3132.8564670609503)*x^5+(6760.628613674755)*x^6+(-5701.710314918684)*x^7+(1729.477609040856)*x^8\n",
      "\n",
      "k = 9\t4.645883608375046+(-4.552706023796951)*x^1+(-24.26271767440636)*x^2+(219.04205359273328)*x^3+(176.2453927793008)*x^4+(-2441.962917772569)*x^5+(3913.268996812534)*x^6+(-1216.4495801074663)*x^7+(-1522.097288194942)*x^8+(903.2152387846363)*x^9\n",
      "\n",
      "k = 10\t4.669172383874619+(-2.159831536100537)*x^1+(-36.17536708872211)*x^2+(44.935443711830885)*x^3+(1201.9526070912252)*x^4+(-1660.8233006030896)*x^5+(-12969.933523788437)*x^6+(46686.645727207826)*x^7+(-63620.98724076117)*x^8+(40177.52313918143)*x^9+(-9818.576040734377)*x^10\n",
      "\n"
     ]
    }
   ],
   "source": [
    "#╰( ͡° ͜ʖ ͡° )つ──☆*:・ﾟ\n",
    "\n",
    "A = []\n",
    "for k in range(1, 11):\n",
    "    X_ = np.empty((len(X_train), k+1))\n",
    "    for i in range(len(X_train)):\n",
    "        for j in range(k+1):\n",
    "            X_[i][j] = pow(X_train[i],j)\n",
    "    y_ = y\n",
    "    a_ = np.dot(np.dot(sla.inv(np.dot(X_.T,X_)),X_.T),y_)\n",
    "    print('k = ', k, '\\t', sep ='', end ='')\n",
    "    for i in range(k+1):\n",
    "        if i==0:\n",
    "            print(float(a_[i]), '+', sep ='', end ='')\n",
    "        elif i==k:\n",
    "            print('(', float(a_[i]), ')', '*x^', i, sep ='', end ='')\n",
    "        else:\n",
    "            print('(', float(a_[i]), ')', '*x^', i, '+', sep ='', end ='')\n",
    "    print('\\n')\n",
    "    A.append(a_)\n"
   ]
  },
  {
   "cell_type": "markdown",
   "metadata": {},
   "source": [
    "**6. [1 балл]** Для каждого из них найдите среднеквадратическую ошибку на обучающих данных и на тестовых данных: $\\frac1{n}\\sum_{i=1}^n\\left( \\hat{f}_k(x_i) - y_i \\right)^2$ (в первом случае сумма ведётся по парам $(x_i, y_i)$ из обучающих данных, а во втором — по парам из тестовых данных)."
   ]
  },
  {
   "cell_type": "code",
   "execution_count": 8,
   "metadata": {},
   "outputs": [
    {
     "name": "stdout",
     "output_type": "stream",
     "text": [
      "k = 1\n",
      "среднеквадратическая ошибка на обучающих данных: 0.29689663326251964\n",
      "среднеквадратическая ошибка на тестовых данных: 0.4351202004048878\n",
      "\n",
      "k = 2\n",
      "среднеквадратическая ошибка на обучающих данных: 0.2696989158766913\n",
      "среднеквадратическая ошибка на тестовых данных: 0.3564762887831241\n",
      "\n",
      "k = 3\n",
      "среднеквадратическая ошибка на обучающих данных: 0.269497187147961\n",
      "среднеквадратическая ошибка на тестовых данных: 0.35534645715185254\n",
      "\n",
      "k = 4\n",
      "среднеквадратическая ошибка на обучающих данных: 0.26106653305792726\n",
      "среднеквадратическая ошибка на тестовых данных: 0.44172701892897126\n",
      "\n",
      "k = 5\n",
      "среднеквадратическая ошибка на обучающих данных: 0.24998504648317563\n",
      "среднеквадратическая ошибка на тестовых данных: 0.5579732021632928\n",
      "\n",
      "k = 6\n",
      "среднеквадратическая ошибка на обучающих данных: 0.18829348988370284\n",
      "среднеквадратическая ошибка на тестовых данных: 2.5816929327779508\n",
      "\n",
      "k = 7\n",
      "среднеквадратическая ошибка на обучающих данных: 0.18539621153294394\n",
      "среднеквадратическая ошибка на тестовых данных: 2.5157828948810224\n",
      "\n",
      "k = 8\n",
      "среднеквадратическая ошибка на обучающих данных: 0.15905556579090468\n",
      "среднеквадратическая ошибка на тестовых данных: 4.357288614352418\n",
      "\n",
      "k = 9\n",
      "среднеквадратическая ошибка на обучающих данных: 0.15847184274717513\n",
      "среднеквадратическая ошибка на тестовых данных: 4.776339483986627\n",
      "\n",
      "k = 10\n",
      "среднеквадратическая ошибка на обучающих данных: 0.15316611000307198\n",
      "среднеквадратическая ошибка на тестовых данных: 14.632478586761092\n",
      "\n"
     ]
    }
   ],
   "source": [
    "#╰( ͡° ͜ʖ ͡° )つ──☆*:・ﾟ\n",
    "\n",
    "for k in range(len(A)):\n",
    "    train_result = 0.\n",
    "    test_result = 0.\n",
    "    for i in range(len(X_train)):\n",
    "        train_result += (f(float(X_train[i]), A[k])-float(y_train[i]))**2\n",
    "    train_result /= len(X_train)\n",
    "    for i in range(len(X_test)):\n",
    "        test_result += (f(float(X_test[i]), A[k])-float(y_test[i]))**2\n",
    "    test_result /= len(X_test)\n",
    "    print('k = ', k+1, sep ='')\n",
    "    print('среднеквадратическая ошибка на обучающих данных: ', train_result, sep ='')\n",
    "    print('среднеквадратическая ошибка на тестовых данных: ', test_result, sep ='')\n",
    "    print()\n"
   ]
  },
  {
   "cell_type": "markdown",
   "metadata": {},
   "source": [
    "**7. [0.75 балла]** Для $k = 1,2,3,4,6$ нарисуйте графики полученных многочленов на одном чертеже вместе с точками $(x_i, y_i)$ из обеих выборок (возможно, график стоит сделать побольше; это делается командой `plt.figure(figsize=(width, height))`)."
   ]
  },
  {
   "cell_type": "code",
   "execution_count": 9,
   "metadata": {},
   "outputs": [
    {
     "data": {
      "text/plain": [
       "<matplotlib.legend.Legend at 0x7fbecfffac40>"
      ]
     },
     "execution_count": 9,
     "metadata": {},
     "output_type": "execute_result"
    },
    {
     "data": {
      "image/png": "[encoded data removed]",
      "text/plain": [
       "<Figure size 720x720 with 1 Axes>"
      ]
     },
     "metadata": {
      "needs_background": "light"
     },
     "output_type": "display_data"
    }
   ],
   "source": [
    "#╰( ͡° ͜ʖ ͡° )つ──☆*:・ﾟ\n",
    "fig = plt.figure(figsize=(10, 10))\n",
    "ax = fig.add_axes([1, 1, 1, 1])\n",
    "ax.set_xlim(-0.4, 1.2)\n",
    "ax.set_ylim(3, 8)\n",
    "\n",
    "ax.scatter(X_train, y_train, 20, label = 'train')\n",
    "ax.scatter(X_test, y_test, 20, label = 'test')\n",
    "\n",
    "for k in range(6):\n",
    "    ax.plot(make_values(-0.3, 1.1, 1000), make_function(-0.3, 1.1, 1000, A[k]), label = 'многочлен степени '+ str(k+1))\n",
    "\n",
    "ax.set_xlabel('x')\n",
    "ax.set_ylabel('y')\n",
    "ax.set_title(\"Обе выборки и полученные многочлены\")\n",
    "ax.legend()"
   ]
  },
  {
   "cell_type": "markdown",
   "metadata": {},
   "source": [
    "**8. [0.5 балла]** Что происходит с ошибкой при росте степени многочлена? Казалось бы, чем больше степень, тем более сложным будет многочлен и тем лучше он будет приближать нашу функцию. Подтверждают ли это ваши наблюдения? Как вам кажется, чем объясняется поведение ошибки на тестовых данных при $k = 10$? Как называется наблюдаемый Вами эффект?"
   ]
  },
  {
   "cell_type": "markdown",
   "metadata": {},
   "source": [
    "╰( ͡° ͜ʖ ͡° )つ──☆*:・ﾟ\n",
    "\n",
    "1. При росте степени многочлена ошибка на обучающих данных уменьшается, стремится к нулю, на тестовых данных сначала уменьшается, потом увеличивается(минимум при k = 3).\n",
    "2. Тезис в задании(\"чем больше степень, тем более сложным будет многочлен и тем лучше он будет приближать нашу функцию\") наблюдения не подтверждают.\n",
    "3. Многочлен максимально подстраивается под обучающие данные, которые, как мы знаем, искажены случайным шумом, они не являются точными. При сильном приближении этот \"шум\" начинает ухудшать работу модели.\n",
    "4. Википедия говорит следующее: \"Переобучение (переподгонка, пере- в значении «слишком», англ. overfitting) в машинном обучении и статистике — явление, когда построенная модель хорошо объясняет примеры из обучающей выборки, но относительно плохо работает на примерах, не участвовавших в обучении (на примерах из тестовой выборки).\" Этот эффект не обсуждался на занятиях. Термин взят из интернета."
   ]
  },
  {
   "cell_type": "markdown",
   "metadata": {},
   "source": [
    "### Задание 2. Линейная регрессия (3.5 балла)"
   ]
  },
  {
   "cell_type": "markdown",
   "metadata": {},
   "source": [
    "Скачайте файлы ``flats_moscow_mod.txt`` и ``flats_moscow_description.txt``. В первом из них содержатся данные о квартирах в Москве. Каждая строка содержит шесть характеристик некоторой квартиры, разделённые знаками табуляции; в первой строке записаны кодовые названия характеристик. Во втором файле приведены краткие описания признаков."
   ]
  },
  {
   "cell_type": "markdown",
   "metadata": {},
   "source": [
    "**0. [0 баллов]** Разделите выборку на обучающую и тестовую. Делать это лучше случайным образом (ведь вы не знаете, как создатели датасета упорядочили объекты); рекомендуем вам для этого функцию `sklearn.model_selection.train_test_split` с параметром `test_size=0.3`. Не забудьте зафиксировать параметр `random_state`."
   ]
  },
  {
   "cell_type": "code",
   "execution_count": 11,
   "metadata": {
    "scrolled": true
   },
   "outputs": [
    {
     "ename": "ValueError",
     "evalue": "could not convert string to float: '\"price\"'",
     "output_type": "error",
     "traceback": [
      "\u001b[0;31m---------------------------------------------------------------------------\u001b[0m",
      "\u001b[0;31mValueError\u001b[0m                                Traceback (most recent call last)",
      "\u001b[0;32m<ipython-input-11-413b8c715958>\u001b[0m in \u001b[0;36m<module>\u001b[0;34m\u001b[0m\n\u001b[1;32m      1\u001b[0m \u001b[0;31m#╰( ͡° ͜ʖ ͡° )つ──☆*:・ﾟ\u001b[0m\u001b[0;34m\u001b[0m\u001b[0;34m\u001b[0m\u001b[0;34m\u001b[0m\u001b[0m\n\u001b[1;32m      2\u001b[0m \u001b[0;32mfrom\u001b[0m \u001b[0msklearn\u001b[0m\u001b[0;34m.\u001b[0m\u001b[0mmodel_selection\u001b[0m \u001b[0;32mimport\u001b[0m \u001b[0mtrain_test_split\u001b[0m\u001b[0;34m\u001b[0m\u001b[0;34m\u001b[0m\u001b[0m\n\u001b[0;32m----> 3\u001b[0;31m \u001b[0mdata\u001b[0m \u001b[0;34m=\u001b[0m \u001b[0mnp\u001b[0m\u001b[0;34m.\u001b[0m\u001b[0mloadtxt\u001b[0m\u001b[0;34m(\u001b[0m\u001b[0;34m'flats_moscow_mod.txt'\u001b[0m\u001b[0;34m)\u001b[0m\u001b[0;34m\u001b[0m\u001b[0;34m\u001b[0m\u001b[0m\n\u001b[0m\u001b[1;32m      4\u001b[0m \u001b[0my\u001b[0m \u001b[0;34m=\u001b[0m \u001b[0mdata\u001b[0m\u001b[0;34m[\u001b[0m\u001b[0;34m:\u001b[0m\u001b[0;34m,\u001b[0m \u001b[0;36m0\u001b[0m\u001b[0;34m:\u001b[0m\u001b[0;36m1\u001b[0m\u001b[0;34m]\u001b[0m\u001b[0;34m\u001b[0m\u001b[0;34m\u001b[0m\u001b[0m\n\u001b[1;32m      5\u001b[0m \u001b[0mdata\u001b[0m \u001b[0;34m=\u001b[0m \u001b[0mdata\u001b[0m \u001b[0;34m[\u001b[0m\u001b[0;34m:\u001b[0m\u001b[0;34m,\u001b[0m \u001b[0;36m1\u001b[0m\u001b[0;34m:\u001b[0m\u001b[0;34m]\u001b[0m\u001b[0;34m\u001b[0m\u001b[0;34m\u001b[0m\u001b[0m\n",
      "\u001b[0;32m~/opt/anaconda3/lib/python3.8/site-packages/numpy/lib/npyio.py\u001b[0m in \u001b[0;36mloadtxt\u001b[0;34m(fname, dtype, comments, delimiter, converters, skiprows, usecols, unpack, ndmin, encoding, max_rows)\u001b[0m\n\u001b[1;32m   1157\u001b[0m         \u001b[0;31m# converting the data\u001b[0m\u001b[0;34m\u001b[0m\u001b[0;34m\u001b[0m\u001b[0;34m\u001b[0m\u001b[0m\n\u001b[1;32m   1158\u001b[0m         \u001b[0mX\u001b[0m \u001b[0;34m=\u001b[0m \u001b[0;32mNone\u001b[0m\u001b[0;34m\u001b[0m\u001b[0;34m\u001b[0m\u001b[0m\n\u001b[0;32m-> 1159\u001b[0;31m         \u001b[0;32mfor\u001b[0m \u001b[0mx\u001b[0m \u001b[0;32min\u001b[0m \u001b[0mread_data\u001b[0m\u001b[0;34m(\u001b[0m\u001b[0m_loadtxt_chunksize\u001b[0m\u001b[0;34m)\u001b[0m\u001b[0;34m:\u001b[0m\u001b[0;34m\u001b[0m\u001b[0;34m\u001b[0m\u001b[0m\n\u001b[0m\u001b[1;32m   1160\u001b[0m             \u001b[0;32mif\u001b[0m \u001b[0mX\u001b[0m \u001b[0;32mis\u001b[0m \u001b[0;32mNone\u001b[0m\u001b[0;34m:\u001b[0m\u001b[0;34m\u001b[0m\u001b[0;34m\u001b[0m\u001b[0m\n\u001b[1;32m   1161\u001b[0m                 \u001b[0mX\u001b[0m \u001b[0;34m=\u001b[0m \u001b[0mnp\u001b[0m\u001b[0;34m.\u001b[0m\u001b[0marray\u001b[0m\u001b[0;34m(\u001b[0m\u001b[0mx\u001b[0m\u001b[0;34m,\u001b[0m \u001b[0mdtype\u001b[0m\u001b[0;34m)\u001b[0m\u001b[0;34m\u001b[0m\u001b[0;34m\u001b[0m\u001b[0m\n",
      "\u001b[0;32m~/opt/anaconda3/lib/python3.8/site-packages/numpy/lib/npyio.py\u001b[0m in \u001b[0;36mread_data\u001b[0;34m(chunk_size)\u001b[0m\n\u001b[1;32m   1085\u001b[0m \u001b[0;34m\u001b[0m\u001b[0m\n\u001b[1;32m   1086\u001b[0m             \u001b[0;31m# Convert each value according to its column and store\u001b[0m\u001b[0;34m\u001b[0m\u001b[0;34m\u001b[0m\u001b[0;34m\u001b[0m\u001b[0m\n\u001b[0;32m-> 1087\u001b[0;31m             \u001b[0mitems\u001b[0m \u001b[0;34m=\u001b[0m \u001b[0;34m[\u001b[0m\u001b[0mconv\u001b[0m\u001b[0;34m(\u001b[0m\u001b[0mval\u001b[0m\u001b[0;34m)\u001b[0m \u001b[0;32mfor\u001b[0m \u001b[0;34m(\u001b[0m\u001b[0mconv\u001b[0m\u001b[0;34m,\u001b[0m \u001b[0mval\u001b[0m\u001b[0;34m)\u001b[0m \u001b[0;32min\u001b[0m \u001b[0mzip\u001b[0m\u001b[0;34m(\u001b[0m\u001b[0mconverters\u001b[0m\u001b[0;34m,\u001b[0m \u001b[0mvals\u001b[0m\u001b[0;34m)\u001b[0m\u001b[0;34m]\u001b[0m\u001b[0;34m\u001b[0m\u001b[0;34m\u001b[0m\u001b[0m\n\u001b[0m\u001b[1;32m   1088\u001b[0m \u001b[0;34m\u001b[0m\u001b[0m\n\u001b[1;32m   1089\u001b[0m             \u001b[0;31m# Then pack it according to the dtype's nesting\u001b[0m\u001b[0;34m\u001b[0m\u001b[0;34m\u001b[0m\u001b[0;34m\u001b[0m\u001b[0m\n",
      "\u001b[0;32m~/opt/anaconda3/lib/python3.8/site-packages/numpy/lib/npyio.py\u001b[0m in \u001b[0;36m<listcomp>\u001b[0;34m(.0)\u001b[0m\n\u001b[1;32m   1085\u001b[0m \u001b[0;34m\u001b[0m\u001b[0m\n\u001b[1;32m   1086\u001b[0m             \u001b[0;31m# Convert each value according to its column and store\u001b[0m\u001b[0;34m\u001b[0m\u001b[0;34m\u001b[0m\u001b[0;34m\u001b[0m\u001b[0m\n\u001b[0;32m-> 1087\u001b[0;31m             \u001b[0mitems\u001b[0m \u001b[0;34m=\u001b[0m \u001b[0;34m[\u001b[0m\u001b[0mconv\u001b[0m\u001b[0;34m(\u001b[0m\u001b[0mval\u001b[0m\u001b[0;34m)\u001b[0m \u001b[0;32mfor\u001b[0m \u001b[0;34m(\u001b[0m\u001b[0mconv\u001b[0m\u001b[0;34m,\u001b[0m \u001b[0mval\u001b[0m\u001b[0;34m)\u001b[0m \u001b[0;32min\u001b[0m \u001b[0mzip\u001b[0m\u001b[0;34m(\u001b[0m\u001b[0mconverters\u001b[0m\u001b[0;34m,\u001b[0m \u001b[0mvals\u001b[0m\u001b[0;34m)\u001b[0m\u001b[0;34m]\u001b[0m\u001b[0;34m\u001b[0m\u001b[0;34m\u001b[0m\u001b[0m\n\u001b[0m\u001b[1;32m   1088\u001b[0m \u001b[0;34m\u001b[0m\u001b[0m\n\u001b[1;32m   1089\u001b[0m             \u001b[0;31m# Then pack it according to the dtype's nesting\u001b[0m\u001b[0;34m\u001b[0m\u001b[0;34m\u001b[0m\u001b[0;34m\u001b[0m\u001b[0m\n",
      "\u001b[0;32m~/opt/anaconda3/lib/python3.8/site-packages/numpy/lib/npyio.py\u001b[0m in \u001b[0;36mfloatconv\u001b[0;34m(x)\u001b[0m\n\u001b[1;32m    792\u001b[0m         \u001b[0;32mif\u001b[0m \u001b[0;34m'0x'\u001b[0m \u001b[0;32min\u001b[0m \u001b[0mx\u001b[0m\u001b[0;34m:\u001b[0m\u001b[0;34m\u001b[0m\u001b[0;34m\u001b[0m\u001b[0m\n\u001b[1;32m    793\u001b[0m             \u001b[0;32mreturn\u001b[0m \u001b[0mfloat\u001b[0m\u001b[0;34m.\u001b[0m\u001b[0mfromhex\u001b[0m\u001b[0;34m(\u001b[0m\u001b[0mx\u001b[0m\u001b[0;34m)\u001b[0m\u001b[0;34m\u001b[0m\u001b[0;34m\u001b[0m\u001b[0m\n\u001b[0;32m--> 794\u001b[0;31m         \u001b[0;32mreturn\u001b[0m \u001b[0mfloat\u001b[0m\u001b[0;34m(\u001b[0m\u001b[0mx\u001b[0m\u001b[0;34m)\u001b[0m\u001b[0;34m\u001b[0m\u001b[0;34m\u001b[0m\u001b[0m\n\u001b[0m\u001b[1;32m    795\u001b[0m \u001b[0;34m\u001b[0m\u001b[0m\n\u001b[1;32m    796\u001b[0m     \u001b[0mtyp\u001b[0m \u001b[0;34m=\u001b[0m \u001b[0mdtype\u001b[0m\u001b[0;34m.\u001b[0m\u001b[0mtype\u001b[0m\u001b[0;34m\u001b[0m\u001b[0;34m\u001b[0m\u001b[0m\n",
      "\u001b[0;31mValueError\u001b[0m: could not convert string to float: '\"price\"'"
     ]
    }
   ],
   "source": [
    "#╰( ͡° ͜ʖ ͡° )つ──☆*:・ﾟ\n",
    "from sklearn.model_selection import train_test_split\n",
    "data = np.loadtxt('flats_moscow_mod.txt')\n",
    "y = data[:, 0:1]\n",
    "data = data [:, 1:]\n",
    "X_train, X_test, y_train, y_test = train_test_split(data, y, test_size=0.3, random_state = 42)"
   ]
  },
  {
   "cell_type": "markdown",
   "metadata": {},
   "source": [
    "**1. [0.5 балла]** Вашей задачей будет построить с помощью метода наименьших квадратов (линейную) зависимость между ценой квартиры и остальными доступными параметрами. С помощью известных Вам формул найдите регрессионные коэффициенты. Выпишите построенную модель."
   ]
  },
  {
   "cell_type": "code",
   "execution_count": 12,
   "metadata": {},
   "outputs": [
    {
     "ename": "AxisError",
     "evalue": "axis 1 is out of bounds for array of dimension 1",
     "output_type": "error",
     "traceback": [
      "\u001b[0;31m---------------------------------------------------------------------------\u001b[0m",
      "\u001b[0;31mAxisError\u001b[0m                                 Traceback (most recent call last)",
      "\u001b[0;32m<ipython-input-12-a75415e1e7be>\u001b[0m in \u001b[0;36m<module>\u001b[0;34m\u001b[0m\n\u001b[1;32m      1\u001b[0m \u001b[0;31m#╰( ͡° ͜ʖ ͡° )つ──☆*:・ﾟ\u001b[0m\u001b[0;34m\u001b[0m\u001b[0;34m\u001b[0m\u001b[0;34m\u001b[0m\u001b[0m\n\u001b[0;32m----> 2\u001b[0;31m \u001b[0mX\u001b[0m \u001b[0;34m=\u001b[0m \u001b[0mnp\u001b[0m\u001b[0;34m.\u001b[0m\u001b[0mconcatenate\u001b[0m\u001b[0;34m(\u001b[0m\u001b[0;34m(\u001b[0m\u001b[0mX_train\u001b[0m\u001b[0;34m,\u001b[0m \u001b[0mnp\u001b[0m\u001b[0;34m.\u001b[0m\u001b[0mones\u001b[0m\u001b[0;34m(\u001b[0m\u001b[0;34m(\u001b[0m\u001b[0mlen\u001b[0m\u001b[0;34m(\u001b[0m\u001b[0mX_train\u001b[0m\u001b[0;34m)\u001b[0m\u001b[0;34m,\u001b[0m \u001b[0;36m1\u001b[0m\u001b[0;34m)\u001b[0m\u001b[0;34m)\u001b[0m\u001b[0;34m)\u001b[0m\u001b[0;34m,\u001b[0m \u001b[0maxis\u001b[0m\u001b[0;34m=\u001b[0m\u001b[0;36m1\u001b[0m\u001b[0;34m)\u001b[0m\u001b[0;34m\u001b[0m\u001b[0;34m\u001b[0m\u001b[0m\n\u001b[0m\u001b[1;32m      3\u001b[0m \u001b[0my\u001b[0m \u001b[0;34m=\u001b[0m \u001b[0my_train\u001b[0m\u001b[0;34m\u001b[0m\u001b[0;34m\u001b[0m\u001b[0m\n\u001b[1;32m      4\u001b[0m \u001b[0ma\u001b[0m \u001b[0;34m=\u001b[0m \u001b[0mnp\u001b[0m\u001b[0;34m.\u001b[0m\u001b[0mdot\u001b[0m\u001b[0;34m(\u001b[0m\u001b[0mnp\u001b[0m\u001b[0;34m.\u001b[0m\u001b[0mdot\u001b[0m\u001b[0;34m(\u001b[0m\u001b[0msla\u001b[0m\u001b[0;34m.\u001b[0m\u001b[0minv\u001b[0m\u001b[0;34m(\u001b[0m\u001b[0mnp\u001b[0m\u001b[0;34m.\u001b[0m\u001b[0mdot\u001b[0m\u001b[0;34m(\u001b[0m\u001b[0mX\u001b[0m\u001b[0;34m.\u001b[0m\u001b[0mT\u001b[0m\u001b[0;34m,\u001b[0m\u001b[0mX\u001b[0m\u001b[0;34m)\u001b[0m\u001b[0;34m)\u001b[0m\u001b[0;34m,\u001b[0m\u001b[0mX\u001b[0m\u001b[0;34m.\u001b[0m\u001b[0mT\u001b[0m\u001b[0;34m)\u001b[0m\u001b[0;34m,\u001b[0m\u001b[0my\u001b[0m\u001b[0;34m)\u001b[0m\u001b[0;34m\u001b[0m\u001b[0;34m\u001b[0m\u001b[0m\n\u001b[1;32m      5\u001b[0m \u001b[0mprint\u001b[0m\u001b[0;34m(\u001b[0m\u001b[0;34m'price = ('\u001b[0m\u001b[0;34m,\u001b[0m \u001b[0mfloat\u001b[0m\u001b[0;34m(\u001b[0m\u001b[0ma\u001b[0m\u001b[0;34m[\u001b[0m\u001b[0;36m0\u001b[0m\u001b[0;34m]\u001b[0m\u001b[0;34m)\u001b[0m\u001b[0;34m,\u001b[0m \u001b[0;34m\")*totsp + (\"\u001b[0m\u001b[0;34m,\u001b[0m \u001b[0mfloat\u001b[0m\u001b[0;34m(\u001b[0m\u001b[0ma\u001b[0m\u001b[0;34m[\u001b[0m\u001b[0;36m1\u001b[0m\u001b[0;34m]\u001b[0m\u001b[0;34m)\u001b[0m\u001b[0;34m,\u001b[0m \u001b[0;34m\")*livesp + (\"\u001b[0m\u001b[0;34m,\u001b[0m \u001b[0mfloat\u001b[0m\u001b[0;34m(\u001b[0m\u001b[0ma\u001b[0m\u001b[0;34m[\u001b[0m\u001b[0;36m2\u001b[0m\u001b[0;34m]\u001b[0m\u001b[0;34m)\u001b[0m\u001b[0;34m,\u001b[0m \u001b[0;34m\")*kitsp + (\"\u001b[0m\u001b[0;34m,\u001b[0m \u001b[0mfloat\u001b[0m\u001b[0;34m(\u001b[0m\u001b[0ma\u001b[0m\u001b[0;34m[\u001b[0m\u001b[0;36m3\u001b[0m\u001b[0;34m]\u001b[0m\u001b[0;34m)\u001b[0m\u001b[0;34m,\u001b[0m \u001b[0;34m\")*dist + (\"\u001b[0m\u001b[0;34m,\u001b[0m \u001b[0mfloat\u001b[0m\u001b[0;34m(\u001b[0m\u001b[0ma\u001b[0m\u001b[0;34m[\u001b[0m\u001b[0;36m4\u001b[0m\u001b[0;34m]\u001b[0m\u001b[0;34m)\u001b[0m\u001b[0;34m,\u001b[0m \u001b[0;34m\")*metrdist + (\"\u001b[0m\u001b[0;34m,\u001b[0m \u001b[0mfloat\u001b[0m\u001b[0;34m(\u001b[0m\u001b[0ma\u001b[0m\u001b[0;34m[\u001b[0m\u001b[0;36m5\u001b[0m\u001b[0;34m]\u001b[0m\u001b[0;34m)\u001b[0m\u001b[0;34m,\u001b[0m \u001b[0;34m')'\u001b[0m\u001b[0;34m,\u001b[0m \u001b[0msep\u001b[0m \u001b[0;34m=\u001b[0m\u001b[0;34m''\u001b[0m\u001b[0;34m)\u001b[0m\u001b[0;34m\u001b[0m\u001b[0;34m\u001b[0m\u001b[0m\n",
      "\u001b[0;32m<__array_function__ internals>\u001b[0m in \u001b[0;36mconcatenate\u001b[0;34m(*args, **kwargs)\u001b[0m\n",
      "\u001b[0;31mAxisError\u001b[0m: axis 1 is out of bounds for array of dimension 1"
     ]
    }
   ],
   "source": [
    "#╰( ͡° ͜ʖ ͡° )つ──☆*:・ﾟ\n",
    "X = np.concatenate((X_train, np.ones((len(X_train), 1))), axis=1)\n",
    "y = y_train\n",
    "a = np.dot(np.dot(sla.inv(np.dot(X.T,X)),X.T),y)\n",
    "print('price = (', float(a[0]), \")*totsp + (\", float(a[1]), \")*livesp + (\", float(a[2]), \")*kitsp + (\", float(a[3]), \")*dist + (\", float(a[4]), \")*metrdist + (\", float(a[5]), ')', sep ='')\n",
    "\n"
   ]
  },
  {
   "cell_type": "markdown",
   "metadata": {},
   "source": [
    "**2. [0.25 балла]** Какой смысл имеют их знаки? Согласуются ли они с вашими представлениями о жизни?"
   ]
  },
  {
   "cell_type": "markdown",
   "metadata": {},
   "source": [
    "╰( ͡° ͜ʖ ͡° )つ──☆*:・ﾟ\n",
    "\n",
    "price – цена квартиры в $1000\n",
    "totsp – общая площадь квартиры, кв.м.\n",
    "livesp жилая площадь квартиры, кв.м.\n",
    "kitsp – площадь кухни, кв.м.\n",
    "dist – расстояние от центра в км.\n",
    "metrdist – расстояние до метро в минутах\n",
    "\n",
    "\n",
    "Знак \"+\" увеличивает цену на квартиру, знак \"-\" уменьшает ее. Если характеристика положительная(чем больше показатель, тем ценнее квартира), то она идет со знаком \"+\", если отрицательная, то со знаком \"-\". Поэтому с представлениями о жизни знаки согласуются : чем больше площадь, тем лучше, поэтому цена увеличивается; чем дольше идти до метро, например, тем хуже, поэтому она уменьшается."
   ]
  },
  {
   "cell_type": "markdown",
   "metadata": {},
   "source": [
    "**3. [0.25 балла]** Оцените качество приближения, вычислив среднеквадратическую ошибку на тестовой выборке."
   ]
  },
  {
   "cell_type": "code",
   "execution_count": null,
   "metadata": {},
   "outputs": [],
   "source": [
    "#╰( ͡° ͜ʖ ͡° )つ──☆*:・ﾟ\n",
    "\n",
    "def search_answer(x, a):\n",
    "    # len(x) + 1 = len(a)\n",
    "    result = 0.\n",
    "    for i in range(len(x)):\n",
    "        result += x[i]*float(a[i])\n",
    "    result += a[len(a)-1]\n",
    "    return result\n",
    "\n",
    "test_result = 0.\n",
    "for i in range(len(X_test)):\n",
    "        test_result += (search_answer(X_test[i], a)-float(y_test[i]))**2\n",
    "test_result /= len(X_test)\n",
    "print('среднеквадратическая ошибка на тестовых данных: ', test_result, sep ='')"
   ]
  },
  {
   "cell_type": "markdown",
   "metadata": {
    "collapsed": true
   },
   "source": [
    "### Усложнение модели"
   ]
  },
  {
   "cell_type": "markdown",
   "metadata": {},
   "source": [
    "Конечно, никто не гарантирует, что объясняемая переменная (цена квартиры) зависит от остальных характеристик именно линейно. Зависимость может быть, например, квадратичной или логарифмической; больше того, могут быть важны не только отдельные признаки, но и их комбинации. Это можно учитывать, добавляя в качестве дополнительных признаков разные функции от уже имеющихся характеристик: их квадраты, логарифмы, попарные произведения."
   ]
  },
  {
   "cell_type": "markdown",
   "metadata": {},
   "source": [
    "В этом задании Вам нужно постараться улучшить качество модели, добавляя дополнительные признаки, являющиеся функциями от уже имеющихся. Но будьте осторожны: чрезмерное усложнение модели будет приводить к переобучению."
   ]
  },
  {
   "cell_type": "markdown",
   "metadata": {},
   "source": [
    "**4. [0.25 балла]** Опишите признаки, которые Вы решили добавить. Объясните, чем был мотивирован выбор именно этих признаков."
   ]
  },
  {
   "cell_type": "markdown",
   "metadata": {},
   "source": [
    "╰( ͡° ͜ʖ ͡° )つ──☆*:・ﾟ\n",
    "Я решила добавить квадраты всех пяти признаков, их попарные произведения и логарифмы, так как цена может в большей или меньшей мере зависеть от этих признаков(соостветственно квадраты и логарифмы), и, возможно, признаки зависят друг от друга, возможно, их комбинации (попарные произведения) лучше опишут искомую функцию, улучшат модель."
   ]
  },
  {
   "cell_type": "markdown",
   "metadata": {},
   "source": [
    "**5. [2 балла]** Постройте с помощью метода наименьших квадратов (линейную) зависимость между ценой квартиры и новыми признаками. С помощью известных Вам формул найдите регрессионные коэффициенты. Выпишите построенную модель."
   ]
  },
  {
   "cell_type": "code",
   "execution_count": null,
   "metadata": {},
   "outputs": [],
   "source": [
    "#╰( ͡° ͜ʖ ͡° )つ──☆*:・ﾟ\n",
    "from math import log\n",
    "X_train_plus = np.empty((len(X_train), 20))\n",
    "for i in range(len(X_train_plus)):\n",
    "    X_train_plus[i][0] = X_train[i][0]**2\n",
    "    X_train_plus[i][1] = X_train[i][1]**2\n",
    "    X_train_plus[i][2] = X_train[i][2]**2\n",
    "    X_train_plus[i][3] = X_train[i][3]**2\n",
    "    X_train_plus[i][4] = X_train[i][4]**2\n",
    "    \n",
    "    \n",
    "    X_train_plus[i][5] = log(X_train[i][0])\n",
    "    X_train_plus[i][6] = log(X_train[i][1])\n",
    "    X_train_plus[i][7] = log(X_train[i][2])\n",
    "    X_train_plus[i][8] = log(X_train[i][3])\n",
    "    X_train_plus[i][9] = log(X_train[i][4])\n",
    "    \n",
    "    \n",
    "    X_train_plus[i][10] = X_train[i][0]*X_train[i][1]\n",
    "    X_train_plus[i][11] = X_train[i][0]*X_train[i][2]\n",
    "    X_train_plus[i][12] = X_train[i][0]*X_train[i][3]\n",
    "    X_train_plus[i][13] = X_train[i][0]*X_train[i][4]\n",
    "    X_train_plus[i][14] = X_train[i][1]*X_train[i][2]\n",
    "    X_train_plus[i][15] = X_train[i][1]*X_train[i][3]\n",
    "    X_train_plus[i][16] = X_train[i][1]*X_train[i][4]\n",
    "    X_train_plus[i][17] = X_train[i][2]*X_train[i][3]\n",
    "    X_train_plus[i][18] = X_train[i][2]*X_train[i][4]\n",
    "    X_train_plus[i][19] = X_train[i][3]*X_train[i][4]\n",
    "\n",
    "    \n",
    "X_test_plus = np.empty((len(X_test), 20))\n",
    "for i in range(len(X_test_plus)):\n",
    "    X_test_plus[i][0] = X_test[i][0]**2\n",
    "    X_test_plus[i][1] = X_test[i][1]**2\n",
    "    X_test_plus[i][2] = X_test[i][2]**2\n",
    "    X_test_plus[i][3] = X_test[i][3]**2\n",
    "    X_test_plus[i][4] = X_test[i][4]**2\n",
    "    \n",
    "    \n",
    "    X_test_plus[i][5] = log(X_test[i][0])\n",
    "    X_test_plus[i][6] = log(X_test[i][1])\n",
    "    X_test_plus[i][7] = log(X_test[i][2])\n",
    "    X_test_plus[i][8] = log(X_test[i][3])\n",
    "    X_test_plus[i][9] = log(X_test[i][4])\n",
    "    \n",
    "    \n",
    "    X_test_plus[i][10] = X_test[i][0]*X_test[i][1]\n",
    "    X_test_plus[i][11] = X_test[i][0]*X_test[i][2]\n",
    "    X_test_plus[i][12] = X_test[i][0]*X_test[i][3]\n",
    "    X_test_plus[i][13] = X_test[i][0]*X_test[i][4]\n",
    "    X_test_plus[i][14] = X_test[i][1]*X_test[i][2]\n",
    "    X_test_plus[i][15] = X_test[i][1]*X_test[i][3]\n",
    "    X_test_plus[i][16] = X_test[i][1]*X_test[i][4]\n",
    "    X_test_plus[i][17] = X_test[i][2]*X_test[i][3]\n",
    "    X_test_plus[i][18] = X_test[i][2]*X_test[i][4]\n",
    "    X_test_plus[i][19] = X_test[i][3]*X_test[i][4]\n",
    "X_train = np.concatenate((X_train, X_train_plus), axis=1)\n",
    "X_test = np.concatenate((X_test, X_test_plus), axis=1)\n",
    "X = np.concatenate((X_train, np.ones((len(X_train), 1))), axis=1)\n",
    "y = y_train\n",
    "a = np.dot(np.dot(sla.inv(np.dot(X.T,X)),X.T),y)\n",
    "\n",
    "\n",
    "print('price = (', float(a[0]), \")*totsp + (\", float(a[1]), \")*livesp + (\", float(a[2]), \")*kitsp + (\", float(a[3]), \")*dist + (\", float(a[4]), \")*metrdist\" , sep = '', end ='')\n",
    "print(\" + (\",  float(a[5]), \")*totsp^2 + (\", float(a[6]), \")*livesp^2 + (\", float(a[7]), \")*kitsp^2 + (\", float(a[8]), \")*dist^2 + (\", float(a[9]), \")*metrdist^2\" , sep = '', end ='')\n",
    "print(\" + (\",  float(a[10]), \")*log(totsp) + (\", float(a[11]), \")*log(livesp) + (\", float(a[12]), \")*log(kitsp) + (\", float(a[13]), \")*log(dist) + (\", float(a[14]), \")*log(metrdist)\" , sep = '', end ='')\n",
    "print(\" + (\",  float(a[15]), \")*totsp*livesp\", sep ='', end ='')\n",
    "print(\" + (\",  float(a[16]), \")*totsp*kitsp\", sep ='', end ='')\n",
    "print(\" + (\",  float(a[17]), \")*totsp*dist\", sep ='', end ='')\n",
    "print(\" + (\",  float(a[18]), \")*totsp*metrdist\", sep ='', end ='')\n",
    "print(\" + (\",  float(a[19]), \")*livesp*kitsp\", sep ='', end ='')\n",
    "print(\" + (\",  float(a[20]), \")*livesp*dist\", sep ='', end ='')\n",
    "print(\" + (\",  float(a[21]), \")*livesp*metrdist\", sep ='', end ='')\n",
    "print(\" + (\",  float(a[22]), \")*kitsp*dist\", sep ='', end ='')\n",
    "print(\" + (\",  float(a[23]), \")*kitsp*metrdist\", sep ='', end ='')\n",
    "print(\" + (\",  float(a[24]), \")*dist*metrdist\", sep ='', end ='')\n",
    "print(\" + (\",  float(a[25]), \")\", sep ='')\n",
    "    "
   ]
  },
  {
   "cell_type": "markdown",
   "metadata": {},
   "source": [
    "**6. [0.25 балла]** Оцените качество приближения, вычислив среднеквадратическую ошибку на тестовой выборке."
   ]
  },
  {
   "cell_type": "code",
   "execution_count": null,
   "metadata": {},
   "outputs": [],
   "source": [
    "#╰( ͡° ͜ʖ ͡° )つ──☆*:・ﾟ\n",
    "test_result = 0.\n",
    "for i in range(len(X_test)):\n",
    "        test_result += (search_answer(X_test[i], a)-float(y_test[i]))**2\n",
    "test_result /= len(X_test)\n",
    "print('среднеквадратическая ошибка на тестовых данных: ', test_result, sep ='')\n"
   ]
  },
  {
   "cell_type": "markdown",
   "metadata": {},
   "source": [
    "### Задание 3. Регуляризация (3.5 балла)"
   ]
  },
  {
   "cell_type": "markdown",
   "metadata": {},
   "source": [
    "Вспомним, что задача линейной регрессии формулируется как задача нахождения проекции вектора значений объясняемой переменной $y$ на линейную оболочку $\\langle x_1,\\ldots,x_k\\rangle$ векторов значений регрессоров. Если векторы $x_1,\\ldots,x_k$ линейно зависимы, то матрица $X^TX$ вырожденна и задача не будет решаться с помощью приведённой выше формулы. В жизни, по счастью, различные признаки редко бывают *в точности* линейно зависимы, однако во многих ситуациях они скоррелированы и становятся \"почти\" линейно зависимыми. Таковы, к примеру, зарплата человека, его уровень образования, цена машины и суммарная площадь недвижимости, которой он владеет. В этом случае матрица $X^TX$ будет близка к вырожденной, и это приводит к численной неустойчивости и плохому качеству решений; как следствие, будет иметь место переобучение. Один из симптомов этой проблемы — необычно большие по модулю компоненты вектора $a$.\n",
    "\n",
    "Есть много способов борьбы с этим злом. Один из них - регуляризация. Сейчас мы рассмотрим одну из её разновидностей — **L2-регуляризацию**. Идея в том, чтобы подправить матрицу $X^TX$, сделав её \"получше\". Например, это можно сделать, заменив её на $(X^TX + \\lambda E)$, где $\\lambda > 0$ — некоторый скаляр. Пожертвовав точностью на обучающей выборке, мы тем не менее получаем численно более стабильное псевдорешение $a = (X^TX + \\lambda E)^{-1}X^Ty$ и снижаем эффект переобучения. *Гиперпараметр* $\\lambda$ нужно подбирать, и каких-то универсальных способов это делать нет, но зачастую можно его подобрать таким, чтобы ошибка на тестовой выборке падала.\n",
    "\n",
    "Однако есть некоторые правила, которых стоит придерживаться при подборе коэффициента регуляризации. Обычно в такой ситуации всю выборку делят на три части: обучающую, *валидационную* и тестовую. Сначала по валидационной подбирают значение гиперпараметра, потом по обучающей строят модель, а по тестовой оценивают её итоговое качество. Кроме того, подбирать $\\lambda$ нужно по логарифметической сетке, чтобы узнать оптимальный порядок величины."
   ]
  },
  {
   "cell_type": "markdown",
   "metadata": {},
   "source": [
    "**1. [0.25 балла]** Почему не стоит подбирать коэффициент регуляризации по обучающей выборке? По тестовой выборке?"
   ]
  },
  {
   "cell_type": "markdown",
   "metadata": {},
   "source": [
    "╰( ͡° ͜ʖ ͡° )つ──☆*:・ﾟ"
   ]
  },
  {
   "cell_type": "markdown",
   "metadata": {},
   "source": [
    "**2. [0 баллов]** Теперь давайте вспомним первую задачу. Если Вы её сделали, то помните, что ошибка аппроксимации многочленом шестой степени довольно высокая. Попытаемся использовать регуляризацию при построении модели. Поделите обучающую выборку из первой задачи на две части, одну из которых объявите обучающей, а другую — валидационной (будьте осторожны при выборе `train_size`, в этой выборке не так много данных)."
   ]
  },
  {
   "cell_type": "code",
   "execution_count": null,
   "metadata": {},
   "outputs": [],
   "source": [
    "#╰( ͡° ͜ʖ ͡° )つ──☆*:・ﾟ"
   ]
  },
  {
   "cell_type": "markdown",
   "metadata": {},
   "source": [
    "**3. [0.75 балла]** Убедитесь, что, используя регуляризацию с хорошо подобранным коэффициентом $\\lambda$, ошибку на тестовой выборке можно сделать не больше, чем для многочлена оптимальной степени в модели без регуляризации."
   ]
  },
  {
   "cell_type": "code",
   "execution_count": null,
   "metadata": {},
   "outputs": [],
   "source": [
    "#╰( ͡° ͜ʖ ͡° )つ──☆*:・ﾟ"
   ]
  },
  {
   "cell_type": "markdown",
   "metadata": {},
   "source": [
    "**4. [0.25 балла]** Для этого $\\lambda$ сравните $\\det(X^TX)$ и $\\det(X^TX + \\lambda E)$. Чем можно объяснить такой результат?"
   ]
  },
  {
   "cell_type": "markdown",
   "metadata": {},
   "source": [
    "╰( ͡° ͜ʖ ͡° )つ──☆*:・ﾟ"
   ]
  },
  {
   "cell_type": "markdown",
   "metadata": {},
   "source": [
    "**5. [0.25 балла]** Нарисуйте на одном чертеже графики многочленов шестой степени, приближающих неизвестную функцию, для модели с регуляризацией и без."
   ]
  },
  {
   "cell_type": "code",
   "execution_count": null,
   "metadata": {},
   "outputs": [],
   "source": [
    "#╰( ͡° ͜ʖ ͡° )つ──☆*:・ﾟ"
   ]
  },
  {
   "cell_type": "markdown",
   "metadata": {},
   "source": [
    "**6. [0.25 балла]** Чем первый из них выгодно отличается от второго?"
   ]
  },
  {
   "cell_type": "markdown",
   "metadata": {},
   "source": [
    "╰( ͡° ͜ʖ ͡° )つ──☆*:・ﾟ"
   ]
  },
  {
   "cell_type": "markdown",
   "metadata": {},
   "source": [
    "**7. [0.75 балла]** Пусть заданы $X\\in \\text{Mat}_{n \\times k}(\\mathbb{R})$, $\\lambda \\geqslant 0$, а также известно, что $\\text{rk}~X = k \\leqslant n$. Решите следующую задачу оптимизации:\n",
    "$$|Xa - y|^2 + \\lambda|a|^2\\rightarrow\\min\\limits_{a \\in \\mathbb{R}^k}.$$"
   ]
  },
  {
   "cell_type": "markdown",
   "metadata": {},
   "source": [
    "╰( ͡° ͜ʖ ͡° )つ──☆*:・ﾟ"
   ]
  },
  {
   "cell_type": "markdown",
   "metadata": {},
   "source": [
    "Интуитивно это можно понимать так: мы ищем компромисс между минимизацией длины разности $|Xa - y|$ (то есть точностью решения задачи регрессии) и тем, чтобы компоненты вектора $a$ не становились слишком большими по модулю."
   ]
  },
  {
   "cell_type": "markdown",
   "metadata": {},
   "source": [
    "**8. [0.25 балла]** Почему регуляризовать (штрафовать за слишком большую абсолютную величину) коэффициент при константном признаке (который состоит из одних единиц) — плохая идея?"
   ]
  },
  {
   "cell_type": "markdown",
   "metadata": {},
   "source": [
    "╰( ͡° ͜ʖ ͡° )つ──☆*:・ﾟ"
   ]
  },
  {
   "cell_type": "markdown",
   "metadata": {},
   "source": [
    "**9. [0.5 балла]** Пусть теперь $\\text{rk}~X < k$. Всегда ли в этом случае существует решение? Если существует, то является ли оно единственным? Ответ обоснуйте."
   ]
  },
  {
   "cell_type": "markdown",
   "metadata": {},
   "source": [
    "╰( ͡° ͜ʖ ͡° )つ──☆*:・ﾟ"
   ]
  },
  {
   "cell_type": "markdown",
   "metadata": {},
   "source": [
    "**10. [0.25 балла]** Покажите, что если решений бесконечно много, то среди них обязательно найдутся решения со сколь угодно большими по модулю компоненты вектора $a$. Почему большие веса в линейной модели — плохо?"
   ]
  },
  {
   "cell_type": "markdown",
   "metadata": {},
   "source": [
    "╰( ͡° ͜ʖ ͡° )つ──☆*:・ﾟ"
   ]
  },
  {
   "cell_type": "markdown",
   "metadata": {},
   "source": [
    "### Задание 4. Онлайн-обучение линейной регрессии (3 балла)"
   ]
  },
  {
   "cell_type": "markdown",
   "metadata": {},
   "source": [
    "Раньше мы работали в ситуации, когда объекты $x_i$ и значения $y_i$ даны с самого начала и всегда доступны. Допустим теперь, что пары $(x_i, y_i)$ поступают к нам по одной, и мы не можем себе позволить хранить их все в памяти (это может быть актуально, например, если Вы пытаетесь обучить модель на устройстве со сравнительно небольшим количеством оперативной памяти: скажем, на мобильном телефоне или на бортовом компьютере спутника связи). В этом случае нам нужно уметь решать следующую задачу:\n",
    "\n",
    "**Известно:** решение задачи регрессии для датасета $(x_1, y_1),\\ldots,(x_t,y_t)$;\n",
    "\n",
    "**На вход поступает:** новая пара $(x_{t+1}, y_{t+1})$;\n",
    "\n",
    "**Требуется:** быстро (за время, не зависящее от $t$) отыскать решение задачи регрессии для расширенного датасета $(x_1, y_1),\\ldots,(x_t,y_t),(x_{t+1}, y_{t+1})$."
   ]
  },
  {
   "cell_type": "markdown",
   "metadata": {},
   "source": [
    "Обозначим $X_{(t)} = (x_1\\ldots x_t)^T$ и $y_{(t)} = (y_1,\\ldots,y_t)^T$. Тогда, как мы хорошо помним, решение задачи регрессии для датасета $(x_1, y_1),\\ldots,(x_t,y_t)$ имеет вид $\\hat{a}_{(t)} = \\left(X^T_{(t)}X_{(t)}\\right)^{-1}X^T_{(t)}y_{(t)}$. Размеры матриц $X^T_{(t)}X_{(t)}$ и $X^T_{(t)}y_{(t)}$ не зависят от $t$, поэтому их мы, пожалуй, можем себе позволить хранить в памяти."
   ]
  },
  {
   "cell_type": "markdown",
   "metadata": {},
   "source": [
    "**1. [1 балл]** И вот Ваше первое задание в этом разделе: придумайте алгоритм, принимающий на вход матрицы $X^T_{(t)}X_{(t)}$ и $X^T_{(t)}y_{(t)}$, а также пару $(x_{t+1}, y_{t+1})$ и вычисляющий матрицы $X^T_{(t+1)}X_{(t+1)}$ и $X^T_{(t+1)}y_{(t+1)}$. Сложность вашего алгоритма не должна зависеть от $t$."
   ]
  },
  {
   "cell_type": "markdown",
   "metadata": {},
   "source": [
    "╰( ͡° ͜ʖ ͡° )つ──☆*:・ﾟ"
   ]
  },
  {
   "cell_type": "markdown",
   "metadata": {},
   "source": [
    "**2. [2 балла]** Теперь настало время написать немного кода и порисовать красивые картинки. Вам нужно будет реализовать симуляцию онлайн-обучения регрессии для задачи приближения функции (в данном случае $f_{true}(x) = 2x\\sin(5x) + x^2 - 1$; все значения искажены небольшим нормальным шумом) многочленом степени не выше 5."
   ]
  },
  {
   "cell_type": "code",
   "execution_count": null,
   "metadata": {},
   "outputs": [],
   "source": [
    "from IPython.display import clear_output\n",
    "\n",
    "f_true = lambda x: 2*x*np.sin(5*x) + x**2 - 1 # this is the true function\n",
    "\n",
    "# We need this to make the plot of f_true:\n",
    "x_grid = np.linspace(-2,5,100) # 100 linearly spaced numbers\n",
    "x_grid_enl = np.hstack((x_grid.reshape((100,1))**j for j in range(6)))\n",
    "y_grid = f_true(x_grid)\n",
    "\n",
    "\n",
    "for i in range(200):\n",
    "\n",
    "    x_new = np.random.uniform(-2, 5)\n",
    "    y_new = f_true(x_new) + 2*np.random.randn()\n",
    "    \n",
    "    #╰( ͡° ͜ʖ ͡° )つ──☆*:・ﾟ\n",
    "    \n",
    "    # the rest of code is just bells and whistles\n",
    "    if (i+1)%5==0:\n",
    "        clear_output(True)\n",
    "        plt.plot(x_grid,y_grid, color='blue', label='true f')\n",
    "        plt.scatter(x_new, y_new, color='red')\n",
    "        \n",
    "        #╰( ͡° ͜ʖ ͡° )つ──☆*:・ﾟ\n",
    "        \n",
    "        y_pred = #╰( ͡° ͜ʖ ͡° )つ──☆*:・ﾟ\n",
    "        \n",
    "        plt.scatter(x_grid, y_pred, color='orange', linewidth=5, label='predicted f')\n",
    "        \n",
    "        plt.legend(loc='upper left')\n",
    "        plt.show()"
   ]
  },
  {
   "cell_type": "markdown",
   "metadata": {},
   "source": [
    "### Добавление. QR-разложение"
   ]
  },
  {
   "cell_type": "markdown",
   "metadata": {},
   "source": [
    "**QR-разложением** матрицы $A$ (не обязательно квадратной) мы будем называть её представление в виде $A = QR$, где $Q$ — матрица с ортонормированными столбцами, а $R$ - верхнетреугольная матрица.\n",
    "\n",
    "Смысл QR-разложения следующий. Пусть $a_1,\\ldots,a_m$ — столбцы матрицы $A$, $q_1,\\ldots,q_t$ — столбцы матрицы $Q$. Тогда $q_1,\\ldots,q_t$ — это ортонормированный базис в подпространстве, являющемся линейной оболочкой векторов $a_1,\\ldots,a_m$, а в матрице $R$ записаны коэффициенты, с помощью которых $a_i$ выражаются через $q_1,\\ldots,q_t$.\n",
    "\n",
    "Находить QR-разложение заданной матрицы можно разными способами. Мы познакомим Вас не с самым лучшим из них, но по крайней мере с наиболее простым концептуально. Заметим, что ортогональный базис линейной оболочки можно найти с помощью ортогонализации Грама-Шмидта. При этом коэффициенты из матрицы $R$ получаются в качестве побочного продукта этого процесса:\n",
    "\n",
    "```python\n",
    "for j = 1...n:\n",
    "    q_j = a_j\n",
    "    for i = 1,...,j-1:\n",
    "        r_ij = (q_i, a_j)\n",
    "        q_j = q_j - r_ij * q_i\n",
    "    r_jj = |q_j|\n",
    "    if r_jj == 0: # a_j in <a_1,...,a_j-1>\n",
    "        # What would you do in this case?..\n",
    "    q_j = q_j / r_jj\n",
    "```\n",
    "\n",
    "Для нахождения QR-разложения Вы можете использовать библиотечную функцию `scipy.linalg.qr`."
   ]
  },
  {
   "cell_type": "markdown",
   "metadata": {},
   "source": [
    "Поскольку лабораторная про линейную регрессию, не так-то просто замять вопрос о том, какое же отношение QR-разложение имеет к задаче регрессии. Упомянем одно из возможных применений.\n",
    "\n",
    "Допустим, мы нашли QR-разложение матрицы $X$, а именно: $X = QR$. Тогда\n",
    "$$X^TX = (QR)^T(QR) = R^TQ^TQR = R^TR$$"
   ]
  },
  {
   "cell_type": "markdown",
   "metadata": {},
   "source": [
    "Поскольку в задаче регрессии матрица $X$ обычного полного ранга (то есть её столбцы линейно независимы), матрица $R$ будет квадратной. Благодаря этому нашу обычную формулу для набора регрессионных коэффициентов $\\hat{a}$ можно переписать в следующем виде:\n",
    "\n",
    "$$\\hat{a} = (X^TX)^{-1}X^Ty = (R^TR)^{-1}(QR)^Ty = R^{-1}(R^T)^{-1}R^TQ^Ty = R^{-1}Q^Ty$$\n",
    "\n",
    "Как видите, формула стала проще. Более того, зачастую обращение матрицы $R$ может быть численно более устойчиво, чем обращение матрицы $X^TX$."
   ]
  }
 ],
 "metadata": {
  "kernelspec": {
   "display_name": "Python 3",
   "language": "python",
   "name": "python3"
  },
  "language_info": {
   "codemirror_mode": {
    "name": "ipython",
    "version": 3
   },
   "file_extension": ".py",
   "mimetype": "text/x-python",
   "name": "python",
   "nbconvert_exporter": "python",
   "pygments_lexer": "ipython3",
   "version": "3.8.3"
  }
 },
 "nbformat": 4,
 "nbformat_minor": 1
}
