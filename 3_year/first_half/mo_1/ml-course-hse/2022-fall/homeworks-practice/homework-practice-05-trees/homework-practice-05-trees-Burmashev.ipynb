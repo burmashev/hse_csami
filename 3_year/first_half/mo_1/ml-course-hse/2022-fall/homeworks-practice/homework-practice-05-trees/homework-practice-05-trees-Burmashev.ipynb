{
 "cells": [
  {
   "cell_type": "markdown",
   "metadata": {
    "id": "7-BeZ0mhTEZT"
   },
   "source": [
    "# Машинное обучение, ФКН ВШЭ\n",
    "\n",
    "## Практическое задание 5. Решающие деревья\n",
    "\n",
    "### Общая информация\n",
    "Дата выдачи: 18.11.2022\n",
    "\n",
    "Мягий дедлайн: 23:59MSK 30.11.2022\n",
    "\n",
    "Жестокий дедлайн: 23:59MSK 06.12.2022"
   ]
  },
  {
   "cell_type": "markdown",
   "metadata": {
    "id": "l790O-S-TEZU"
   },
   "source": [
    "### О задании\n",
    "\n",
    "Задание состоит из двух разделов:\n",
    "1. В первом разделе вы научитесь применять деревья из sklearn для задачи классификации. Вы посмотрите какие разделяющие поверхности деревья строят для различных датасетов и проанализируете их зависимость от различных гиперпараметров.\n",
    "2. Во втором разделе вы попробуете реализовать свое решающее дерево и сравните его со стандартное имплиментацией из sklearn. Вы также протестируете деревья на более сложных датасетах и сравните различные подходы к кодированию категориальных признаков.\n",
    "\n",
    "### Оценивание и штрафы\n",
    "Каждая из задач имеет определенную «стоимость» (указана в скобках около задачи). Максимально допустимая оценка за работу — 10 баллов.\n",
    "\n",
    "Сдавать задание после указанного срока сдачи нельзя. При выставлении неполного балла за задание в связи с наличием ошибок на усмотрение проверяющего предусмотрена возможность исправить работу на указанных в ответном письме условиях.\n",
    "\n",
    "Задание выполняется самостоятельно. «Похожие» решения считаются плагиатом и все задействованные студенты (в том числе те, у кого списали) не могут получить за него больше 0 баллов (подробнее о плагиате см. на странице курса). Если вы нашли решение какого-то из заданий (или его часть) в открытом источнике, необходимо указать ссылку на этот источник в отдельном блоке в конце вашей работы (скорее всего вы будете не единственным, кто это нашел, поэтому чтобы исключить подозрение в плагиате, необходима ссылка на источник).\n",
    "\n",
    "Неэффективная реализация кода может негативно отразиться на оценке.\n",
    "\n",
    "\n",
    "### Формат сдачи\n",
    "Задания сдаются через систему anytask. Посылка должна содержать:\n",
    "* Ноутбук homework-practice-05-trees-Username.ipynb\n",
    "* Модуль hw5code.py\n",
    "* Ссылки на посылки в Яндекс.Контесте для обеих задач\n",
    "\n",
    "В контест https://contest.yandex.ru/contest/43413/problems/ нужно отправить файл hw5code.py с реализованными функциями и классами.\n",
    "\n",
    "Username — ваша фамилия и имя на латинице именно в таком порядке\n",
    "\n",
    "Для удобства проверки самостоятельно посчитайте свою максимальную оценку (исходя из набора решенных задач) и укажите ниже:\n",
    "\n",
    "__Оценка:__"
   ]
  },
  {
   "cell_type": "code",
   "execution_count": null,
   "metadata": {
    "id": "VjUoF1GZTEZW"
   },
   "outputs": [],
   "source": [
    "import numpy as np\n",
    "import matplotlib.pyplot as plt\n",
    "from sklearn.tree import DecisionTreeClassifier\n",
    "from matplotlib.colors import Colormap, ListedColormap\n",
    "import pandas as pd\n",
    "from sklearn.model_selection import train_test_split\n",
    "import seaborn as sns\n",
    "sns.set(style='whitegrid')\n",
    "\n",
    "import warnings\n",
    "warnings.filterwarnings('ignore')"
   ]
  },
  {
   "cell_type": "markdown",
   "metadata": {
    "id": "uXPLGqNCTEZY"
   },
   "source": [
    "# 1. Решающие деревья. Визуализация."
   ]
  },
  {
   "cell_type": "markdown",
   "metadata": {
    "id": "hUjqXVx6TEZY"
   },
   "source": [
    "В этой части мы рассмотрим два простых двумерных датасета сделанных с помощью `make_moons`, `make_circles` и посмотрим как ведет себя разделяющая поверхность в зависимости от различных гиперпараметров."
   ]
  },
  {
   "cell_type": "code",
   "execution_count": null,
   "metadata": {
    "id": "4ZTll755TEZZ"
   },
   "outputs": [],
   "source": [
    "from sklearn.datasets import make_moons, make_circles, make_classification\n",
    "datasets = [\n",
    "    make_circles(noise=0.2, factor=0.5, random_state=42),\n",
    "    make_moons(noise=0.2, random_state=42),\n",
    "    make_classification(n_classes=3, n_clusters_per_class=1, n_features=2, class_sep=.8, random_state=3,\n",
    "                        n_redundant=0., )\n",
    "]"
   ]
  },
  {
   "cell_type": "code",
   "execution_count": null,
   "metadata": {
    "id": "RazQQTYvTEZZ"
   },
   "outputs": [],
   "source": [
    "palette = sns.color_palette(n_colors=3)\n",
    "cmap = ListedColormap(palette)"
   ]
  },
  {
   "cell_type": "code",
   "execution_count": null,
   "metadata": {
    "id": "-I8-BM9fTEZa"
   },
   "outputs": [],
   "source": [
    "plt.figure(figsize=(15, 4))\n",
    "for i, (x, y) in enumerate(datasets):\n",
    "    plt.subplot(1, 3, i + 1)\n",
    "    plt.scatter(x[:, 0], x[:, 1], c=y, cmap=cmap, alpha=.8)"
   ]
  },
  {
   "cell_type": "markdown",
   "metadata": {
    "id": "J-IG5UiBTEZa"
   },
   "source": [
    "__Задание 1. (1 балл)__\n",
    "\n",
    "Для каждого датасета обучите решающее дерево с параметрами по умолчанию, предварительно разбив выборку на обучающую и тестовую. Постройте разделящие поверхности (для этого воспользуйтесь функцией `plot_surface`, пример ниже). Посчитайте accuracy на обучающей и тестовой выборках. Сильно ли деревья переобучились?"
   ]
  },
  {
   "cell_type": "code",
   "execution_count": null,
   "metadata": {
    "id": "pBttFqh-TEZb"
   },
   "outputs": [],
   "source": [
    "def plot_surface(clf, X, y):\n",
    "    plot_step = 0.01\n",
    "    palette = sns.color_palette(n_colors=len(np.unique(y)))\n",
    "    cmap = ListedColormap(palette)\n",
    "    x_min, x_max = X[:, 0].min() - 1, X[:, 0].max() + 1\n",
    "    y_min, y_max = X[:, 1].min() - 1, X[:, 1].max() + 1\n",
    "    xx, yy = np.meshgrid(np.arange(x_min, x_max, plot_step),\n",
    "                         np.arange(y_min, y_max, plot_step))\n",
    "    plt.tight_layout(h_pad=0.5, w_pad=0.5, pad=2.5)\n",
    "\n",
    "    Z = clf.predict(np.c_[xx.ravel(), yy.ravel()])\n",
    "    Z = Z.reshape(xx.shape)\n",
    "    cs = plt.contourf(xx, yy, Z, cmap=cmap, alpha=0.3)\n",
    "\n",
    "    plt.scatter(X[:, 0], X[:, 1], c=y, cmap=cmap, alpha=.7,\n",
    "                edgecolors=np.array(palette)[y], linewidths=2)"
   ]
  },
  {
   "cell_type": "code",
   "execution_count": null,
   "metadata": {
    "id": "DcfPPap5TEZb"
   },
   "outputs": [],
   "source": [
    "# Пример:\n",
    "from sklearn.linear_model import LinearRegression\n",
    "X, y = datasets[2]\n",
    "lr  = LinearRegression().fit(X, y)\n",
    "plot_surface(lr, X, y)"
   ]
  },
  {
   "cell_type": "code",
   "execution_count": null,
   "metadata": {
    "id": "ujG9UUxTTEZc"
   },
   "outputs": [],
   "source": [
    "### ╰( ͡° ͜ʖ ͡° )つ──☆*:・ﾟ"
   ]
  },
  {
   "cell_type": "markdown",
   "metadata": {
    "id": "7UDg3DZKTEZc"
   },
   "source": [
    "__Ответ:__"
   ]
  },
  {
   "cell_type": "markdown",
   "metadata": {
    "id": "LddFdX_VTEZc"
   },
   "source": [
    "__Задание 2. (1.5 балла)__\n",
    "\n",
    "Попробуйте перебрать несколько параметров для регуляризации (напр. `max_depth`, `min_samples_leaf`). Для каждого набора гиперпараметров постройте разделяющую поверхность, выведите обучающую и тестовую ошибки. Можно делать кросс-валидацию или просто разбиение на трейн и тест, главное делайте каждый раз одинаковое разбиение, чтобы можно было корректно сравнивать (помните же, что итоговое дерево сильно зависит от небольшого изменения обучающей выборки?). Проследите как меняется разделяющая поверхность и обобщающая способность. Почему так происходит, одинаково ли изменение для разных датасетов?"
   ]
  },
  {
   "cell_type": "code",
   "execution_count": null,
   "metadata": {
    "id": "IKJZfzVDTEZd"
   },
   "outputs": [],
   "source": [
    "### ╰( ͡° ͜ʖ ͡° )つ──☆*:・ﾟ"
   ]
  },
  {
   "cell_type": "markdown",
   "metadata": {
    "id": "GQGcNWj-TEZd"
   },
   "source": [
    "__Ответ:__"
   ]
  },
  {
   "cell_type": "markdown",
   "metadata": {
    "id": "3gALYvCrTEZd"
   },
   "source": [
    "# 2. Решающие деревья своими руками"
   ]
  },
  {
   "cell_type": "markdown",
   "metadata": {
    "id": "J8juQjFKTEZd"
   },
   "source": [
    "В этой части вам нужно реализовать свой класс для обучения решающего дерева в задаче бинарной классификации с возможностью обработки вещественных и категориальных признаков."
   ]
  },
  {
   "cell_type": "code",
   "execution_count": null,
   "metadata": {},
   "outputs": [],
   "source": [
    "a = np.array([0, 1, 1, 1, 2])\n",
    "\n",
    "print(a[:-1])\n",
    "print(a[1:])\n",
    "print(a[:-1] != a[1:])"
   ]
  },
  {
   "cell_type": "markdown",
   "metadata": {
    "id": "7eEp7M9ATEZe"
   },
   "source": [
    "__Задание 3. (1.5 балл)__\n",
    "\n",
    "Реализуйте функцию find_best_split из модуля hw5code.py"
   ]
  },
  {
   "cell_type": "code",
   "execution_count": null,
   "metadata": {},
   "outputs": [],
   "source": [
    "(array([0.5, 1.5]), array([-0.4, -0.3]), 1.5, -0.30000000000000004)"
   ]
  },
  {
   "cell_type": "code",
   "execution_count": 1,
   "metadata": {},
   "outputs": [],
   "source": [
    "import hw5code\n",
    "import numpy as np\n",
    "import matplotlib.pyplot as plt\n",
    "from sklearn.tree import DecisionTreeClassifier\n",
    "from matplotlib.colors import Colormap, ListedColormap\n",
    "import pandas as pd\n",
    "from sklearn.model_selection import train_test_split\n",
    "import seaborn as sns\n",
    "sns.set(style='whitegrid')\n",
    "\n",
    "import warnings\n",
    "warnings.filterwarnings('ignore') "
   ]
  },
  {
   "cell_type": "code",
   "execution_count": 2,
   "metadata": {},
   "outputs": [
    {
     "name": "stdout",
     "output_type": "stream",
     "text": [
      "Hl [0.    0.    0.    0.375]\n",
      "Hr [0.5        0.44444444 0.         0.        ]\n",
      "Rsize 5\n",
      "left 1 [0 0 0 1]\n",
      "left 0 [1 2 3 3]\n",
      "right 1 [2 2 2 1]\n",
      "right 0 [2 1 0 0]\n"
     ]
    },
    {
     "data": {
      "text/plain": [
       "(array([0.5, 1.5]), array([-0.4, -0.3]), 1.5, -0.30000000000000004)"
      ]
     },
     "execution_count": 2,
     "metadata": {},
     "output_type": "execute_result"
    }
   ],
   "source": [
    "a = \"0 1 1 1 2\"\n",
    "\n",
    "a = a.split()\n",
    "b = \"0 0 0 1 1\"\n",
    "\n",
    "b = b.split()\n",
    "\n",
    "for i in range(len(a)):\n",
    "    a[i] = float(a[i])\n",
    "    b[i] = int(b[i])\n",
    "\n",
    "a = np.array(a)\n",
    "b = np.array(b)\n",
    "\n",
    "hw5code.find_best_split(a, b)"
   ]
  },
  {
   "cell_type": "code",
   "execution_count": 3,
   "metadata": {},
   "outputs": [
    {
     "name": "stdout",
     "output_type": "stream",
     "text": [
      "Hl [0.         0.5        0.44444444 0.5        0.48       0.44444444\n",
      " 0.48979592 0.46875    0.49382716 0.5        0.49586777 0.5\n",
      " 0.49704142 0.5        0.49777778 0.4921875  0.4982699  0.49382716\n",
      " 0.48753463 0.495      0.49886621 0.5        0.49905482 0.5\n",
      " 0.4992     0.49704142 0.49382716 0.48979592 0.49464923 0.49111111\n",
      " 0.48699272 0.4921875  0.48852158 0.49307958 0.48979592 0.49382716\n",
      " 0.49671293 0.49861496 0.49704142 0.495      0.49256395 0.48979592\n",
      " 0.48674959 0.48347107 0.48790123 0.48487713 0.48890901 0.48611111\n",
      " 0.48313203]\n",
      "Hr [0.47480217 0.47829861 0.48166591 0.47637051 0.48       0.48347107\n",
      " 0.47809627 0.48185941 0.4759072  0.46875    0.46022354 0.46537396\n",
      " 0.47041636 0.46141975 0.46693878 0.47231834 0.46280992 0.46875\n",
      " 0.47450572 0.46444444 0.45184304 0.43622449 0.4170096  0.4260355\n",
      " 0.4352     0.44444444 0.4536862  0.46280992 0.44444444 0.455\n",
      " 0.46537396 0.44444444 0.4567474  0.4296875  0.44444444 0.40816327\n",
      " 0.35502959 0.27777778 0.29752066 0.32       0.34567901 0.375\n",
      " 0.40816327 0.44444444 0.32       0.375      0.         0.\n",
      " 0.        ]\n",
      "Rsize 50\n",
      "left 1 [ 0  1  2  2  3  4  4  5  5  5  5  6  7  7  8  9  9 10 11 11 11 11 11 12\n",
      " 13 14 15 16 16 17 18 18 19 19 20 20 20 20 21 22 23 24 25 26 26 27 27 28\n",
      " 29]\n",
      "left 0 [ 1  1  1  2  2  2  3  3  4  5  6  6  6  7  7  7  8  8  8  9 10 11 12 12\n",
      " 12 12 12 12 13 13 13 14 14 15 15 16 17 18 18 18 18 18 18 18 19 19 20 20\n",
      " 20]\n",
      "right 1 [30 29 28 28 27 26 26 25 25 25 25 24 23 23 22 21 21 20 19 19 19 19 19 18\n",
      " 17 16 15 14 14 13 12 12 11 11 10 10 10 10  9  8  7  6  5  4  4  3  3  2\n",
      "  1]\n",
      "right 0 [19 19 19 18 18 18 17 17 16 15 14 14 14 13 13 13 12 12 12 11 10  9  8  8\n",
      "  8  8  8  8  7  7  7  6  6  5  5  4  3  2  2  2  2  2  2  2  1  1  0  0\n",
      "  0]\n"
     ]
    },
    {
     "data": {
      "text/plain": [
       "(array([-1.81666762, -1.63178371, -1.43949323, -1.31594281, -1.18361708,\n",
       "        -0.95653325, -0.80982012, -0.75096916, -0.66839429, -0.61286166,\n",
       "        -0.48817366, -0.3180904 , -0.24609727, -0.21939062, -0.19420681,\n",
       "        -0.15068336, -0.10255302, -0.01154386,  0.06880782,  0.07960463,\n",
       "         0.09231001,  0.12286636,  0.17993981,  0.22757209,  0.25398183,\n",
       "         0.27487044,  0.30333907,  0.35171612,  0.38731037,  0.40184503,\n",
       "         0.40808394,  0.46997449,  0.52992049,  0.53455846,  0.54325211,\n",
       "         0.6375484 ,  0.75344221,  0.79846936,  0.81895094,  0.84146836,\n",
       "         0.87086262,  0.90605277,  0.95345381,  1.00079886,  1.15550765,\n",
       "         1.37743856,  1.54541122,  1.75849618,  1.97161732]),\n",
       " array([-0.46530612, -0.47916667, -0.47943262, -0.47826087, -0.48      ,\n",
       "        -0.47878788, -0.47973422, -0.4797619 , -0.47913279, -0.475     ,\n",
       "        -0.46806527, -0.47368421, -0.47733888, -0.47222222, -0.47619048,\n",
       "        -0.47867647, -0.47486631, -0.47777778, -0.47945671, -0.47666667,\n",
       "        -0.47159278, -0.46428571, -0.4547504 , -0.46153846, -0.4672    ,\n",
       "        -0.47179487, -0.47536232, -0.47792208, -0.47356322, -0.47666667,\n",
       "        -0.47877759, -0.475     , -0.47771836, -0.47279412, -0.47619048,\n",
       "        -0.46984127, -0.45987526, -0.44561404, -0.45314685, -0.46      ,\n",
       "        -0.46612466, -0.47142857, -0.47574751, -0.47878788, -0.47111111,\n",
       "        -0.47608696, -0.45957447, -0.46666667, -0.47346939]),\n",
       " 0.7984693586603676,\n",
       " -0.4456140350877193)"
      ]
     },
     "execution_count": 3,
     "metadata": {},
     "output_type": "execute_result"
    }
   ],
   "source": [
    "a = \"-0.622338210889867 0.27900803022523873 -0.2632185854737538 1.2843746865681243 0.8213664893008863 1.470502432657698 0.88015501924617 0.8615702275397937 0.5286125578406935 0.8165353959309825 0.059259930043909656 1.8966723509140742 1.6203200078516262 0.08085353795832664 0.5312284126807192 -0.1786083362705879 0.14196623105137995 -1.7301466289296819 0.10376648327252341 -0.20980528505074766 -0.22897595630070297 0.9319505194622816 -0.8321522913751581 0.40483145246833446 1.0266406088637814 0.21791338549317366 -0.12275838943651657 -1.345565675052518 0.23723079747105077 -0.7874879524220874 0.27073285374418954 0.4113364217715728 -1.533420791813755 -0.3729622071984256 0.7264810916239055 -0.6033851134240373 0.3988586132220421 -1.0809142088802102 0.7804033213897528 0.5378885056688331 0.9749571102153596 -0.7144503641888104 0.32767010436411237 -1.286319954284159 -0.08234765809111866 0.37576213256017404 0.07835571715001924 0.5486157086475668 2.0465622910543932 -1.9031886184095317\"\n",
    "a = a.split()\n",
    "b = \"0 1 1 1 1 0 1 1 1 1 1 1 1 0 0 1 0 1 0 1 0 1 0 1 0 1 0 0 1 1 1 0 1 1 0 0 1 1 0 1 1 0 1 1 1 0 0 0 1 0\"\n",
    "b = b.split()\n",
    "\n",
    "for i in range(len(a)):\n",
    "    a[i] = float(a[i])\n",
    "    b[i] = int(b[i])\n",
    "    \n",
    "a = np.array(a)\n",
    "b = np.array(b)\n",
    "\n",
    "hw5code.find_best_split(a, b)"
   ]
  },
  {
   "cell_type": "markdown",
   "metadata": {
    "id": "PJrV4F3JTEZe"
   },
   "source": [
    "__Задание 4. (0.5 балла)__\n",
    "\n",
    "Загрузите таблицу [students.csv](https://github.com/esokolov/ml-course-hse/blob/master/2022-fall/homeworks-practice/homework-practice-05-trees/students.csv) (это немного преобразованный датасет [User Knowledge](https://archive.ics.uci.edu/ml/datasets/User+Knowledge+Modeling)). В ней признаки объекта записаны в первых пяти столбцах, а в последнем записана целевая переменная (класс: 0 или 1). Постройте на одном изображении пять кривых \"порог — значение критерия Джини\" для всех пяти признаков. Отдельно визуализируйте scatter-графики \"значение признака — класс\" для всех пяти признаков."
   ]
  },
  {
   "cell_type": "code",
   "execution_count": null,
   "metadata": {
    "id": "K7w-m-u9TEZe"
   },
   "outputs": [],
   "source": [
    "### ╰( ͡° ͜ʖ ͡° )つ──☆*:・ﾟ\n"
   ]
  },
  {
   "cell_type": "markdown",
   "metadata": {
    "id": "NUQ4vjR0TEZf"
   },
   "source": [
    "__Задание 5. (0.5 балла)__\n",
    "\n",
    "Исходя из кривых значений критерия Джини, по какому признаку нужно производить деление выборки на два поддерева? Согласуется ли этот результат с визуальной оценкой scatter-графиков? Как бы охарактеризовали вид кривой для \"хороших\" признаков, по которым выборка делится почти идеально? Чем отличаются кривые для признаков, по которым деление практически невозможно?"
   ]
  },
  {
   "cell_type": "markdown",
   "metadata": {
    "id": "lFg9VPmuTEZf"
   },
   "source": [
    "**Ответ:**"
   ]
  },
  {
   "cell_type": "markdown",
   "metadata": {
    "id": "S_0CMUJyTEZf"
   },
   "source": [
    "__Задание 6. (1.5 балла).__\n",
    "\n",
    "Разберитесь с уже написанным кодом в классе DecisionTree модуля hw5code.py. Найдите ошибки в реализации метода \\_fit_node. Напишите функцию \\_predict_node.\n",
    "\n",
    " Построение дерева осуществляется согласно базовому жадному алгоритму, предложенному в [лекции](https://github.com/esokolov/ml-course-hse/blob/master/2020-fall/lecture-notes/lecture07-trees.pdf) в разделе «Построение дерева». Выбор лучшего разбиения необходимо производить по критерию Джини. Критерий останова: все объекты в листе относятся к одному классу или ни по одному признаку нельзя разбить выборку. Ответ в листе: наиболее часто встречающийся класс в листе. Для категориальных признаков выполняется преобразование, описанное в лекции в разделе «Учет категориальных признаков»."
   ]
  },
  {
   "cell_type": "markdown",
   "metadata": {
    "id": "hCAEfUz2TEZf"
   },
   "source": [
    "__Задание 7. (0.5 балла)__\n",
    "\n",
    "Протестируйте свое решающее дерево на датасете [mushrooms](https://archive.ics.uci.edu/ml/datasets/Mushroom). Вам нужно скачать таблицу agaricus-lepiota.data (из [Data Folder](https://archive.ics.uci.edu/ml/machine-learning-databases/mushroom/)), прочитать ее с помощью pandas, применить к каждому столбцу LabelEncoder (из sklearn), чтобы преобразовать строковые имена категорий в натуральные числа. Первый столбец — это целевая переменная (e — edible, p — poisonous) Мы будем измерять качество с помощью accuracy, так что нам не очень важно, что будет классом 1, а что — классом 0. Обучите решающее дерево на половине случайно выбранных объектов (признаки в датасете категориальные) и сделайте предсказания для оставшейся половины. Вычислите accuracy.\n",
    "\n",
    "У вас должно получиться значение accuracy, равное единице (или очень близкое к единице), и не очень глубокое дерево."
   ]
  },
  {
   "cell_type": "code",
   "execution_count": null,
   "metadata": {
    "id": "vOzzO5SfTEZg"
   },
   "outputs": [],
   "source": [
    "!wget https://archive.ics.uci.edu/ml/machine-learning-databases/mushroom/agaricus-lepiota.data\n"
   ]
  },
  {
   "cell_type": "code",
   "execution_count": null,
   "metadata": {},
   "outputs": [],
   "source": [
    "import numpy as np\n",
    "import matplotlib.pyplot as plt\n",
    "from sklearn.tree import DecisionTreeClassifier\n",
    "from matplotlib.colors import Colormap, ListedColormap\n",
    "import pandas as pd\n",
    "from sklearn.model_selection import train_test_split\n",
    "import seaborn as sns\n",
    "sns.set(style='whitegrid')\n",
    "\n",
    "import warnings\n",
    "warnings.filterwarnings('ignore')\n",
    "\n",
    "from sklearn.preprocessing import LabelEncoder\n",
    "from hw5code import DecisionTree\n",
    "\n",
    "df = pd.read_csv('agaricus-lepiota.data')\n",
    "df = df.apply(LabelEncoder().fit_transform)\n",
    "\n",
    "X = df.drop(columns='p')\n",
    "y = df['p']\n",
    "X_train, X_test, y_train, y_test = train_test_split(X, y, test_size=0.5, random_state=777)"
   ]
  },
  {
   "cell_type": "code",
   "execution_count": null,
   "metadata": {},
   "outputs": [],
   "source": [
    "X = df.drop(columns='p')\n",
    "y = df['p']\n",
    "X_train, X_test, y_train, y_test = train_test_split(X, y, test_size=0.5, random_state=777)"
   ]
  },
  {
   "cell_type": "code",
   "execution_count": null,
   "metadata": {},
   "outputs": [],
   "source": [
    "feature_types_ = ['categorical'] * 2\n",
    "clf = DecisionTree(feature_types=feature_types_)\n",
    "clf.fit(X_train, y_train)"
   ]
  },
  {
   "cell_type": "markdown",
   "metadata": {
    "id": "RClb2IAyTEZg"
   },
   "source": [
    "__Задание 8. (бонус, 1 балл)__\n",
    "Реализуйте в классе DecisionTree поддержку параметров max_depth, min_samples_split и min_samples_leaf по аналогии с DecisionTreeClassifier. Постройте графики зависимости качества предсказания в зависимости от этих параметров для набора данных tic-tac-toe (см. следующий пункт)."
   ]
  },
  {
   "cell_type": "markdown",
   "metadata": {
    "id": "35i9HYPDTEZg"
   },
   "source": [
    "__Задание 9. (2 балла)__\n",
    "\n",
    "Загрузите следующие наборы данных (напомним, что pandas умеет загружать файлы по url, в нашем случае это файл \\*.data), предварительно ознакомившись с описанием признаков и целевой переменной в каждом из них (она записаны в Data Folder, в файле *.names): \n",
    "* [mushrooms](https://archive.ics.uci.edu/ml/datasets/Mushroom) (загрузили в предыдущем пункте, классы записаны в нулевом столбце),\n",
    "* [tic-tac-toe](https://archive.ics.uci.edu/ml/datasets/Tic-Tac-Toe+Endgame) (классы записаны в последнем столбце)\n",
    "* [cars](https://archive.ics.uci.edu/ml/datasets/Car+Evaluation) (классы записаны в последнем столбце, считаем что unacc, acc — это класс 0, good, vgood — класс 1)\n",
    "* [nursery](https://archive.ics.uci.edu/ml/datasets/Nursery) (классы записаны в последнем столбце, считаем, что not_recom и recommend — класс 0, very_recom, priority, spec_prior — класс 1).\n",
    "\n",
    "Закодируйте категориальные признаки, использовав LabelEncoder. С помощью cross_val_score (cv=10) оцените accuracy на каждом из этих наборов данных следующих алгоритмов:\n",
    "* DecisionTree, считающий все признаки вещественными\n",
    "* DecisionTree, считающий все признаки категориальными\n",
    "* DecisionTree, считающий все признаки вещественными + one-hot-encoding всех признаков\n",
    "* DecisionTreeClassifier из sklearn. Запишите результат в pd.DataFrame (по строкам — наборы данных, по столбцам — алгоритмы).\n",
    "\n",
    "Рекомендации:\n",
    "* Чтобы cross_val_score вычисляла точность, нужно передать scoring=make_scorer(accuracy_score), обе фукнции из sklearn.metrics.\n",
    "* Если вам позволяет память (а она скорее всего позволяет), указывайте параметр sparse=False в OneHotEncoder (если вы, конечно, используете его). Иначе вам придется добиваться того, чтобы ваша реализация дерева умела работать с разреженными матрицами (что тоже, в целом, не очень сложно)."
   ]
  },
  {
   "cell_type": "code",
   "execution_count": null,
   "metadata": {
    "id": "mzHWYQYlTEZg"
   },
   "outputs": [],
   "source": [
    "### ╰( ͡° ͜ʖ ͡° )つ──☆*:・ﾟ\n",
    "    "
   ]
  },
  {
   "cell_type": "markdown",
   "metadata": {
    "id": "kyHrtXW0TEZh"
   },
   "source": [
    "__Задание 10. (1 балла)__\n",
    "\n",
    "Проанализируйте результаты эксперимента. \n",
    "Одинаково ли для разных наборов данных ранжируются алгоритмы? \n",
    "Порассуждайте, почему так происходит. \n",
    "\n",
    "Обратите внимание на значение признаков в разных наборах данных. \n",
    "Присутствует ли в результатах какая-то компонента случайности? \n",
    "Можно ли повлиять на нее и улушить работу алгоритмов?"
   ]
  },
  {
   "cell_type": "markdown",
   "metadata": {
    "id": "_H9e_xANTEZh"
   },
   "source": [
    "**Ответ:**"
   ]
  },
  {
   "cell_type": "markdown",
   "metadata": {
    "id": "EsGY78W5TEZh"
   },
   "source": [
    "Вставьте что угодно, описывающее ваши впечатления от этого задания:"
   ]
  },
  {
   "cell_type": "code",
   "execution_count": null,
   "metadata": {
    "id": "G__5d2pkTEZh"
   },
   "outputs": [],
   "source": []
  }
 ],
 "metadata": {
  "colab": {
   "provenance": []
  },
  "kernelspec": {
   "display_name": "Python 3 (ipykernel)",
   "language": "python",
   "name": "python3"
  },
  "language_info": {
   "codemirror_mode": {
    "name": "ipython",
    "version": 3
   },
   "file_extension": ".py",
   "mimetype": "text/x-python",
   "name": "python",
   "nbconvert_exporter": "python",
   "pygments_lexer": "ipython3",
   "version": "3.9.13"
  }
 },
 "nbformat": 4,
 "nbformat_minor": 1
}
