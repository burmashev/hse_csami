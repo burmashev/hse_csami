{
 "cells": [
  {
   "cell_type": "code",
   "execution_count": 1,
   "id": "26cb1b91",
   "metadata": {},
   "outputs": [],
   "source": [
    "import numpy as np\n",
    "import pandas as pd\n",
    "import matplotlib.pyplot as plt"
   ]
  },
  {
   "cell_type": "code",
   "execution_count": 2,
   "id": "605a6dca",
   "metadata": {},
   "outputs": [
    {
     "data": {
      "text/html": [
       "<div>\n",
       "<style scoped>\n",
       "    .dataframe tbody tr th:only-of-type {\n",
       "        vertical-align: middle;\n",
       "    }\n",
       "\n",
       "    .dataframe tbody tr th {\n",
       "        vertical-align: top;\n",
       "    }\n",
       "\n",
       "    .dataframe thead th {\n",
       "        text-align: right;\n",
       "    }\n",
       "</style>\n",
       "<table border=\"1\" class=\"dataframe\">\n",
       "  <thead>\n",
       "    <tr style=\"text-align: right;\">\n",
       "      <th></th>\n",
       "      <th>Unnamed: 0</th>\n",
       "      <th>carat</th>\n",
       "      <th>cut</th>\n",
       "      <th>color</th>\n",
       "      <th>clarity</th>\n",
       "      <th>depth</th>\n",
       "      <th>table</th>\n",
       "      <th>price</th>\n",
       "      <th>x</th>\n",
       "      <th>y</th>\n",
       "      <th>z</th>\n",
       "    </tr>\n",
       "  </thead>\n",
       "  <tbody>\n",
       "    <tr>\n",
       "      <th>0</th>\n",
       "      <td>0</td>\n",
       "      <td>0.23</td>\n",
       "      <td>Ideal</td>\n",
       "      <td>E</td>\n",
       "      <td>SI2</td>\n",
       "      <td>61.5</td>\n",
       "      <td>55.0</td>\n",
       "      <td>326</td>\n",
       "      <td>3.95</td>\n",
       "      <td>3.98</td>\n",
       "      <td>2.43</td>\n",
       "    </tr>\n",
       "    <tr>\n",
       "      <th>1</th>\n",
       "      <td>1</td>\n",
       "      <td>0.21</td>\n",
       "      <td>Premium</td>\n",
       "      <td>E</td>\n",
       "      <td>SI1</td>\n",
       "      <td>59.8</td>\n",
       "      <td>61.0</td>\n",
       "      <td>326</td>\n",
       "      <td>3.89</td>\n",
       "      <td>3.84</td>\n",
       "      <td>2.31</td>\n",
       "    </tr>\n",
       "    <tr>\n",
       "      <th>2</th>\n",
       "      <td>2</td>\n",
       "      <td>0.23</td>\n",
       "      <td>Good</td>\n",
       "      <td>E</td>\n",
       "      <td>VS1</td>\n",
       "      <td>56.9</td>\n",
       "      <td>65.0</td>\n",
       "      <td>327</td>\n",
       "      <td>4.05</td>\n",
       "      <td>4.07</td>\n",
       "      <td>2.31</td>\n",
       "    </tr>\n",
       "    <tr>\n",
       "      <th>3</th>\n",
       "      <td>3</td>\n",
       "      <td>0.29</td>\n",
       "      <td>Premium</td>\n",
       "      <td>I</td>\n",
       "      <td>VS2</td>\n",
       "      <td>62.4</td>\n",
       "      <td>58.0</td>\n",
       "      <td>334</td>\n",
       "      <td>4.20</td>\n",
       "      <td>4.23</td>\n",
       "      <td>2.63</td>\n",
       "    </tr>\n",
       "    <tr>\n",
       "      <th>4</th>\n",
       "      <td>4</td>\n",
       "      <td>0.31</td>\n",
       "      <td>Good</td>\n",
       "      <td>J</td>\n",
       "      <td>SI2</td>\n",
       "      <td>63.3</td>\n",
       "      <td>58.0</td>\n",
       "      <td>335</td>\n",
       "      <td>4.34</td>\n",
       "      <td>4.35</td>\n",
       "      <td>2.75</td>\n",
       "    </tr>\n",
       "  </tbody>\n",
       "</table>\n",
       "</div>"
      ],
      "text/plain": [
       "   Unnamed: 0  carat      cut color clarity  depth  table  price     x     y  \\\n",
       "0           0   0.23    Ideal     E     SI2   61.5   55.0    326  3.95  3.98   \n",
       "1           1   0.21  Premium     E     SI1   59.8   61.0    326  3.89  3.84   \n",
       "2           2   0.23     Good     E     VS1   56.9   65.0    327  4.05  4.07   \n",
       "3           3   0.29  Premium     I     VS2   62.4   58.0    334  4.20  4.23   \n",
       "4           4   0.31     Good     J     SI2   63.3   58.0    335  4.34  4.35   \n",
       "\n",
       "      z  \n",
       "0  2.43  \n",
       "1  2.31  \n",
       "2  2.31  \n",
       "3  2.63  \n",
       "4  2.75  "
      ]
     },
     "execution_count": 2,
     "metadata": {},
     "output_type": "execute_result"
    }
   ],
   "source": [
    "df = pd.read_csv('diamonds_1000.csv')\n",
    "df.head(5)"
   ]
  },
  {
   "cell_type": "code",
   "execution_count": 3,
   "id": "bbb8955b",
   "metadata": {},
   "outputs": [
    {
     "data": {
      "text/plain": [
       "<matplotlib.lines.Line2D at 0x7ff732bb47f0>"
      ]
     },
     "execution_count": 3,
     "metadata": {},
     "output_type": "execute_result"
    },
    {
     "data": {
      "image/png": "[encoded data removed]",
      "text/plain": [
       "<Figure size 720x576 with 1 Axes>"
      ]
     },
     "metadata": {
      "needs_background": "light"
     },
     "output_type": "display_data"
    }
   ],
   "source": [
    "plt.figure(figsize=(10, 8))\n",
    "plt.hist(df['carat'], color = 'darkviolet')\n",
    "plt.axvline(0.27, c='g')\n",
    "plt.axvline(0.32, c='g')"
   ]
  },
  {
   "cell_type": "code",
   "execution_count": 4,
   "id": "d030e07b",
   "metadata": {},
   "outputs": [],
   "source": [
    "data_cat = df.copy()\n",
    "data_cat['carat_label'] = 0\n",
    "data_cat.loc[data_cat['carat'] < 0.27, 'carat_label'] = 'small'\n",
    "data_cat.loc[(data_cat['carat'] >= 0.27) & (data_cat['carat'] <= 0.32) , 'carat_label'] = 'medium'\n",
    "data_cat.loc[data_cat['carat'] > 0.32, 'carat_label'] = 'big'"
   ]
  },
  {
   "cell_type": "code",
   "execution_count": 5,
   "id": "517a02f0",
   "metadata": {},
   "outputs": [
    {
     "data": {
      "text/plain": [
       "medium    589\n",
       "small     312\n",
       "big        99\n",
       "Name: carat_label, dtype: int64"
      ]
     },
     "execution_count": 5,
     "metadata": {},
     "output_type": "execute_result"
    }
   ],
   "source": [
    "data_cat['carat_label'].value_counts()"
   ]
  },
  {
   "cell_type": "code",
   "execution_count": 6,
   "id": "ebd9f4d3",
   "metadata": {},
   "outputs": [
    {
     "data": {
      "text/plain": [
       "<matplotlib.lines.Line2D at 0x7ff732f91190>"
      ]
     },
     "execution_count": 6,
     "metadata": {},
     "output_type": "execute_result"
    },
    {
     "data": {
      "image/png": "[encoded data removed]",
      "text/plain": [
       "<Figure size 720x576 with 1 Axes>"
      ]
     },
     "metadata": {
      "needs_background": "light"
     },
     "output_type": "display_data"
    }
   ],
   "source": [
    "plt.figure(figsize=(10, 8))\n",
    "plt.hist(df['price'], color = 'darkviolet')\n",
    "floor = 380\n",
    "ceil = 440\n",
    "plt.axvline(floor, c='g')\n",
    "plt.axvline(ceil, c='g')"
   ]
  },
  {
   "cell_type": "code",
   "execution_count": 7,
   "id": "fbcefecd",
   "metadata": {},
   "outputs": [],
   "source": [
    "data_cat['price_label'] = 0\n",
    "data_cat.loc[data_cat['price'] < floor, 'price_label'] = 'cheap'\n",
    "data_cat.loc[(data_cat['price'] >= floor) & (data_cat['price'] <= ceil) , 'price_label'] = 'medium'\n",
    "data_cat.loc[data_cat['price'] > ceil, 'price_label'] = 'expensive'"
   ]
  },
  {
   "cell_type": "code",
   "execution_count": 9,
   "id": "c300b5fc",
   "metadata": {},
   "outputs": [
    {
     "data": {
      "text/plain": [
       "cheap        121\n",
       "medium       584\n",
       "expensive    295\n",
       "Name: price_label, dtype: int64"
      ]
     },
     "execution_count": 9,
     "metadata": {},
     "output_type": "execute_result"
    }
   ],
   "source": [
    "data_cat['price_label'].value_counts(sort=False)"
   ]
  },
  {
   "cell_type": "code",
   "execution_count": 10,
   "id": "38d0c2d7",
   "metadata": {},
   "outputs": [
    {
     "data": {
      "text/plain": [
       "Ideal        360\n",
       "Premium      125\n",
       "Good         133\n",
       "Very Good    377\n",
       "Fair           5\n",
       "Name: cut, dtype: int64"
      ]
     },
     "execution_count": 10,
     "metadata": {},
     "output_type": "execute_result"
    }
   ],
   "source": [
    "data_cat['cut'].value_counts(sort=False)"
   ]
  },
  {
   "cell_type": "markdown",
   "id": "fede490f",
   "metadata": {},
   "source": [
    "x1 -- cut\n",
    "x2 -- carat\n",
    "x3 -- price"
   ]
  },
  {
   "cell_type": "markdown",
   "id": "b652318c",
   "metadata": {},
   "source": [
    "### 2.1 Таблицы сопрященности"
   ]
  },
  {
   "cell_type": "code",
   "execution_count": 11,
   "id": "5d10a4cb",
   "metadata": {},
   "outputs": [
    {
     "data": {
      "text/html": [
       "<div>\n",
       "<style scoped>\n",
       "    .dataframe tbody tr th:only-of-type {\n",
       "        vertical-align: middle;\n",
       "    }\n",
       "\n",
       "    .dataframe tbody tr th {\n",
       "        vertical-align: top;\n",
       "    }\n",
       "\n",
       "    .dataframe thead th {\n",
       "        text-align: right;\n",
       "    }\n",
       "</style>\n",
       "<table border=\"1\" class=\"dataframe\">\n",
       "  <thead>\n",
       "    <tr style=\"text-align: right;\">\n",
       "      <th>carat_label</th>\n",
       "      <th>big</th>\n",
       "      <th>medium</th>\n",
       "      <th>small</th>\n",
       "      <th>All</th>\n",
       "    </tr>\n",
       "    <tr>\n",
       "      <th>cut</th>\n",
       "      <th></th>\n",
       "      <th></th>\n",
       "      <th></th>\n",
       "      <th></th>\n",
       "    </tr>\n",
       "  </thead>\n",
       "  <tbody>\n",
       "    <tr>\n",
       "      <th>Fair</th>\n",
       "      <td>0</td>\n",
       "      <td>2</td>\n",
       "      <td>3</td>\n",
       "      <td>5</td>\n",
       "    </tr>\n",
       "    <tr>\n",
       "      <th>Good</th>\n",
       "      <td>12</td>\n",
       "      <td>89</td>\n",
       "      <td>32</td>\n",
       "      <td>133</td>\n",
       "    </tr>\n",
       "    <tr>\n",
       "      <th>Ideal</th>\n",
       "      <td>45</td>\n",
       "      <td>235</td>\n",
       "      <td>80</td>\n",
       "      <td>360</td>\n",
       "    </tr>\n",
       "    <tr>\n",
       "      <th>Premium</th>\n",
       "      <td>19</td>\n",
       "      <td>70</td>\n",
       "      <td>36</td>\n",
       "      <td>125</td>\n",
       "    </tr>\n",
       "    <tr>\n",
       "      <th>Very Good</th>\n",
       "      <td>23</td>\n",
       "      <td>193</td>\n",
       "      <td>161</td>\n",
       "      <td>377</td>\n",
       "    </tr>\n",
       "    <tr>\n",
       "      <th>All</th>\n",
       "      <td>99</td>\n",
       "      <td>589</td>\n",
       "      <td>312</td>\n",
       "      <td>1000</td>\n",
       "    </tr>\n",
       "  </tbody>\n",
       "</table>\n",
       "</div>"
      ],
      "text/plain": [
       "carat_label  big  medium  small   All\n",
       "cut                                  \n",
       "Fair           0       2      3     5\n",
       "Good          12      89     32   133\n",
       "Ideal         45     235     80   360\n",
       "Premium       19      70     36   125\n",
       "Very Good     23     193    161   377\n",
       "All           99     589    312  1000"
      ]
     },
     "execution_count": 11,
     "metadata": {},
     "output_type": "execute_result"
    }
   ],
   "source": [
    "crosstab_carat1 = pd.crosstab(data_cat['cut'], data_cat['carat_label'], margins = True)\n",
    "crosstab_carat2 = pd.crosstab(data_cat['cut'], data_cat['carat_label'], margins = True, normalize=True)\n",
    "crosstab_carat1 # матрица сопряженности"
   ]
  },
  {
   "cell_type": "code",
   "execution_count": 12,
   "id": "a54152ae",
   "metadata": {},
   "outputs": [
    {
     "data": {
      "text/html": [
       "<div>\n",
       "<style scoped>\n",
       "    .dataframe tbody tr th:only-of-type {\n",
       "        vertical-align: middle;\n",
       "    }\n",
       "\n",
       "    .dataframe tbody tr th {\n",
       "        vertical-align: top;\n",
       "    }\n",
       "\n",
       "    .dataframe thead th {\n",
       "        text-align: right;\n",
       "    }\n",
       "</style>\n",
       "<table border=\"1\" class=\"dataframe\">\n",
       "  <thead>\n",
       "    <tr style=\"text-align: right;\">\n",
       "      <th>carat_label</th>\n",
       "      <th>big</th>\n",
       "      <th>medium</th>\n",
       "      <th>small</th>\n",
       "      <th>All</th>\n",
       "    </tr>\n",
       "    <tr>\n",
       "      <th>cut</th>\n",
       "      <th></th>\n",
       "      <th></th>\n",
       "      <th></th>\n",
       "      <th></th>\n",
       "    </tr>\n",
       "  </thead>\n",
       "  <tbody>\n",
       "    <tr>\n",
       "      <th>Fair</th>\n",
       "      <td>0.000</td>\n",
       "      <td>0.002</td>\n",
       "      <td>0.003</td>\n",
       "      <td>0.005</td>\n",
       "    </tr>\n",
       "    <tr>\n",
       "      <th>Good</th>\n",
       "      <td>0.012</td>\n",
       "      <td>0.089</td>\n",
       "      <td>0.032</td>\n",
       "      <td>0.133</td>\n",
       "    </tr>\n",
       "    <tr>\n",
       "      <th>Ideal</th>\n",
       "      <td>0.045</td>\n",
       "      <td>0.235</td>\n",
       "      <td>0.080</td>\n",
       "      <td>0.360</td>\n",
       "    </tr>\n",
       "    <tr>\n",
       "      <th>Premium</th>\n",
       "      <td>0.019</td>\n",
       "      <td>0.070</td>\n",
       "      <td>0.036</td>\n",
       "      <td>0.125</td>\n",
       "    </tr>\n",
       "    <tr>\n",
       "      <th>Very Good</th>\n",
       "      <td>0.023</td>\n",
       "      <td>0.193</td>\n",
       "      <td>0.161</td>\n",
       "      <td>0.377</td>\n",
       "    </tr>\n",
       "    <tr>\n",
       "      <th>All</th>\n",
       "      <td>0.099</td>\n",
       "      <td>0.589</td>\n",
       "      <td>0.312</td>\n",
       "      <td>1.000</td>\n",
       "    </tr>\n",
       "  </tbody>\n",
       "</table>\n",
       "</div>"
      ],
      "text/plain": [
       "carat_label    big  medium  small    All\n",
       "cut                                     \n",
       "Fair         0.000   0.002  0.003  0.005\n",
       "Good         0.012   0.089  0.032  0.133\n",
       "Ideal        0.045   0.235  0.080  0.360\n",
       "Premium      0.019   0.070  0.036  0.125\n",
       "Very Good    0.023   0.193  0.161  0.377\n",
       "All          0.099   0.589  0.312  1.000"
      ]
     },
     "execution_count": 12,
     "metadata": {},
     "output_type": "execute_result"
    }
   ],
   "source": [
    "crosstab_carat2"
   ]
  },
  {
   "cell_type": "code",
   "execution_count": 13,
   "id": "dc17ba48",
   "metadata": {},
   "outputs": [
    {
     "data": {
      "text/html": [
       "<div>\n",
       "<style scoped>\n",
       "    .dataframe tbody tr th:only-of-type {\n",
       "        vertical-align: middle;\n",
       "    }\n",
       "\n",
       "    .dataframe tbody tr th {\n",
       "        vertical-align: top;\n",
       "    }\n",
       "\n",
       "    .dataframe thead th {\n",
       "        text-align: right;\n",
       "    }\n",
       "</style>\n",
       "<table border=\"1\" class=\"dataframe\">\n",
       "  <thead>\n",
       "    <tr style=\"text-align: right;\">\n",
       "      <th>price_label</th>\n",
       "      <th>cheap</th>\n",
       "      <th>expensive</th>\n",
       "      <th>medium</th>\n",
       "      <th>All</th>\n",
       "    </tr>\n",
       "    <tr>\n",
       "      <th>cut</th>\n",
       "      <th></th>\n",
       "      <th></th>\n",
       "      <th></th>\n",
       "      <th></th>\n",
       "    </tr>\n",
       "  </thead>\n",
       "  <tbody>\n",
       "    <tr>\n",
       "      <th>Fair</th>\n",
       "      <td>4</td>\n",
       "      <td>0</td>\n",
       "      <td>1</td>\n",
       "      <td>5</td>\n",
       "    </tr>\n",
       "    <tr>\n",
       "      <th>Good</th>\n",
       "      <td>28</td>\n",
       "      <td>29</td>\n",
       "      <td>76</td>\n",
       "      <td>133</td>\n",
       "    </tr>\n",
       "    <tr>\n",
       "      <th>Ideal</th>\n",
       "      <td>29</td>\n",
       "      <td>128</td>\n",
       "      <td>203</td>\n",
       "      <td>360</td>\n",
       "    </tr>\n",
       "    <tr>\n",
       "      <th>Premium</th>\n",
       "      <td>19</td>\n",
       "      <td>32</td>\n",
       "      <td>74</td>\n",
       "      <td>125</td>\n",
       "    </tr>\n",
       "    <tr>\n",
       "      <th>Very Good</th>\n",
       "      <td>41</td>\n",
       "      <td>106</td>\n",
       "      <td>230</td>\n",
       "      <td>377</td>\n",
       "    </tr>\n",
       "    <tr>\n",
       "      <th>All</th>\n",
       "      <td>121</td>\n",
       "      <td>295</td>\n",
       "      <td>584</td>\n",
       "      <td>1000</td>\n",
       "    </tr>\n",
       "  </tbody>\n",
       "</table>\n",
       "</div>"
      ],
      "text/plain": [
       "price_label  cheap  expensive  medium   All\n",
       "cut                                        \n",
       "Fair             4          0       1     5\n",
       "Good            28         29      76   133\n",
       "Ideal           29        128     203   360\n",
       "Premium         19         32      74   125\n",
       "Very Good       41        106     230   377\n",
       "All            121        295     584  1000"
      ]
     },
     "execution_count": 13,
     "metadata": {},
     "output_type": "execute_result"
    }
   ],
   "source": [
    "crosstab_price1 = pd.crosstab(data_cat['cut'], data_cat['price_label'], margins = True)\n",
    "crosstab_price2 = pd.crosstab(data_cat['cut'], data_cat['price_label'], margins = True, normalize=True)\n",
    "crosstab_price1 # матрица сопряженности"
   ]
  },
  {
   "cell_type": "code",
   "execution_count": 14,
   "id": "1a2f7d6c",
   "metadata": {},
   "outputs": [
    {
     "data": {
      "text/html": [
       "<div>\n",
       "<style scoped>\n",
       "    .dataframe tbody tr th:only-of-type {\n",
       "        vertical-align: middle;\n",
       "    }\n",
       "\n",
       "    .dataframe tbody tr th {\n",
       "        vertical-align: top;\n",
       "    }\n",
       "\n",
       "    .dataframe thead th {\n",
       "        text-align: right;\n",
       "    }\n",
       "</style>\n",
       "<table border=\"1\" class=\"dataframe\">\n",
       "  <thead>\n",
       "    <tr style=\"text-align: right;\">\n",
       "      <th>price_label</th>\n",
       "      <th>cheap</th>\n",
       "      <th>expensive</th>\n",
       "      <th>medium</th>\n",
       "      <th>All</th>\n",
       "    </tr>\n",
       "    <tr>\n",
       "      <th>cut</th>\n",
       "      <th></th>\n",
       "      <th></th>\n",
       "      <th></th>\n",
       "      <th></th>\n",
       "    </tr>\n",
       "  </thead>\n",
       "  <tbody>\n",
       "    <tr>\n",
       "      <th>Fair</th>\n",
       "      <td>0.004</td>\n",
       "      <td>0.000</td>\n",
       "      <td>0.001</td>\n",
       "      <td>0.005</td>\n",
       "    </tr>\n",
       "    <tr>\n",
       "      <th>Good</th>\n",
       "      <td>0.028</td>\n",
       "      <td>0.029</td>\n",
       "      <td>0.076</td>\n",
       "      <td>0.133</td>\n",
       "    </tr>\n",
       "    <tr>\n",
       "      <th>Ideal</th>\n",
       "      <td>0.029</td>\n",
       "      <td>0.128</td>\n",
       "      <td>0.203</td>\n",
       "      <td>0.360</td>\n",
       "    </tr>\n",
       "    <tr>\n",
       "      <th>Premium</th>\n",
       "      <td>0.019</td>\n",
       "      <td>0.032</td>\n",
       "      <td>0.074</td>\n",
       "      <td>0.125</td>\n",
       "    </tr>\n",
       "    <tr>\n",
       "      <th>Very Good</th>\n",
       "      <td>0.041</td>\n",
       "      <td>0.106</td>\n",
       "      <td>0.230</td>\n",
       "      <td>0.377</td>\n",
       "    </tr>\n",
       "    <tr>\n",
       "      <th>All</th>\n",
       "      <td>0.121</td>\n",
       "      <td>0.295</td>\n",
       "      <td>0.584</td>\n",
       "      <td>1.000</td>\n",
       "    </tr>\n",
       "  </tbody>\n",
       "</table>\n",
       "</div>"
      ],
      "text/plain": [
       "price_label  cheap  expensive  medium    All\n",
       "cut                                         \n",
       "Fair         0.004      0.000   0.001  0.005\n",
       "Good         0.028      0.029   0.076  0.133\n",
       "Ideal        0.029      0.128   0.203  0.360\n",
       "Premium      0.019      0.032   0.074  0.125\n",
       "Very Good    0.041      0.106   0.230  0.377\n",
       "All          0.121      0.295   0.584  1.000"
      ]
     },
     "execution_count": 14,
     "metadata": {},
     "output_type": "execute_result"
    }
   ],
   "source": [
    "crosstab_price2"
   ]
  },
  {
   "cell_type": "markdown",
   "id": "e0ef7f82",
   "metadata": {},
   "source": [
    "### 2.2 Матрицы условных вероятностей"
   ]
  },
  {
   "cell_type": "code",
   "execution_count": 15,
   "id": "0e71f565",
   "metadata": {},
   "outputs": [
    {
     "data": {
      "text/html": [
       "<div>\n",
       "<style scoped>\n",
       "    .dataframe tbody tr th:only-of-type {\n",
       "        vertical-align: middle;\n",
       "    }\n",
       "\n",
       "    .dataframe tbody tr th {\n",
       "        vertical-align: top;\n",
       "    }\n",
       "\n",
       "    .dataframe thead th {\n",
       "        text-align: right;\n",
       "    }\n",
       "</style>\n",
       "<table border=\"1\" class=\"dataframe\">\n",
       "  <thead>\n",
       "    <tr style=\"text-align: right;\">\n",
       "      <th>carat_label</th>\n",
       "      <th>big</th>\n",
       "      <th>medium</th>\n",
       "      <th>small</th>\n",
       "      <th>All</th>\n",
       "    </tr>\n",
       "    <tr>\n",
       "      <th>cut</th>\n",
       "      <th></th>\n",
       "      <th></th>\n",
       "      <th></th>\n",
       "      <th></th>\n",
       "    </tr>\n",
       "  </thead>\n",
       "  <tbody>\n",
       "    <tr>\n",
       "      <th>Fair</th>\n",
       "      <td>0.000000</td>\n",
       "      <td>0.003396</td>\n",
       "      <td>0.009615</td>\n",
       "      <td>0.005</td>\n",
       "    </tr>\n",
       "    <tr>\n",
       "      <th>Good</th>\n",
       "      <td>0.121212</td>\n",
       "      <td>0.151104</td>\n",
       "      <td>0.102564</td>\n",
       "      <td>0.133</td>\n",
       "    </tr>\n",
       "    <tr>\n",
       "      <th>Ideal</th>\n",
       "      <td>0.454545</td>\n",
       "      <td>0.398981</td>\n",
       "      <td>0.256410</td>\n",
       "      <td>0.360</td>\n",
       "    </tr>\n",
       "    <tr>\n",
       "      <th>Premium</th>\n",
       "      <td>0.191919</td>\n",
       "      <td>0.118846</td>\n",
       "      <td>0.115385</td>\n",
       "      <td>0.125</td>\n",
       "    </tr>\n",
       "    <tr>\n",
       "      <th>Very Good</th>\n",
       "      <td>0.232323</td>\n",
       "      <td>0.327674</td>\n",
       "      <td>0.516026</td>\n",
       "      <td>0.377</td>\n",
       "    </tr>\n",
       "    <tr>\n",
       "      <th>All</th>\n",
       "      <td>1.000000</td>\n",
       "      <td>1.000000</td>\n",
       "      <td>1.000000</td>\n",
       "      <td>1.000</td>\n",
       "    </tr>\n",
       "  </tbody>\n",
       "</table>\n",
       "</div>"
      ],
      "text/plain": [
       "carat_label       big    medium     small    All\n",
       "cut                                             \n",
       "Fair         0.000000  0.003396  0.009615  0.005\n",
       "Good         0.121212  0.151104  0.102564  0.133\n",
       "Ideal        0.454545  0.398981  0.256410  0.360\n",
       "Premium      0.191919  0.118846  0.115385  0.125\n",
       "Very Good    0.232323  0.327674  0.516026  0.377\n",
       "All          1.000000  1.000000  1.000000  1.000"
      ]
     },
     "execution_count": 15,
     "metadata": {},
     "output_type": "execute_result"
    }
   ],
   "source": [
    "cond_prob_carat = np.divide(crosstab_carat1, np.array(crosstab_carat1[-1:]))\n",
    "cond_prob_carat # матрица условных вероятностей"
   ]
  },
  {
   "cell_type": "code",
   "execution_count": 16,
   "id": "44a55cbb",
   "metadata": {},
   "outputs": [
    {
     "data": {
      "text/html": [
       "<div>\n",
       "<style scoped>\n",
       "    .dataframe tbody tr th:only-of-type {\n",
       "        vertical-align: middle;\n",
       "    }\n",
       "\n",
       "    .dataframe tbody tr th {\n",
       "        vertical-align: top;\n",
       "    }\n",
       "\n",
       "    .dataframe thead th {\n",
       "        text-align: right;\n",
       "    }\n",
       "</style>\n",
       "<table border=\"1\" class=\"dataframe\">\n",
       "  <thead>\n",
       "    <tr style=\"text-align: right;\">\n",
       "      <th>price_label</th>\n",
       "      <th>cheap</th>\n",
       "      <th>expensive</th>\n",
       "      <th>medium</th>\n",
       "      <th>All</th>\n",
       "    </tr>\n",
       "    <tr>\n",
       "      <th>cut</th>\n",
       "      <th></th>\n",
       "      <th></th>\n",
       "      <th></th>\n",
       "      <th></th>\n",
       "    </tr>\n",
       "  </thead>\n",
       "  <tbody>\n",
       "    <tr>\n",
       "      <th>Fair</th>\n",
       "      <td>0.033058</td>\n",
       "      <td>0.000000</td>\n",
       "      <td>0.001712</td>\n",
       "      <td>0.005</td>\n",
       "    </tr>\n",
       "    <tr>\n",
       "      <th>Good</th>\n",
       "      <td>0.231405</td>\n",
       "      <td>0.098305</td>\n",
       "      <td>0.130137</td>\n",
       "      <td>0.133</td>\n",
       "    </tr>\n",
       "    <tr>\n",
       "      <th>Ideal</th>\n",
       "      <td>0.239669</td>\n",
       "      <td>0.433898</td>\n",
       "      <td>0.347603</td>\n",
       "      <td>0.360</td>\n",
       "    </tr>\n",
       "    <tr>\n",
       "      <th>Premium</th>\n",
       "      <td>0.157025</td>\n",
       "      <td>0.108475</td>\n",
       "      <td>0.126712</td>\n",
       "      <td>0.125</td>\n",
       "    </tr>\n",
       "    <tr>\n",
       "      <th>Very Good</th>\n",
       "      <td>0.338843</td>\n",
       "      <td>0.359322</td>\n",
       "      <td>0.393836</td>\n",
       "      <td>0.377</td>\n",
       "    </tr>\n",
       "    <tr>\n",
       "      <th>All</th>\n",
       "      <td>1.000000</td>\n",
       "      <td>1.000000</td>\n",
       "      <td>1.000000</td>\n",
       "      <td>1.000</td>\n",
       "    </tr>\n",
       "  </tbody>\n",
       "</table>\n",
       "</div>"
      ],
      "text/plain": [
       "price_label     cheap  expensive    medium    All\n",
       "cut                                              \n",
       "Fair         0.033058   0.000000  0.001712  0.005\n",
       "Good         0.231405   0.098305  0.130137  0.133\n",
       "Ideal        0.239669   0.433898  0.347603  0.360\n",
       "Premium      0.157025   0.108475  0.126712  0.125\n",
       "Very Good    0.338843   0.359322  0.393836  0.377\n",
       "All          1.000000   1.000000  1.000000  1.000"
      ]
     },
     "execution_count": 16,
     "metadata": {},
     "output_type": "execute_result"
    }
   ],
   "source": [
    "cond_prob_price = np.divide(crosstab_price1, np.array(crosstab_price1[-1:]))\n",
    "cond_prob_price # матрица условных вероятностей"
   ]
  },
  {
   "cell_type": "markdown",
   "id": "b5f5e57c",
   "metadata": {},
   "source": [
    "### Чето еще "
   ]
  },
  {
   "cell_type": "code",
   "execution_count": 17,
   "id": "14e3ea6a",
   "metadata": {},
   "outputs": [
    {
     "data": {
      "text/plain": [
       "array([[4.95000e-04, 2.94500e-03, 1.56000e-03, 5.00000e-03],\n",
       "       [1.31670e-02, 7.83370e-02, 4.14960e-02, 1.33000e-01],\n",
       "       [3.56400e-02, 2.12040e-01, 1.12320e-01, 3.60000e-01],\n",
       "       [1.23750e-02, 7.36250e-02, 3.90000e-02, 1.25000e-01],\n",
       "       [3.73230e-02, 2.22053e-01, 1.17624e-01, 3.77000e-01],\n",
       "       [9.90000e-02, 5.89000e-01, 3.12000e-01, 1.00000e+00]])"
      ]
     },
     "execution_count": 17,
     "metadata": {},
     "output_type": "execute_result"
    }
   ],
   "source": [
    "c_prob = crosstab_carat2.iloc[:, -1].values[:, None] @ crosstab_carat2.iloc[-1, :].values[None, :]\n",
    "c_prob # матрица распределения при условии независимости признаков"
   ]
  },
  {
   "cell_type": "code",
   "execution_count": 18,
   "id": "4f6477ed",
   "metadata": {},
   "outputs": [
    {
     "data": {
      "text/plain": [
       "array([[6.05000e-04, 1.47500e-03, 2.92000e-03, 5.00000e-03],\n",
       "       [1.60930e-02, 3.92350e-02, 7.76720e-02, 1.33000e-01],\n",
       "       [4.35600e-02, 1.06200e-01, 2.10240e-01, 3.60000e-01],\n",
       "       [1.51250e-02, 3.68750e-02, 7.30000e-02, 1.25000e-01],\n",
       "       [4.56170e-02, 1.11215e-01, 2.20168e-01, 3.77000e-01],\n",
       "       [1.21000e-01, 2.95000e-01, 5.84000e-01, 1.00000e+00]])"
      ]
     },
     "execution_count": 18,
     "metadata": {},
     "output_type": "execute_result"
    }
   ],
   "source": [
    "p_prob = crosstab_price2.iloc[:, -1].values[:, None] @ crosstab_price2.iloc[-1, :].values[None, :]\n",
    "p_prob"
   ]
  },
  {
   "cell_type": "markdown",
   "id": "c466bc3d",
   "metadata": {},
   "source": [
    "### Коэффы Кетле "
   ]
  },
  {
   "cell_type": "code",
   "execution_count": 19,
   "id": "6d14eea3",
   "metadata": {},
   "outputs": [
    {
     "data": {
      "text/html": [
       "<div>\n",
       "<style scoped>\n",
       "    .dataframe tbody tr th:only-of-type {\n",
       "        vertical-align: middle;\n",
       "    }\n",
       "\n",
       "    .dataframe tbody tr th {\n",
       "        vertical-align: top;\n",
       "    }\n",
       "\n",
       "    .dataframe thead th {\n",
       "        text-align: right;\n",
       "    }\n",
       "</style>\n",
       "<table border=\"1\" class=\"dataframe\">\n",
       "  <thead>\n",
       "    <tr style=\"text-align: right;\">\n",
       "      <th>carat_label</th>\n",
       "      <th>big</th>\n",
       "      <th>medium</th>\n",
       "      <th>small</th>\n",
       "      <th>All</th>\n",
       "    </tr>\n",
       "    <tr>\n",
       "      <th>cut</th>\n",
       "      <th></th>\n",
       "      <th></th>\n",
       "      <th></th>\n",
       "      <th></th>\n",
       "    </tr>\n",
       "  </thead>\n",
       "  <tbody>\n",
       "    <tr>\n",
       "      <th>Fair</th>\n",
       "      <td>-1.000000</td>\n",
       "      <td>-0.320883</td>\n",
       "      <td>0.923077</td>\n",
       "      <td>0.0</td>\n",
       "    </tr>\n",
       "    <tr>\n",
       "      <th>Good</th>\n",
       "      <td>-0.088631</td>\n",
       "      <td>0.136117</td>\n",
       "      <td>-0.228841</td>\n",
       "      <td>0.0</td>\n",
       "    </tr>\n",
       "    <tr>\n",
       "      <th>Ideal</th>\n",
       "      <td>0.262626</td>\n",
       "      <td>0.108281</td>\n",
       "      <td>-0.287749</td>\n",
       "      <td>0.0</td>\n",
       "    </tr>\n",
       "    <tr>\n",
       "      <th>Premium</th>\n",
       "      <td>0.535354</td>\n",
       "      <td>-0.049236</td>\n",
       "      <td>-0.076923</td>\n",
       "      <td>0.0</td>\n",
       "    </tr>\n",
       "    <tr>\n",
       "      <th>Very Good</th>\n",
       "      <td>-0.383758</td>\n",
       "      <td>-0.130838</td>\n",
       "      <td>0.368768</td>\n",
       "      <td>0.0</td>\n",
       "    </tr>\n",
       "    <tr>\n",
       "      <th>All</th>\n",
       "      <td>0.000000</td>\n",
       "      <td>0.000000</td>\n",
       "      <td>0.000000</td>\n",
       "      <td>0.0</td>\n",
       "    </tr>\n",
       "  </tbody>\n",
       "</table>\n",
       "</div>"
      ],
      "text/plain": [
       "carat_label       big    medium     small  All\n",
       "cut                                           \n",
       "Fair        -1.000000 -0.320883  0.923077  0.0\n",
       "Good        -0.088631  0.136117 -0.228841  0.0\n",
       "Ideal        0.262626  0.108281 -0.287749  0.0\n",
       "Premium      0.535354 -0.049236 -0.076923  0.0\n",
       "Very Good   -0.383758 -0.130838  0.368768  0.0\n",
       "All          0.000000  0.000000  0.000000  0.0"
      ]
     },
     "execution_count": 19,
     "metadata": {},
     "output_type": "execute_result"
    }
   ],
   "source": [
    "c_quetle = crosstab_carat2 / c_prob - 1\n",
    "c_quetle # матрица индексов Кетле"
   ]
  },
  {
   "cell_type": "code",
   "execution_count": 20,
   "id": "aaaa4911",
   "metadata": {},
   "outputs": [
    {
     "data": {
      "text/plain": [
       "0.04934923723122417"
      ]
     },
     "execution_count": 20,
     "metadata": {},
     "output_type": "execute_result"
    }
   ],
   "source": [
    "m = crosstab_carat2.iloc[:-1, :-1] * c_quetle\n",
    "np.sum(m.iloc[1:,1:].values)"
   ]
  },
  {
   "cell_type": "code",
   "execution_count": 21,
   "id": "16db3a67",
   "metadata": {},
   "outputs": [
    {
     "data": {
      "text/html": [
       "<div>\n",
       "<style scoped>\n",
       "    .dataframe tbody tr th:only-of-type {\n",
       "        vertical-align: middle;\n",
       "    }\n",
       "\n",
       "    .dataframe tbody tr th {\n",
       "        vertical-align: top;\n",
       "    }\n",
       "\n",
       "    .dataframe thead th {\n",
       "        text-align: right;\n",
       "    }\n",
       "</style>\n",
       "<table border=\"1\" class=\"dataframe\">\n",
       "  <thead>\n",
       "    <tr style=\"text-align: right;\">\n",
       "      <th>price_label</th>\n",
       "      <th>cheap</th>\n",
       "      <th>expensive</th>\n",
       "      <th>medium</th>\n",
       "      <th>All</th>\n",
       "    </tr>\n",
       "    <tr>\n",
       "      <th>cut</th>\n",
       "      <th></th>\n",
       "      <th></th>\n",
       "      <th></th>\n",
       "      <th></th>\n",
       "    </tr>\n",
       "  </thead>\n",
       "  <tbody>\n",
       "    <tr>\n",
       "      <th>Fair</th>\n",
       "      <td>5.611570</td>\n",
       "      <td>-1.000000</td>\n",
       "      <td>-0.657534</td>\n",
       "      <td>0.0</td>\n",
       "    </tr>\n",
       "    <tr>\n",
       "      <th>Good</th>\n",
       "      <td>0.739887</td>\n",
       "      <td>-0.260864</td>\n",
       "      <td>-0.021526</td>\n",
       "      <td>0.0</td>\n",
       "    </tr>\n",
       "    <tr>\n",
       "      <th>Ideal</th>\n",
       "      <td>-0.334252</td>\n",
       "      <td>0.205273</td>\n",
       "      <td>-0.034437</td>\n",
       "      <td>0.0</td>\n",
       "    </tr>\n",
       "    <tr>\n",
       "      <th>Premium</th>\n",
       "      <td>0.256198</td>\n",
       "      <td>-0.132203</td>\n",
       "      <td>0.013699</td>\n",
       "      <td>0.0</td>\n",
       "    </tr>\n",
       "    <tr>\n",
       "      <th>Very Good</th>\n",
       "      <td>-0.101212</td>\n",
       "      <td>-0.046891</td>\n",
       "      <td>0.044657</td>\n",
       "      <td>0.0</td>\n",
       "    </tr>\n",
       "    <tr>\n",
       "      <th>All</th>\n",
       "      <td>0.000000</td>\n",
       "      <td>0.000000</td>\n",
       "      <td>0.000000</td>\n",
       "      <td>0.0</td>\n",
       "    </tr>\n",
       "  </tbody>\n",
       "</table>\n",
       "</div>"
      ],
      "text/plain": [
       "price_label     cheap  expensive    medium  All\n",
       "cut                                            \n",
       "Fair         5.611570  -1.000000 -0.657534  0.0\n",
       "Good         0.739887  -0.260864 -0.021526  0.0\n",
       "Ideal       -0.334252   0.205273 -0.034437  0.0\n",
       "Premium      0.256198  -0.132203  0.013699  0.0\n",
       "Very Good   -0.101212  -0.046891  0.044657  0.0\n",
       "All          0.000000   0.000000  0.000000  0.0"
      ]
     },
     "execution_count": 21,
     "metadata": {},
     "output_type": "execute_result"
    }
   ],
   "source": [
    "p_quetle = crosstab_price2 / p_prob - 1\n",
    "p_quetle # матрица индексов Кетле"
   ]
  },
  {
   "cell_type": "code",
   "execution_count": 22,
   "id": "7e1879bd",
   "metadata": {},
   "outputs": [
    {
     "data": {
      "text/plain": [
       "0.045697353512263464"
      ]
     },
     "execution_count": 22,
     "metadata": {},
     "output_type": "execute_result"
    }
   ],
   "source": [
    "m = crosstab_price2.iloc[:-1, :-1] * p_quetle\n",
    "np.sum(m.iloc[1:,1:].values)"
   ]
  },
  {
   "cell_type": "markdown",
   "id": "3897b2fc",
   "metadata": {},
   "source": [
    "### Chi square"
   ]
  },
  {
   "cell_type": "code",
   "execution_count": 23,
   "id": "7aa7f388",
   "metadata": {},
   "outputs": [
    {
     "data": {
      "text/html": [
       "<div>\n",
       "<style scoped>\n",
       "    .dataframe tbody tr th:only-of-type {\n",
       "        vertical-align: middle;\n",
       "    }\n",
       "\n",
       "    .dataframe tbody tr th {\n",
       "        vertical-align: top;\n",
       "    }\n",
       "\n",
       "    .dataframe thead th {\n",
       "        text-align: right;\n",
       "    }\n",
       "</style>\n",
       "<table border=\"1\" class=\"dataframe\">\n",
       "  <thead>\n",
       "    <tr style=\"text-align: right;\">\n",
       "      <th>carat_label</th>\n",
       "      <th>big</th>\n",
       "      <th>medium</th>\n",
       "      <th>small</th>\n",
       "    </tr>\n",
       "    <tr>\n",
       "      <th>cut</th>\n",
       "      <th></th>\n",
       "      <th></th>\n",
       "      <th></th>\n",
       "    </tr>\n",
       "  </thead>\n",
       "  <tbody>\n",
       "    <tr>\n",
       "      <th>Fair</th>\n",
       "      <td>0.000495</td>\n",
       "      <td>0.000303</td>\n",
       "      <td>0.001329</td>\n",
       "    </tr>\n",
       "    <tr>\n",
       "      <th>Good</th>\n",
       "      <td>0.000103</td>\n",
       "      <td>0.001451</td>\n",
       "      <td>0.002173</td>\n",
       "    </tr>\n",
       "    <tr>\n",
       "      <th>Ideal</th>\n",
       "      <td>0.002458</td>\n",
       "      <td>0.002486</td>\n",
       "      <td>0.009300</td>\n",
       "    </tr>\n",
       "    <tr>\n",
       "      <th>Premium</th>\n",
       "      <td>0.003547</td>\n",
       "      <td>0.000178</td>\n",
       "      <td>0.000231</td>\n",
       "    </tr>\n",
       "    <tr>\n",
       "      <th>Very Good</th>\n",
       "      <td>0.005497</td>\n",
       "      <td>0.003801</td>\n",
       "      <td>0.015996</td>\n",
       "    </tr>\n",
       "  </tbody>\n",
       "</table>\n",
       "</div>"
      ],
      "text/plain": [
       "carat_label       big    medium     small\n",
       "cut                                      \n",
       "Fair         0.000495  0.000303  0.001329\n",
       "Good         0.000103  0.001451  0.002173\n",
       "Ideal        0.002458  0.002486  0.009300\n",
       "Premium      0.003547  0.000178  0.000231\n",
       "Very Good    0.005497  0.003801  0.015996"
      ]
     },
     "execution_count": 23,
     "metadata": {},
     "output_type": "execute_result"
    }
   ],
   "source": [
    "c_kxi = (crosstab_carat2  - c_prob)**2 / c_prob\n",
    "c_kxi = c_kxi.iloc[:-1, :-1]\n",
    "c_kxi # хи-квадрат"
   ]
  },
  {
   "cell_type": "code",
   "execution_count": 24,
   "id": "93c3398b",
   "metadata": {},
   "outputs": [
    {
     "data": {
      "text/plain": [
       "0.04934923723122414"
      ]
     },
     "execution_count": 24,
     "metadata": {},
     "output_type": "execute_result"
    }
   ],
   "source": [
    "np.sum(c_kxi.values)"
   ]
  },
  {
   "cell_type": "code",
   "execution_count": 25,
   "id": "9bf4e87f",
   "metadata": {},
   "outputs": [
    {
     "data": {
      "text/html": [
       "<div>\n",
       "<style scoped>\n",
       "    .dataframe tbody tr th:only-of-type {\n",
       "        vertical-align: middle;\n",
       "    }\n",
       "\n",
       "    .dataframe tbody tr th {\n",
       "        vertical-align: top;\n",
       "    }\n",
       "\n",
       "    .dataframe thead th {\n",
       "        text-align: right;\n",
       "    }\n",
       "</style>\n",
       "<table border=\"1\" class=\"dataframe\">\n",
       "  <thead>\n",
       "    <tr style=\"text-align: right;\">\n",
       "      <th>price_label</th>\n",
       "      <th>cheap</th>\n",
       "      <th>expensive</th>\n",
       "      <th>medium</th>\n",
       "    </tr>\n",
       "    <tr>\n",
       "      <th>cut</th>\n",
       "      <th></th>\n",
       "      <th></th>\n",
       "      <th></th>\n",
       "    </tr>\n",
       "  </thead>\n",
       "  <tbody>\n",
       "    <tr>\n",
       "      <th>Fair</th>\n",
       "      <td>0.019051</td>\n",
       "      <td>0.001475</td>\n",
       "      <td>0.001262</td>\n",
       "    </tr>\n",
       "    <tr>\n",
       "      <th>Good</th>\n",
       "      <td>0.008810</td>\n",
       "      <td>0.002670</td>\n",
       "      <td>0.000036</td>\n",
       "    </tr>\n",
       "    <tr>\n",
       "      <th>Ideal</th>\n",
       "      <td>0.004867</td>\n",
       "      <td>0.004475</td>\n",
       "      <td>0.000249</td>\n",
       "    </tr>\n",
       "    <tr>\n",
       "      <th>Premium</th>\n",
       "      <td>0.000993</td>\n",
       "      <td>0.000644</td>\n",
       "      <td>0.000014</td>\n",
       "    </tr>\n",
       "    <tr>\n",
       "      <th>Very Good</th>\n",
       "      <td>0.000467</td>\n",
       "      <td>0.000245</td>\n",
       "      <td>0.000439</td>\n",
       "    </tr>\n",
       "  </tbody>\n",
       "</table>\n",
       "</div>"
      ],
      "text/plain": [
       "price_label     cheap  expensive    medium\n",
       "cut                                       \n",
       "Fair         0.019051   0.001475  0.001262\n",
       "Good         0.008810   0.002670  0.000036\n",
       "Ideal        0.004867   0.004475  0.000249\n",
       "Premium      0.000993   0.000644  0.000014\n",
       "Very Good    0.000467   0.000245  0.000439"
      ]
     },
     "execution_count": 25,
     "metadata": {},
     "output_type": "execute_result"
    }
   ],
   "source": [
    "p_kxi = (crosstab_price2  - p_prob)**2 / p_prob\n",
    "p_kxi = p_kxi.iloc[:-1, :-1]\n",
    "p_kxi # хи-квадрат"
   ]
  },
  {
   "cell_type": "code",
   "execution_count": 26,
   "id": "c827ab60",
   "metadata": {},
   "outputs": [
    {
     "data": {
      "text/plain": [
       "0.04569735351226335"
      ]
     },
     "execution_count": 26,
     "metadata": {},
     "output_type": "execute_result"
    }
   ],
   "source": [
    "np.sum(p_kxi.values)"
   ]
  },
  {
   "cell_type": "code",
   "execution_count": null,
   "id": "b701c3bd",
   "metadata": {},
   "outputs": [],
   "source": []
  }
 ],
 "metadata": {
  "kernelspec": {
   "display_name": "Python 3 (ipykernel)",
   "language": "python",
   "name": "python3"
  },
  "language_info": {
   "codemirror_mode": {
    "name": "ipython",
    "version": 3
   },
   "file_extension": ".py",
   "mimetype": "text/x-python",
   "name": "python",
   "nbconvert_exporter": "python",
   "pygments_lexer": "ipython3",
   "version": "3.9.12"
  }
 },
 "nbformat": 4,
 "nbformat_minor": 5
}
