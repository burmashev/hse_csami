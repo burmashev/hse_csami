{
 "cells": [
  {
   "cell_type": "code",
   "execution_count": 1,
   "id": "f5d2a288",
   "metadata": {},
   "outputs": [],
   "source": [
    "import numpy as np\n",
    "import pandas as pd\n",
    "from pandas.plotting import scatter_matrix\n",
    "import matplotlib.pyplot as plt"
   ]
  },
  {
   "cell_type": "code",
   "execution_count": 25,
   "id": "0d5cc172",
   "metadata": {},
   "outputs": [
    {
     "data": {
      "text/html": [
       "<div>\n",
       "<style scoped>\n",
       "    .dataframe tbody tr th:only-of-type {\n",
       "        vertical-align: middle;\n",
       "    }\n",
       "\n",
       "    .dataframe tbody tr th {\n",
       "        vertical-align: top;\n",
       "    }\n",
       "\n",
       "    .dataframe thead th {\n",
       "        text-align: right;\n",
       "    }\n",
       "</style>\n",
       "<table border=\"1\" class=\"dataframe\">\n",
       "  <thead>\n",
       "    <tr style=\"text-align: right;\">\n",
       "      <th></th>\n",
       "      <th>Unnamed: 0</th>\n",
       "      <th>carat</th>\n",
       "      <th>cut</th>\n",
       "      <th>color</th>\n",
       "      <th>clarity</th>\n",
       "      <th>depth</th>\n",
       "      <th>table</th>\n",
       "      <th>price</th>\n",
       "      <th>x</th>\n",
       "      <th>y</th>\n",
       "      <th>z</th>\n",
       "    </tr>\n",
       "  </thead>\n",
       "  <tbody>\n",
       "    <tr>\n",
       "      <th>0</th>\n",
       "      <td>1</td>\n",
       "      <td>0.23</td>\n",
       "      <td>Ideal</td>\n",
       "      <td>E</td>\n",
       "      <td>SI2</td>\n",
       "      <td>61.5</td>\n",
       "      <td>55.0</td>\n",
       "      <td>326</td>\n",
       "      <td>3.95</td>\n",
       "      <td>3.98</td>\n",
       "      <td>2.43</td>\n",
       "    </tr>\n",
       "    <tr>\n",
       "      <th>1</th>\n",
       "      <td>2</td>\n",
       "      <td>0.21</td>\n",
       "      <td>Premium</td>\n",
       "      <td>E</td>\n",
       "      <td>SI1</td>\n",
       "      <td>59.8</td>\n",
       "      <td>61.0</td>\n",
       "      <td>326</td>\n",
       "      <td>3.89</td>\n",
       "      <td>3.84</td>\n",
       "      <td>2.31</td>\n",
       "    </tr>\n",
       "    <tr>\n",
       "      <th>2</th>\n",
       "      <td>3</td>\n",
       "      <td>0.23</td>\n",
       "      <td>Good</td>\n",
       "      <td>E</td>\n",
       "      <td>VS1</td>\n",
       "      <td>56.9</td>\n",
       "      <td>65.0</td>\n",
       "      <td>327</td>\n",
       "      <td>4.05</td>\n",
       "      <td>4.07</td>\n",
       "      <td>2.31</td>\n",
       "    </tr>\n",
       "    <tr>\n",
       "      <th>3</th>\n",
       "      <td>4</td>\n",
       "      <td>0.29</td>\n",
       "      <td>Premium</td>\n",
       "      <td>I</td>\n",
       "      <td>VS2</td>\n",
       "      <td>62.4</td>\n",
       "      <td>58.0</td>\n",
       "      <td>334</td>\n",
       "      <td>4.20</td>\n",
       "      <td>4.23</td>\n",
       "      <td>2.63</td>\n",
       "    </tr>\n",
       "    <tr>\n",
       "      <th>4</th>\n",
       "      <td>5</td>\n",
       "      <td>0.31</td>\n",
       "      <td>Good</td>\n",
       "      <td>J</td>\n",
       "      <td>SI2</td>\n",
       "      <td>63.3</td>\n",
       "      <td>58.0</td>\n",
       "      <td>335</td>\n",
       "      <td>4.34</td>\n",
       "      <td>4.35</td>\n",
       "      <td>2.75</td>\n",
       "    </tr>\n",
       "    <tr>\n",
       "      <th>...</th>\n",
       "      <td>...</td>\n",
       "      <td>...</td>\n",
       "      <td>...</td>\n",
       "      <td>...</td>\n",
       "      <td>...</td>\n",
       "      <td>...</td>\n",
       "      <td>...</td>\n",
       "      <td>...</td>\n",
       "      <td>...</td>\n",
       "      <td>...</td>\n",
       "      <td>...</td>\n",
       "    </tr>\n",
       "    <tr>\n",
       "      <th>53935</th>\n",
       "      <td>53936</td>\n",
       "      <td>0.72</td>\n",
       "      <td>Ideal</td>\n",
       "      <td>D</td>\n",
       "      <td>SI1</td>\n",
       "      <td>60.8</td>\n",
       "      <td>57.0</td>\n",
       "      <td>2757</td>\n",
       "      <td>5.75</td>\n",
       "      <td>5.76</td>\n",
       "      <td>3.50</td>\n",
       "    </tr>\n",
       "    <tr>\n",
       "      <th>53936</th>\n",
       "      <td>53937</td>\n",
       "      <td>0.72</td>\n",
       "      <td>Good</td>\n",
       "      <td>D</td>\n",
       "      <td>SI1</td>\n",
       "      <td>63.1</td>\n",
       "      <td>55.0</td>\n",
       "      <td>2757</td>\n",
       "      <td>5.69</td>\n",
       "      <td>5.75</td>\n",
       "      <td>3.61</td>\n",
       "    </tr>\n",
       "    <tr>\n",
       "      <th>53937</th>\n",
       "      <td>53938</td>\n",
       "      <td>0.70</td>\n",
       "      <td>Very Good</td>\n",
       "      <td>D</td>\n",
       "      <td>SI1</td>\n",
       "      <td>62.8</td>\n",
       "      <td>60.0</td>\n",
       "      <td>2757</td>\n",
       "      <td>5.66</td>\n",
       "      <td>5.68</td>\n",
       "      <td>3.56</td>\n",
       "    </tr>\n",
       "    <tr>\n",
       "      <th>53938</th>\n",
       "      <td>53939</td>\n",
       "      <td>0.86</td>\n",
       "      <td>Premium</td>\n",
       "      <td>H</td>\n",
       "      <td>SI2</td>\n",
       "      <td>61.0</td>\n",
       "      <td>58.0</td>\n",
       "      <td>2757</td>\n",
       "      <td>6.15</td>\n",
       "      <td>6.12</td>\n",
       "      <td>3.74</td>\n",
       "    </tr>\n",
       "    <tr>\n",
       "      <th>53939</th>\n",
       "      <td>53940</td>\n",
       "      <td>0.75</td>\n",
       "      <td>Ideal</td>\n",
       "      <td>D</td>\n",
       "      <td>SI2</td>\n",
       "      <td>62.2</td>\n",
       "      <td>55.0</td>\n",
       "      <td>2757</td>\n",
       "      <td>5.83</td>\n",
       "      <td>5.87</td>\n",
       "      <td>3.64</td>\n",
       "    </tr>\n",
       "  </tbody>\n",
       "</table>\n",
       "<p>53940 rows × 11 columns</p>\n",
       "</div>"
      ],
      "text/plain": [
       "       Unnamed: 0  carat        cut color clarity  depth  table  price     x  \\\n",
       "0               1   0.23      Ideal     E     SI2   61.5   55.0    326  3.95   \n",
       "1               2   0.21    Premium     E     SI1   59.8   61.0    326  3.89   \n",
       "2               3   0.23       Good     E     VS1   56.9   65.0    327  4.05   \n",
       "3               4   0.29    Premium     I     VS2   62.4   58.0    334  4.20   \n",
       "4               5   0.31       Good     J     SI2   63.3   58.0    335  4.34   \n",
       "...           ...    ...        ...   ...     ...    ...    ...    ...   ...   \n",
       "53935       53936   0.72      Ideal     D     SI1   60.8   57.0   2757  5.75   \n",
       "53936       53937   0.72       Good     D     SI1   63.1   55.0   2757  5.69   \n",
       "53937       53938   0.70  Very Good     D     SI1   62.8   60.0   2757  5.66   \n",
       "53938       53939   0.86    Premium     H     SI2   61.0   58.0   2757  6.15   \n",
       "53939       53940   0.75      Ideal     D     SI2   62.2   55.0   2757  5.83   \n",
       "\n",
       "          y     z  \n",
       "0      3.98  2.43  \n",
       "1      3.84  2.31  \n",
       "2      4.07  2.31  \n",
       "3      4.23  2.63  \n",
       "4      4.35  2.75  \n",
       "...     ...   ...  \n",
       "53935  5.76  3.50  \n",
       "53936  5.75  3.61  \n",
       "53937  5.68  3.56  \n",
       "53938  6.12  3.74  \n",
       "53939  5.87  3.64  \n",
       "\n",
       "[53940 rows x 11 columns]"
      ]
     },
     "execution_count": 25,
     "metadata": {},
     "output_type": "execute_result"
    }
   ],
   "source": [
    "data = pd.read_csv('diamonds.csv')\n",
    "data"
   ]
  },
  {
   "cell_type": "code",
   "execution_count": 26,
   "id": "f551e70f",
   "metadata": {},
   "outputs": [],
   "source": [
    "numeric = ['carat', 'depth', 'table', 'price', 'x', 'y', 'z']"
   ]
  },
  {
   "cell_type": "code",
   "execution_count": 27,
   "id": "146a46fd",
   "metadata": {},
   "outputs": [
    {
     "data": {
      "image/png": "[encoded data removed]",
      "text/plain": [
       "<Figure size 432x288 with 49 Axes>"
      ]
     },
     "metadata": {
      "needs_background": "light"
     },
     "output_type": "display_data"
    }
   ],
   "source": [
    "scatter_matrix(data[numeric])\n",
    "plt.show()"
   ]
  },
  {
   "cell_type": "code",
   "execution_count": 28,
   "id": "8c21a768",
   "metadata": {},
   "outputs": [
    {
     "data": {
      "text/plain": [
       "<matplotlib.collections.PathCollection at 0x7f91ce11d1c0>"
      ]
     },
     "execution_count": 28,
     "metadata": {},
     "output_type": "execute_result"
    },
    {
     "data": {
      "image/png": "[encoded data removed]",
      "text/plain": [
       "<Figure size 432x288 with 1 Axes>"
      ]
     },
     "metadata": {
      "needs_background": "light"
     },
     "output_type": "display_data"
    }
   ],
   "source": [
    "plt.scatter(data['x'], data['carat'])"
   ]
  },
  {
   "cell_type": "code",
   "execution_count": 29,
   "id": "01861876",
   "metadata": {},
   "outputs": [
    {
     "data": {
      "text/plain": [
       "array([[1.        , 0.97509423],\n",
       "       [0.97509423, 1.        ]])"
      ]
     },
     "execution_count": 29,
     "metadata": {},
     "output_type": "execute_result"
    }
   ],
   "source": [
    "np.corrcoef(data['x'], data['carat'])"
   ]
  },
  {
   "cell_type": "code",
   "execution_count": 33,
   "id": "5b0fdffe",
   "metadata": {},
   "outputs": [
    {
     "data": {
      "text/plain": [
       "0.9750942267264208"
      ]
     },
     "execution_count": 33,
     "metadata": {},
     "output_type": "execute_result"
    }
   ],
   "source": [
    "cor = np.corrcoef(data['x'], data['carat'])[0][1]\n",
    "cor"
   ]
  },
  {
   "cell_type": "code",
   "execution_count": 32,
   "id": "f241a291",
   "metadata": {},
   "outputs": [
    {
     "data": {
      "text/plain": [
       "0.412035836647629"
      ]
     },
     "execution_count": 32,
     "metadata": {},
     "output_type": "execute_result"
    }
   ],
   "source": [
    "slope = cor * np.std(data['carat']) / np.std(data['x'])\n",
    "slope"
   ]
  },
  {
   "cell_type": "code",
   "execution_count": 35,
   "id": "65a77c80",
   "metadata": {},
   "outputs": [
    {
     "data": {
      "text/plain": [
       "-1.5635024088207605"
      ]
     },
     "execution_count": 35,
     "metadata": {},
     "output_type": "execute_result"
    }
   ],
   "source": [
    "b = np.mean(data['carat']) - slope*np.mean(data['x'])\n",
    "b"
   ]
  },
  {
   "cell_type": "code",
   "execution_count": 36,
   "id": "1c4e962d",
   "metadata": {},
   "outputs": [
    {
     "data": {
      "text/plain": [
       "0.9508087509951965"
      ]
     },
     "execution_count": 36,
     "metadata": {},
     "output_type": "execute_result"
    }
   ],
   "source": [
    "determ = cor ** 2\n",
    "determ"
   ]
  },
  {
   "cell_type": "code",
   "execution_count": null,
   "id": "92e07303",
   "metadata": {},
   "outputs": [],
   "source": []
  },
  {
   "cell_type": "code",
   "execution_count": 37,
   "id": "7fa34537",
   "metadata": {},
   "outputs": [
    {
     "data": {
      "text/plain": [
       "0        0.064039\n",
       "1        0.039317\n",
       "2        0.105243\n",
       "3        0.167048\n",
       "4        0.224733\n",
       "           ...   \n",
       "53935    0.805704\n",
       "53936    0.780982\n",
       "53937    0.768620\n",
       "53938    0.970518\n",
       "53939    0.838667\n",
       "Name: x, Length: 53940, dtype: float64"
      ]
     },
     "execution_count": 37,
     "metadata": {},
     "output_type": "execute_result"
    }
   ],
   "source": [
    "yc = slope*(data['x']) + b\n",
    "yc"
   ]
  },
  {
   "cell_type": "code",
   "execution_count": 40,
   "id": "a407dcab",
   "metadata": {},
   "outputs": [
    {
     "data": {
      "text/plain": [
       "0        2.591553\n",
       "1        4.341202\n",
       "2        1.185424\n",
       "3        0.736027\n",
       "4        0.379414\n",
       "           ...   \n",
       "53935   -0.106371\n",
       "53936   -0.078083\n",
       "53937   -0.089277\n",
       "53938   -0.113875\n",
       "53939   -0.105723\n",
       "Length: 53940, dtype: float64"
      ]
     },
     "execution_count": 40,
     "metadata": {},
     "output_type": "execute_result"
    }
   ],
   "source": [
    "e_ml = (data['carat'] - yc) / yc # подход науки\n",
    "e_ml"
   ]
  },
  {
   "cell_type": "code",
   "execution_count": 45,
   "id": "dd66a1be",
   "metadata": {},
   "outputs": [
    {
     "data": {
      "text/plain": [
       "0        0.721569\n",
       "1        0.812776\n",
       "2        0.542423\n",
       "3        0.423972\n",
       "4        0.275054\n",
       "           ...   \n",
       "53935   -0.119033\n",
       "53936   -0.084697\n",
       "53937   -0.098029\n",
       "53938   -0.128509\n",
       "53939   -0.118222\n",
       "Length: 53940, dtype: float64"
      ]
     },
     "execution_count": 45,
     "metadata": {},
     "output_type": "execute_result"
    }
   ],
   "source": [
    "e_da = (data['carat'] - yc) / data['carat'] # подход анализа данных\n",
    "e_da"
   ]
  },
  {
   "cell_type": "code",
   "execution_count": 48,
   "id": "c6e25561",
   "metadata": {},
   "outputs": [
    {
     "data": {
      "text/plain": [
       "0.17046565122312204"
      ]
     },
     "execution_count": 48,
     "metadata": {},
     "output_type": "execute_result"
    }
   ],
   "source": [
    "e = np.mean(np.abs(e_ml))\n",
    "e"
   ]
  },
  {
   "cell_type": "code",
   "execution_count": 49,
   "id": "bb585a7c",
   "metadata": {},
   "outputs": [
    {
     "data": {
      "text/plain": [
       "0.12023829129233346"
      ]
     },
     "execution_count": 49,
     "metadata": {},
     "output_type": "execute_result"
    }
   ],
   "source": [
    "e = np.mean(np.abs(e_da))\n",
    "e"
   ]
  },
  {
   "cell_type": "code",
   "execution_count": null,
   "id": "c4c17953",
   "metadata": {},
   "outputs": [],
   "source": []
  },
  {
   "cell_type": "code",
   "execution_count": 42,
   "id": "dd629006",
   "metadata": {},
   "outputs": [
    {
     "data": {
      "text/html": [
       "<div>\n",
       "<style scoped>\n",
       "    .dataframe tbody tr th:only-of-type {\n",
       "        vertical-align: middle;\n",
       "    }\n",
       "\n",
       "    .dataframe tbody tr th {\n",
       "        vertical-align: top;\n",
       "    }\n",
       "\n",
       "    .dataframe thead th {\n",
       "        text-align: right;\n",
       "    }\n",
       "</style>\n",
       "<table border=\"1\" class=\"dataframe\">\n",
       "  <thead>\n",
       "    <tr style=\"text-align: right;\">\n",
       "      <th></th>\n",
       "      <th>Unnamed: 0</th>\n",
       "      <th>carat</th>\n",
       "      <th>cut</th>\n",
       "      <th>color</th>\n",
       "      <th>clarity</th>\n",
       "      <th>depth</th>\n",
       "      <th>table</th>\n",
       "      <th>price</th>\n",
       "      <th>x</th>\n",
       "      <th>y</th>\n",
       "      <th>z</th>\n",
       "    </tr>\n",
       "  </thead>\n",
       "  <tbody>\n",
       "    <tr>\n",
       "      <th>36576</th>\n",
       "      <td>36577</td>\n",
       "      <td>0.36</td>\n",
       "      <td>Premium</td>\n",
       "      <td>F</td>\n",
       "      <td>VVS2</td>\n",
       "      <td>62.5</td>\n",
       "      <td>56.0</td>\n",
       "      <td>945</td>\n",
       "      <td>4.60</td>\n",
       "      <td>4.52</td>\n",
       "      <td>2.85</td>\n",
       "    </tr>\n",
       "    <tr>\n",
       "      <th>22749</th>\n",
       "      <td>22750</td>\n",
       "      <td>1.56</td>\n",
       "      <td>Premium</td>\n",
       "      <td>G</td>\n",
       "      <td>SI1</td>\n",
       "      <td>58.8</td>\n",
       "      <td>57.0</td>\n",
       "      <td>10766</td>\n",
       "      <td>7.68</td>\n",
       "      <td>7.62</td>\n",
       "      <td>4.50</td>\n",
       "    </tr>\n",
       "    <tr>\n",
       "      <th>27640</th>\n",
       "      <td>27641</td>\n",
       "      <td>2.09</td>\n",
       "      <td>Premium</td>\n",
       "      <td>H</td>\n",
       "      <td>SI1</td>\n",
       "      <td>61.1</td>\n",
       "      <td>56.0</td>\n",
       "      <td>18559</td>\n",
       "      <td>8.30</td>\n",
       "      <td>8.23</td>\n",
       "      <td>5.05</td>\n",
       "    </tr>\n",
       "    <tr>\n",
       "      <th>20728</th>\n",
       "      <td>20729</td>\n",
       "      <td>0.31</td>\n",
       "      <td>Premium</td>\n",
       "      <td>F</td>\n",
       "      <td>VS2</td>\n",
       "      <td>61.7</td>\n",
       "      <td>58.0</td>\n",
       "      <td>625</td>\n",
       "      <td>4.34</td>\n",
       "      <td>4.38</td>\n",
       "      <td>2.69</td>\n",
       "    </tr>\n",
       "    <tr>\n",
       "      <th>19093</th>\n",
       "      <td>19094</td>\n",
       "      <td>1.01</td>\n",
       "      <td>Premium</td>\n",
       "      <td>F</td>\n",
       "      <td>VS1</td>\n",
       "      <td>58.8</td>\n",
       "      <td>60.0</td>\n",
       "      <td>7862</td>\n",
       "      <td>6.59</td>\n",
       "      <td>6.51</td>\n",
       "      <td>3.85</td>\n",
       "    </tr>\n",
       "  </tbody>\n",
       "</table>\n",
       "</div>"
      ],
      "text/plain": [
       "       Unnamed: 0  carat      cut color clarity  depth  table  price     x  \\\n",
       "36576       36577   0.36  Premium     F    VVS2   62.5   56.0    945  4.60   \n",
       "22749       22750   1.56  Premium     G     SI1   58.8   57.0  10766  7.68   \n",
       "27640       27641   2.09  Premium     H     SI1   61.1   56.0  18559  8.30   \n",
       "20728       20729   0.31  Premium     F     VS2   61.7   58.0    625  4.34   \n",
       "19093       19094   1.01  Premium     F     VS1   58.8   60.0   7862  6.59   \n",
       "\n",
       "          y     z  \n",
       "36576  4.52  2.85  \n",
       "22749  7.62  4.50  \n",
       "27640  8.23  5.05  \n",
       "20728  4.38  2.69  \n",
       "19093  6.51  3.85  "
      ]
     },
     "execution_count": 42,
     "metadata": {},
     "output_type": "execute_result"
    }
   ],
   "source": [
    "tmp = data.sample(5)\n",
    "tmp"
   ]
  },
  {
   "cell_type": "code",
   "execution_count": 50,
   "id": "a614fa48",
   "metadata": {},
   "outputs": [
    {
     "data": {
      "text/html": [
       "<div>\n",
       "<style scoped>\n",
       "    .dataframe tbody tr th:only-of-type {\n",
       "        vertical-align: middle;\n",
       "    }\n",
       "\n",
       "    .dataframe tbody tr th {\n",
       "        vertical-align: top;\n",
       "    }\n",
       "\n",
       "    .dataframe thead th {\n",
       "        text-align: right;\n",
       "    }\n",
       "</style>\n",
       "<table border=\"1\" class=\"dataframe\">\n",
       "  <thead>\n",
       "    <tr style=\"text-align: right;\">\n",
       "      <th></th>\n",
       "      <th>36576</th>\n",
       "      <th>22749</th>\n",
       "      <th>27640</th>\n",
       "      <th>20728</th>\n",
       "      <th>19093</th>\n",
       "    </tr>\n",
       "  </thead>\n",
       "  <tbody>\n",
       "    <tr>\n",
       "      <th>Unnamed 0</th>\n",
       "      <td>0.084787</td>\n",
       "      <td>-0.025568</td>\n",
       "      <td>0.125838</td>\n",
       "      <td>0.379414</td>\n",
       "      <td>-0.123122</td>\n",
       "    </tr>\n",
       "    <tr>\n",
       "      <th>x</th>\n",
       "      <td>0.331862</td>\n",
       "      <td>1.600933</td>\n",
       "      <td>1.856395</td>\n",
       "      <td>0.224733</td>\n",
       "      <td>1.151814</td>\n",
       "    </tr>\n",
       "    <tr>\n",
       "      <th>carat</th>\n",
       "      <td>0.360000</td>\n",
       "      <td>1.560000</td>\n",
       "      <td>2.090000</td>\n",
       "      <td>0.310000</td>\n",
       "      <td>1.010000</td>\n",
       "    </tr>\n",
       "  </tbody>\n",
       "</table>\n",
       "</div>"
      ],
      "text/plain": [
       "              36576     22749     27640     20728     19093\n",
       "Unnamed 0  0.084787 -0.025568  0.125838  0.379414 -0.123122\n",
       "x          0.331862  1.600933  1.856395  0.224733  1.151814\n",
       "carat      0.360000  1.560000  2.090000  0.310000  1.010000"
      ]
     },
     "execution_count": 50,
     "metadata": {},
     "output_type": "execute_result"
    }
   ],
   "source": [
    "yc_1 = slope * (tmp['x']) + b\n",
    "e_1 = (tmp['carat'] - yc_1) / yc_1\n",
    "sample = pd.DataFrame([e_1, yc_1, tmp['carat']])\n",
    "sample"
   ]
  },
  {
   "cell_type": "code",
   "execution_count": 54,
   "id": "a25a8cb5",
   "metadata": {},
   "outputs": [
    {
     "data": {
      "text/html": [
       "<div>\n",
       "<style scoped>\n",
       "    .dataframe tbody tr th:only-of-type {\n",
       "        vertical-align: middle;\n",
       "    }\n",
       "\n",
       "    .dataframe tbody tr th {\n",
       "        vertical-align: top;\n",
       "    }\n",
       "\n",
       "    .dataframe thead th {\n",
       "        text-align: right;\n",
       "    }\n",
       "</style>\n",
       "<table border=\"1\" class=\"dataframe\">\n",
       "  <thead>\n",
       "    <tr style=\"text-align: right;\">\n",
       "      <th></th>\n",
       "      <th>Относительная_ошибка</th>\n",
       "      <th>yc</th>\n",
       "      <th>y</th>\n",
       "    </tr>\n",
       "  </thead>\n",
       "  <tbody>\n",
       "    <tr>\n",
       "      <th>36576</th>\n",
       "      <td>0.084787</td>\n",
       "      <td>0.331862</td>\n",
       "      <td>0.36</td>\n",
       "    </tr>\n",
       "    <tr>\n",
       "      <th>22749</th>\n",
       "      <td>-0.025568</td>\n",
       "      <td>1.600933</td>\n",
       "      <td>1.56</td>\n",
       "    </tr>\n",
       "    <tr>\n",
       "      <th>27640</th>\n",
       "      <td>0.125838</td>\n",
       "      <td>1.856395</td>\n",
       "      <td>2.09</td>\n",
       "    </tr>\n",
       "    <tr>\n",
       "      <th>20728</th>\n",
       "      <td>0.379414</td>\n",
       "      <td>0.224733</td>\n",
       "      <td>0.31</td>\n",
       "    </tr>\n",
       "    <tr>\n",
       "      <th>19093</th>\n",
       "      <td>-0.123122</td>\n",
       "      <td>1.151814</td>\n",
       "      <td>1.01</td>\n",
       "    </tr>\n",
       "  </tbody>\n",
       "</table>\n",
       "</div>"
      ],
      "text/plain": [
       "       Относительная_ошибка        yc     y\n",
       "36576              0.084787  0.331862  0.36\n",
       "22749             -0.025568  1.600933  1.56\n",
       "27640              0.125838  1.856395  2.09\n",
       "20728              0.379414  0.224733  0.31\n",
       "19093             -0.123122  1.151814  1.01"
      ]
     },
     "execution_count": 54,
     "metadata": {},
     "output_type": "execute_result"
    }
   ],
   "source": [
    "sample = sample.transpose()\n",
    "sample.rename(columns ={'Unnamed 0':'Относительная_ошибка', 'x':'yc', 'carat':'y'})"
   ]
  },
  {
   "cell_type": "code",
   "execution_count": 57,
   "id": "cdde1ad9",
   "metadata": {},
   "outputs": [
    {
     "data": {
      "text/plain": [
       "Text(0, 0.5, 'carat')"
      ]
     },
     "execution_count": 57,
     "metadata": {},
     "output_type": "execute_result"
    },
    {
     "data": {
      "image/png": "[encoded data removed]",
      "text/plain": [
       "<Figure size 720x504 with 1 Axes>"
      ]
     },
     "metadata": {
      "needs_background": "light"
     },
     "output_type": "display_data"
    }
   ],
   "source": [
    "plt.figure(figsize=(10,7))\n",
    "plt.plot(data['x'], yc)\n",
    "plt.scatter(data['x'], data['carat'], alpha = 0.4, color = 'darkviolet')\n",
    "plt.xlabel('x', fontsize = 16)\n",
    "plt.ylabel('carat', fontsize = 16)"
   ]
  },
  {
   "cell_type": "code",
   "execution_count": null,
   "id": "8935e671",
   "metadata": {},
   "outputs": [],
   "source": []
  },
  {
   "cell_type": "code",
   "execution_count": null,
   "id": "90690908",
   "metadata": {},
   "outputs": [],
   "source": []
  },
  {
   "cell_type": "code",
   "execution_count": null,
   "id": "0465cde7",
   "metadata": {},
   "outputs": [],
   "source": []
  },
  {
   "cell_type": "code",
   "execution_count": null,
   "id": "cef17d4d",
   "metadata": {},
   "outputs": [],
   "source": []
  },
  {
   "cell_type": "code",
   "execution_count": null,
   "id": "d3d60469",
   "metadata": {},
   "outputs": [],
   "source": []
  },
  {
   "cell_type": "code",
   "execution_count": 18,
   "id": "0a68a370",
   "metadata": {},
   "outputs": [],
   "source": [
    "cor = np.corrcoef(data[3], data[2])[0][1]\n",
    "determ = cor**2\n",
    "slope = cor * np.std(data[2]) / np.std(data[3])\n",
    "b = np.mean(data[2]) - slope * np.mean(data[3])\n",
    "y_pred = slope * (data[3]) + b\n",
    "e = (data[2] - y_pred) / y_pred"
   ]
  },
  {
   "cell_type": "code",
   "execution_count": 19,
   "id": "becc6423",
   "metadata": {},
   "outputs": [
    {
     "name": "stdout",
     "output_type": "stream",
     "text": [
      "Коэффициент корреляции: 0.9627570970509663\n",
      "Коэффициент регрессии: 2.2258853065539097\n",
      "Свободный коэффициент: 1.0905721458773816\n",
      "Средняя ошибка: -0.01157270152327004\n",
      "Коэффициент детерминации 0.9269012279220038\n"
     ]
    }
   ],
   "source": [
    "print('Коэффициент корреляции:', cor)\n",
    "print('Коэффициент регрессии:', slope)\n",
    "print('Свободный коэффициент:', b)\n",
    "print('Средняя ошибка:', np.mean(e))\n",
    "print('Коэффициент детерминации', determ)"
   ]
  },
  {
   "cell_type": "code",
   "execution_count": 23,
   "id": "00530804",
   "metadata": {},
   "outputs": [
    {
     "data": {
      "text/html": [
       "<div>\n",
       "<style scoped>\n",
       "    .dataframe tbody tr th:only-of-type {\n",
       "        vertical-align: middle;\n",
       "    }\n",
       "\n",
       "    .dataframe tbody tr th {\n",
       "        vertical-align: top;\n",
       "    }\n",
       "\n",
       "    .dataframe thead th {\n",
       "        text-align: right;\n",
       "    }\n",
       "</style>\n",
       "<table border=\"1\" class=\"dataframe\">\n",
       "  <thead>\n",
       "    <tr style=\"text-align: right;\">\n",
       "      <th></th>\n",
       "      <th>Ошибка</th>\n",
       "      <th>y_pred</th>\n",
       "      <th>y</th>\n",
       "    </tr>\n",
       "  </thead>\n",
       "  <tbody>\n",
       "    <tr>\n",
       "      <th>96</th>\n",
       "      <td>0.054158</td>\n",
       "      <td>3.984223</td>\n",
       "      <td>4.2</td>\n",
       "    </tr>\n",
       "    <tr>\n",
       "      <th>109</th>\n",
       "      <td>-0.083435</td>\n",
       "      <td>6.655285</td>\n",
       "      <td>6.1</td>\n",
       "    </tr>\n",
       "    <tr>\n",
       "      <th>25</th>\n",
       "      <td>0.041837</td>\n",
       "      <td>1.535749</td>\n",
       "      <td>1.6</td>\n",
       "    </tr>\n",
       "    <tr>\n",
       "      <th>33</th>\n",
       "      <td>-0.088393</td>\n",
       "      <td>1.535749</td>\n",
       "      <td>1.4</td>\n",
       "    </tr>\n",
       "    <tr>\n",
       "      <th>29</th>\n",
       "      <td>0.041837</td>\n",
       "      <td>1.535749</td>\n",
       "      <td>1.6</td>\n",
       "    </tr>\n",
       "  </tbody>\n",
       "</table>\n",
       "</div>"
      ],
      "text/plain": [
       "       Ошибка    y_pred    y\n",
       "96   0.054158  3.984223  4.2\n",
       "109 -0.083435  6.655285  6.1\n",
       "25   0.041837  1.535749  1.6\n",
       "33  -0.088393  1.535749  1.4\n",
       "29   0.041837  1.535749  1.6"
      ]
     },
     "execution_count": 23,
     "metadata": {},
     "output_type": "execute_result"
    }
   ],
   "source": [
    "tmp = data.sample(5)\n",
    "y_pred1 = slope * (tmp[3]) + b\n",
    "e1 = (tmp[2] - y_pred1) / y_pred1\n",
    "sample = pd.DataFrame([e1, y_pred1, tmp[2]]).transpose()\n",
    "sample.rename(columns = {'Unnamed 0':'Ошибка', 3:'y_pred', 2:'y'})"
   ]
  },
  {
   "cell_type": "code",
   "execution_count": 24,
   "id": "fbc6dd6b",
   "metadata": {},
   "outputs": [
    {
     "data": {
      "text/plain": [
       "Text(0, 0.5, '2')"
      ]
     },
     "execution_count": 24,
     "metadata": {},
     "output_type": "execute_result"
    },
    {
     "data": {
      "image/png": "[encoded data removed]",
      "text/plain": [
       "<Figure size 720x504 with 1 Axes>"
      ]
     },
     "metadata": {
      "needs_background": "light"
     },
     "output_type": "display_data"
    }
   ],
   "source": [
    "plt.figure(figsize=(10,7))\n",
    "plt.plot(data[3], y_pred)\n",
    "plt.scatter(data[3], data[2], alpha = 0.4, color = 'darkviolet')\n",
    "plt.xlabel(3, fontsize = 16)\n",
    "plt.ylabel(2, fontsize = 16)"
   ]
  },
  {
   "cell_type": "code",
   "execution_count": null,
   "id": "45a797a6",
   "metadata": {},
   "outputs": [],
   "source": []
  }
 ],
 "metadata": {
  "kernelspec": {
   "display_name": "Python 3 (ipykernel)",
   "language": "python",
   "name": "python3"
  },
  "language_info": {
   "codemirror_mode": {
    "name": "ipython",
    "version": 3
   },
   "file_extension": ".py",
   "mimetype": "text/x-python",
   "name": "python",
   "nbconvert_exporter": "python",
   "pygments_lexer": "ipython3",
   "version": "3.9.12"
  }
 },
 "nbformat": 4,
 "nbformat_minor": 5
}
