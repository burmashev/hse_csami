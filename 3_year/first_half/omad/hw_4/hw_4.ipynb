{
 "cells": [
  {
   "cell_type": "code",
   "execution_count": 1,
   "id": "26cb1b91",
   "metadata": {},
   "outputs": [],
   "source": [
    "import numpy as np\n",
    "import pandas as pd\n",
    "import matplotlib.pyplot as plt"
   ]
  },
  {
   "cell_type": "code",
   "execution_count": 2,
   "id": "605a6dca",
   "metadata": {},
   "outputs": [
    {
     "data": {
      "text/html": [
       "<div>\n",
       "<style scoped>\n",
       "    .dataframe tbody tr th:only-of-type {\n",
       "        vertical-align: middle;\n",
       "    }\n",
       "\n",
       "    .dataframe tbody tr th {\n",
       "        vertical-align: top;\n",
       "    }\n",
       "\n",
       "    .dataframe thead th {\n",
       "        text-align: right;\n",
       "    }\n",
       "</style>\n",
       "<table border=\"1\" class=\"dataframe\">\n",
       "  <thead>\n",
       "    <tr style=\"text-align: right;\">\n",
       "      <th></th>\n",
       "      <th>Unnamed: 0</th>\n",
       "      <th>carat</th>\n",
       "      <th>cut</th>\n",
       "      <th>color</th>\n",
       "      <th>clarity</th>\n",
       "      <th>depth</th>\n",
       "      <th>table</th>\n",
       "      <th>price</th>\n",
       "      <th>x</th>\n",
       "      <th>y</th>\n",
       "      <th>z</th>\n",
       "    </tr>\n",
       "  </thead>\n",
       "  <tbody>\n",
       "    <tr>\n",
       "      <th>0</th>\n",
       "      <td>0</td>\n",
       "      <td>0.23</td>\n",
       "      <td>Ideal</td>\n",
       "      <td>E</td>\n",
       "      <td>SI2</td>\n",
       "      <td>61.5</td>\n",
       "      <td>55.0</td>\n",
       "      <td>326</td>\n",
       "      <td>3.95</td>\n",
       "      <td>3.98</td>\n",
       "      <td>2.43</td>\n",
       "    </tr>\n",
       "    <tr>\n",
       "      <th>1</th>\n",
       "      <td>1</td>\n",
       "      <td>0.21</td>\n",
       "      <td>Premium</td>\n",
       "      <td>E</td>\n",
       "      <td>SI1</td>\n",
       "      <td>59.8</td>\n",
       "      <td>61.0</td>\n",
       "      <td>326</td>\n",
       "      <td>3.89</td>\n",
       "      <td>3.84</td>\n",
       "      <td>2.31</td>\n",
       "    </tr>\n",
       "    <tr>\n",
       "      <th>2</th>\n",
       "      <td>2</td>\n",
       "      <td>0.23</td>\n",
       "      <td>Good</td>\n",
       "      <td>E</td>\n",
       "      <td>VS1</td>\n",
       "      <td>56.9</td>\n",
       "      <td>65.0</td>\n",
       "      <td>327</td>\n",
       "      <td>4.05</td>\n",
       "      <td>4.07</td>\n",
       "      <td>2.31</td>\n",
       "    </tr>\n",
       "    <tr>\n",
       "      <th>3</th>\n",
       "      <td>3</td>\n",
       "      <td>0.29</td>\n",
       "      <td>Premium</td>\n",
       "      <td>I</td>\n",
       "      <td>VS2</td>\n",
       "      <td>62.4</td>\n",
       "      <td>58.0</td>\n",
       "      <td>334</td>\n",
       "      <td>4.20</td>\n",
       "      <td>4.23</td>\n",
       "      <td>2.63</td>\n",
       "    </tr>\n",
       "    <tr>\n",
       "      <th>4</th>\n",
       "      <td>4</td>\n",
       "      <td>0.31</td>\n",
       "      <td>Good</td>\n",
       "      <td>J</td>\n",
       "      <td>SI2</td>\n",
       "      <td>63.3</td>\n",
       "      <td>58.0</td>\n",
       "      <td>335</td>\n",
       "      <td>4.34</td>\n",
       "      <td>4.35</td>\n",
       "      <td>2.75</td>\n",
       "    </tr>\n",
       "  </tbody>\n",
       "</table>\n",
       "</div>"
      ],
      "text/plain": [
       "   Unnamed: 0  carat      cut color clarity  depth  table  price     x     y  \\\n",
       "0           0   0.23    Ideal     E     SI2   61.5   55.0    326  3.95  3.98   \n",
       "1           1   0.21  Premium     E     SI1   59.8   61.0    326  3.89  3.84   \n",
       "2           2   0.23     Good     E     VS1   56.9   65.0    327  4.05  4.07   \n",
       "3           3   0.29  Premium     I     VS2   62.4   58.0    334  4.20  4.23   \n",
       "4           4   0.31     Good     J     SI2   63.3   58.0    335  4.34  4.35   \n",
       "\n",
       "      z  \n",
       "0  2.43  \n",
       "1  2.31  \n",
       "2  2.31  \n",
       "3  2.63  \n",
       "4  2.75  "
      ]
     },
     "execution_count": 2,
     "metadata": {},
     "output_type": "execute_result"
    }
   ],
   "source": [
    "df = pd.read_csv('diamonds_1000.csv')\n",
    "df.head(5)"
   ]
  },
  {
   "cell_type": "code",
   "execution_count": null,
   "id": "cd2ed437",
   "metadata": {},
   "outputs": [],
   "source": []
  },
  {
   "cell_type": "code",
   "execution_count": 3,
   "id": "bbb8955b",
   "metadata": {},
   "outputs": [
    {
     "data": {
      "text/plain": [
       "<matplotlib.lines.Line2D at 0x7fd8be39bfd0>"
      ]
     },
     "execution_count": 3,
     "metadata": {},
     "output_type": "execute_result"
    },
    {
     "data": {
      "image/png": "[encoded data removed]",
      "text/plain": [
       "<Figure size 720x576 with 1 Axes>"
      ]
     },
     "metadata": {
      "needs_background": "light"
     },
     "output_type": "display_data"
    }
   ],
   "source": [
    "plt.figure(figsize=(10, 8))\n",
    "plt.hist(df['carat'], color = 'darkviolet')\n",
    "plt.axvline(0.27, c='g')\n",
    "plt.axvline(0.32, c='g')"
   ]
  },
  {
   "cell_type": "code",
   "execution_count": 4,
   "id": "d030e07b",
   "metadata": {},
   "outputs": [],
   "source": [
    "data_cat = df.copy()\n",
    "data_cat['carat_label'] = 0\n",
    "data_cat.loc[data_cat['carat'] < 0.27, 'carat_label'] = 'small'\n",
    "data_cat.loc[(data_cat['carat'] >= 0.27) & (data_cat['carat'] <= 0.32) , 'carat_label'] = 'medium'\n",
    "data_cat.loc[data_cat['carat'] > 0.32, 'carat_label'] = 'big'"
   ]
  },
  {
   "cell_type": "code",
   "execution_count": 5,
   "id": "517a02f0",
   "metadata": {},
   "outputs": [
    {
     "data": {
      "text/plain": [
       "medium    589\n",
       "small     312\n",
       "big        99\n",
       "Name: carat_label, dtype: int64"
      ]
     },
     "execution_count": 5,
     "metadata": {},
     "output_type": "execute_result"
    }
   ],
   "source": [
    "data_cat['carat_label'].value_counts()"
   ]
  },
  {
   "cell_type": "code",
   "execution_count": 6,
   "id": "ebd9f4d3",
   "metadata": {},
   "outputs": [
    {
     "data": {
      "text/plain": [
       "<matplotlib.lines.Line2D at 0x7fd8be77f040>"
      ]
     },
     "execution_count": 6,
     "metadata": {},
     "output_type": "execute_result"
    },
    {
     "data": {
      "image/png": "[encoded data removed]",
      "text/plain": [
       "<Figure size 720x576 with 1 Axes>"
      ]
     },
     "metadata": {
      "needs_background": "light"
     },
     "output_type": "display_data"
    }
   ],
   "source": [
    "plt.figure(figsize=(10, 8))\n",
    "plt.hist(df['price'], color = 'darkviolet')\n",
    "floor = 380\n",
    "ceil = 440\n",
    "plt.axvline(floor, c='g')\n",
    "plt.axvline(ceil, c='g')"
   ]
  },
  {
   "cell_type": "code",
   "execution_count": 7,
   "id": "fbcefecd",
   "metadata": {},
   "outputs": [],
   "source": [
    "data_cat['price_label'] = 0\n",
    "data_cat.loc[data_cat['price'] < floor, 'price_label'] = 'cheap'\n",
    "data_cat.loc[(data_cat['price'] >= floor) & (data_cat['price'] <= ceil) , 'price_label'] = 'medium'\n",
    "data_cat.loc[data_cat['price'] > ceil, 'price_label'] = 'expensive'"
   ]
  },
  {
   "cell_type": "code",
   "execution_count": 8,
   "id": "c300b5fc",
   "metadata": {},
   "outputs": [
    {
     "data": {
      "text/plain": [
       "cheap        121\n",
       "medium       584\n",
       "expensive    295\n",
       "Name: price_label, dtype: int64"
      ]
     },
     "execution_count": 8,
     "metadata": {},
     "output_type": "execute_result"
    }
   ],
   "source": [
    "data_cat['price_label'].value_counts(sort=False)"
   ]
  },
  {
   "cell_type": "code",
   "execution_count": 9,
   "id": "38d0c2d7",
   "metadata": {},
   "outputs": [
    {
     "data": {
      "text/plain": [
       "E    122\n",
       "I    222\n",
       "J    119\n",
       "H    190\n",
       "F    112\n",
       "G    160\n",
       "D     75\n",
       "Name: color, dtype: int64"
      ]
     },
     "execution_count": 9,
     "metadata": {},
     "output_type": "execute_result"
    }
   ],
   "source": [
    "data_cat['color'].value_counts(sort=False)"
   ]
  },
  {
   "cell_type": "markdown",
   "id": "fede490f",
   "metadata": {},
   "source": [
    "x1 -- color\n",
    "x2 -- carat\n",
    "x3 -- price"
   ]
  },
  {
   "cell_type": "markdown",
   "id": "b652318c",
   "metadata": {},
   "source": [
    "### 2.1 Таблицы сопрященности"
   ]
  },
  {
   "cell_type": "code",
   "execution_count": 17,
   "id": "5d10a4cb",
   "metadata": {},
   "outputs": [
    {
     "data": {
      "text/html": [
       "<div>\n",
       "<style scoped>\n",
       "    .dataframe tbody tr th:only-of-type {\n",
       "        vertical-align: middle;\n",
       "    }\n",
       "\n",
       "    .dataframe tbody tr th {\n",
       "        vertical-align: top;\n",
       "    }\n",
       "\n",
       "    .dataframe thead th {\n",
       "        text-align: right;\n",
       "    }\n",
       "</style>\n",
       "<table border=\"1\" class=\"dataframe\">\n",
       "  <thead>\n",
       "    <tr style=\"text-align: right;\">\n",
       "      <th>carat_label</th>\n",
       "      <th>big</th>\n",
       "      <th>medium</th>\n",
       "      <th>small</th>\n",
       "      <th>All</th>\n",
       "    </tr>\n",
       "    <tr>\n",
       "      <th>color</th>\n",
       "      <th></th>\n",
       "      <th></th>\n",
       "      <th></th>\n",
       "      <th></th>\n",
       "    </tr>\n",
       "  </thead>\n",
       "  <tbody>\n",
       "    <tr>\n",
       "      <th>D</th>\n",
       "      <td>2</td>\n",
       "      <td>30</td>\n",
       "      <td>43</td>\n",
       "      <td>75</td>\n",
       "    </tr>\n",
       "    <tr>\n",
       "      <th>E</th>\n",
       "      <td>7</td>\n",
       "      <td>42</td>\n",
       "      <td>73</td>\n",
       "      <td>122</td>\n",
       "    </tr>\n",
       "    <tr>\n",
       "      <th>F</th>\n",
       "      <td>19</td>\n",
       "      <td>20</td>\n",
       "      <td>73</td>\n",
       "      <td>112</td>\n",
       "    </tr>\n",
       "    <tr>\n",
       "      <th>G</th>\n",
       "      <td>7</td>\n",
       "      <td>97</td>\n",
       "      <td>56</td>\n",
       "      <td>160</td>\n",
       "    </tr>\n",
       "    <tr>\n",
       "      <th>H</th>\n",
       "      <td>11</td>\n",
       "      <td>132</td>\n",
       "      <td>47</td>\n",
       "      <td>190</td>\n",
       "    </tr>\n",
       "    <tr>\n",
       "      <th>I</th>\n",
       "      <td>30</td>\n",
       "      <td>175</td>\n",
       "      <td>17</td>\n",
       "      <td>222</td>\n",
       "    </tr>\n",
       "    <tr>\n",
       "      <th>J</th>\n",
       "      <td>23</td>\n",
       "      <td>93</td>\n",
       "      <td>3</td>\n",
       "      <td>119</td>\n",
       "    </tr>\n",
       "    <tr>\n",
       "      <th>All</th>\n",
       "      <td>99</td>\n",
       "      <td>589</td>\n",
       "      <td>312</td>\n",
       "      <td>1000</td>\n",
       "    </tr>\n",
       "  </tbody>\n",
       "</table>\n",
       "</div>"
      ],
      "text/plain": [
       "carat_label  big  medium  small   All\n",
       "color                                \n",
       "D              2      30     43    75\n",
       "E              7      42     73   122\n",
       "F             19      20     73   112\n",
       "G              7      97     56   160\n",
       "H             11     132     47   190\n",
       "I             30     175     17   222\n",
       "J             23      93      3   119\n",
       "All           99     589    312  1000"
      ]
     },
     "execution_count": 17,
     "metadata": {},
     "output_type": "execute_result"
    }
   ],
   "source": [
    "crosstab_carat1 = pd.crosstab(data_cat['color'], data_cat['carat_label'], margins = True)\n",
    "crosstab_carat2 = pd.crosstab(data_cat['color'], data_cat['carat_label'], margins = True, normalize=True) \n",
    "crosstab_carat1 # матрица сопряженности"
   ]
  },
  {
   "cell_type": "code",
   "execution_count": 18,
   "id": "a54152ae",
   "metadata": {},
   "outputs": [
    {
     "data": {
      "text/html": [
       "<div>\n",
       "<style scoped>\n",
       "    .dataframe tbody tr th:only-of-type {\n",
       "        vertical-align: middle;\n",
       "    }\n",
       "\n",
       "    .dataframe tbody tr th {\n",
       "        vertical-align: top;\n",
       "    }\n",
       "\n",
       "    .dataframe thead th {\n",
       "        text-align: right;\n",
       "    }\n",
       "</style>\n",
       "<table border=\"1\" class=\"dataframe\">\n",
       "  <thead>\n",
       "    <tr style=\"text-align: right;\">\n",
       "      <th>carat_label</th>\n",
       "      <th>big</th>\n",
       "      <th>medium</th>\n",
       "      <th>small</th>\n",
       "      <th>All</th>\n",
       "    </tr>\n",
       "    <tr>\n",
       "      <th>color</th>\n",
       "      <th></th>\n",
       "      <th></th>\n",
       "      <th></th>\n",
       "      <th></th>\n",
       "    </tr>\n",
       "  </thead>\n",
       "  <tbody>\n",
       "    <tr>\n",
       "      <th>D</th>\n",
       "      <td>0.002</td>\n",
       "      <td>0.030</td>\n",
       "      <td>0.043</td>\n",
       "      <td>0.075</td>\n",
       "    </tr>\n",
       "    <tr>\n",
       "      <th>E</th>\n",
       "      <td>0.007</td>\n",
       "      <td>0.042</td>\n",
       "      <td>0.073</td>\n",
       "      <td>0.122</td>\n",
       "    </tr>\n",
       "    <tr>\n",
       "      <th>F</th>\n",
       "      <td>0.019</td>\n",
       "      <td>0.020</td>\n",
       "      <td>0.073</td>\n",
       "      <td>0.112</td>\n",
       "    </tr>\n",
       "    <tr>\n",
       "      <th>G</th>\n",
       "      <td>0.007</td>\n",
       "      <td>0.097</td>\n",
       "      <td>0.056</td>\n",
       "      <td>0.160</td>\n",
       "    </tr>\n",
       "    <tr>\n",
       "      <th>H</th>\n",
       "      <td>0.011</td>\n",
       "      <td>0.132</td>\n",
       "      <td>0.047</td>\n",
       "      <td>0.190</td>\n",
       "    </tr>\n",
       "    <tr>\n",
       "      <th>I</th>\n",
       "      <td>0.030</td>\n",
       "      <td>0.175</td>\n",
       "      <td>0.017</td>\n",
       "      <td>0.222</td>\n",
       "    </tr>\n",
       "    <tr>\n",
       "      <th>J</th>\n",
       "      <td>0.023</td>\n",
       "      <td>0.093</td>\n",
       "      <td>0.003</td>\n",
       "      <td>0.119</td>\n",
       "    </tr>\n",
       "    <tr>\n",
       "      <th>All</th>\n",
       "      <td>0.099</td>\n",
       "      <td>0.589</td>\n",
       "      <td>0.312</td>\n",
       "      <td>1.000</td>\n",
       "    </tr>\n",
       "  </tbody>\n",
       "</table>\n",
       "</div>"
      ],
      "text/plain": [
       "carat_label    big  medium  small    All\n",
       "color                                   \n",
       "D            0.002   0.030  0.043  0.075\n",
       "E            0.007   0.042  0.073  0.122\n",
       "F            0.019   0.020  0.073  0.112\n",
       "G            0.007   0.097  0.056  0.160\n",
       "H            0.011   0.132  0.047  0.190\n",
       "I            0.030   0.175  0.017  0.222\n",
       "J            0.023   0.093  0.003  0.119\n",
       "All          0.099   0.589  0.312  1.000"
      ]
     },
     "execution_count": 18,
     "metadata": {},
     "output_type": "execute_result"
    }
   ],
   "source": [
    "crosstab_carat2"
   ]
  },
  {
   "cell_type": "code",
   "execution_count": 19,
   "id": "dc17ba48",
   "metadata": {},
   "outputs": [
    {
     "data": {
      "text/html": [
       "<div>\n",
       "<style scoped>\n",
       "    .dataframe tbody tr th:only-of-type {\n",
       "        vertical-align: middle;\n",
       "    }\n",
       "\n",
       "    .dataframe tbody tr th {\n",
       "        vertical-align: top;\n",
       "    }\n",
       "\n",
       "    .dataframe thead th {\n",
       "        text-align: right;\n",
       "    }\n",
       "</style>\n",
       "<table border=\"1\" class=\"dataframe\">\n",
       "  <thead>\n",
       "    <tr style=\"text-align: right;\">\n",
       "      <th>price_label</th>\n",
       "      <th>cheap</th>\n",
       "      <th>expensive</th>\n",
       "      <th>medium</th>\n",
       "      <th>All</th>\n",
       "    </tr>\n",
       "    <tr>\n",
       "      <th>color</th>\n",
       "      <th></th>\n",
       "      <th></th>\n",
       "      <th></th>\n",
       "      <th></th>\n",
       "    </tr>\n",
       "  </thead>\n",
       "  <tbody>\n",
       "    <tr>\n",
       "      <th>D</th>\n",
       "      <td>10</td>\n",
       "      <td>29</td>\n",
       "      <td>36</td>\n",
       "      <td>75</td>\n",
       "    </tr>\n",
       "    <tr>\n",
       "      <th>E</th>\n",
       "      <td>30</td>\n",
       "      <td>30</td>\n",
       "      <td>62</td>\n",
       "      <td>122</td>\n",
       "    </tr>\n",
       "    <tr>\n",
       "      <th>F</th>\n",
       "      <td>11</td>\n",
       "      <td>33</td>\n",
       "      <td>68</td>\n",
       "      <td>112</td>\n",
       "    </tr>\n",
       "    <tr>\n",
       "      <th>G</th>\n",
       "      <td>10</td>\n",
       "      <td>42</td>\n",
       "      <td>108</td>\n",
       "      <td>160</td>\n",
       "    </tr>\n",
       "    <tr>\n",
       "      <th>H</th>\n",
       "      <td>15</td>\n",
       "      <td>65</td>\n",
       "      <td>110</td>\n",
       "      <td>190</td>\n",
       "    </tr>\n",
       "    <tr>\n",
       "      <th>I</th>\n",
       "      <td>17</td>\n",
       "      <td>74</td>\n",
       "      <td>131</td>\n",
       "      <td>222</td>\n",
       "    </tr>\n",
       "    <tr>\n",
       "      <th>J</th>\n",
       "      <td>28</td>\n",
       "      <td>22</td>\n",
       "      <td>69</td>\n",
       "      <td>119</td>\n",
       "    </tr>\n",
       "    <tr>\n",
       "      <th>All</th>\n",
       "      <td>121</td>\n",
       "      <td>295</td>\n",
       "      <td>584</td>\n",
       "      <td>1000</td>\n",
       "    </tr>\n",
       "  </tbody>\n",
       "</table>\n",
       "</div>"
      ],
      "text/plain": [
       "price_label  cheap  expensive  medium   All\n",
       "color                                      \n",
       "D               10         29      36    75\n",
       "E               30         30      62   122\n",
       "F               11         33      68   112\n",
       "G               10         42     108   160\n",
       "H               15         65     110   190\n",
       "I               17         74     131   222\n",
       "J               28         22      69   119\n",
       "All            121        295     584  1000"
      ]
     },
     "execution_count": 19,
     "metadata": {},
     "output_type": "execute_result"
    }
   ],
   "source": [
    "crosstab_price1 = pd.crosstab(data_cat['color'], data_cat['price_label'], margins = True)\n",
    "crosstab_price2 = pd.crosstab(data_cat['color'], data_cat['price_label'], margins = True, normalize=True)\n",
    "crosstab_price1 # матрица сопряженности"
   ]
  },
  {
   "cell_type": "code",
   "execution_count": 20,
   "id": "1a2f7d6c",
   "metadata": {},
   "outputs": [
    {
     "data": {
      "text/html": [
       "<div>\n",
       "<style scoped>\n",
       "    .dataframe tbody tr th:only-of-type {\n",
       "        vertical-align: middle;\n",
       "    }\n",
       "\n",
       "    .dataframe tbody tr th {\n",
       "        vertical-align: top;\n",
       "    }\n",
       "\n",
       "    .dataframe thead th {\n",
       "        text-align: right;\n",
       "    }\n",
       "</style>\n",
       "<table border=\"1\" class=\"dataframe\">\n",
       "  <thead>\n",
       "    <tr style=\"text-align: right;\">\n",
       "      <th>price_label</th>\n",
       "      <th>cheap</th>\n",
       "      <th>expensive</th>\n",
       "      <th>medium</th>\n",
       "      <th>All</th>\n",
       "    </tr>\n",
       "    <tr>\n",
       "      <th>color</th>\n",
       "      <th></th>\n",
       "      <th></th>\n",
       "      <th></th>\n",
       "      <th></th>\n",
       "    </tr>\n",
       "  </thead>\n",
       "  <tbody>\n",
       "    <tr>\n",
       "      <th>D</th>\n",
       "      <td>0.010</td>\n",
       "      <td>0.029</td>\n",
       "      <td>0.036</td>\n",
       "      <td>0.075</td>\n",
       "    </tr>\n",
       "    <tr>\n",
       "      <th>E</th>\n",
       "      <td>0.030</td>\n",
       "      <td>0.030</td>\n",
       "      <td>0.062</td>\n",
       "      <td>0.122</td>\n",
       "    </tr>\n",
       "    <tr>\n",
       "      <th>F</th>\n",
       "      <td>0.011</td>\n",
       "      <td>0.033</td>\n",
       "      <td>0.068</td>\n",
       "      <td>0.112</td>\n",
       "    </tr>\n",
       "    <tr>\n",
       "      <th>G</th>\n",
       "      <td>0.010</td>\n",
       "      <td>0.042</td>\n",
       "      <td>0.108</td>\n",
       "      <td>0.160</td>\n",
       "    </tr>\n",
       "    <tr>\n",
       "      <th>H</th>\n",
       "      <td>0.015</td>\n",
       "      <td>0.065</td>\n",
       "      <td>0.110</td>\n",
       "      <td>0.190</td>\n",
       "    </tr>\n",
       "    <tr>\n",
       "      <th>I</th>\n",
       "      <td>0.017</td>\n",
       "      <td>0.074</td>\n",
       "      <td>0.131</td>\n",
       "      <td>0.222</td>\n",
       "    </tr>\n",
       "    <tr>\n",
       "      <th>J</th>\n",
       "      <td>0.028</td>\n",
       "      <td>0.022</td>\n",
       "      <td>0.069</td>\n",
       "      <td>0.119</td>\n",
       "    </tr>\n",
       "    <tr>\n",
       "      <th>All</th>\n",
       "      <td>0.121</td>\n",
       "      <td>0.295</td>\n",
       "      <td>0.584</td>\n",
       "      <td>1.000</td>\n",
       "    </tr>\n",
       "  </tbody>\n",
       "</table>\n",
       "</div>"
      ],
      "text/plain": [
       "price_label  cheap  expensive  medium    All\n",
       "color                                       \n",
       "D            0.010      0.029   0.036  0.075\n",
       "E            0.030      0.030   0.062  0.122\n",
       "F            0.011      0.033   0.068  0.112\n",
       "G            0.010      0.042   0.108  0.160\n",
       "H            0.015      0.065   0.110  0.190\n",
       "I            0.017      0.074   0.131  0.222\n",
       "J            0.028      0.022   0.069  0.119\n",
       "All          0.121      0.295   0.584  1.000"
      ]
     },
     "execution_count": 20,
     "metadata": {},
     "output_type": "execute_result"
    }
   ],
   "source": [
    "crosstab_price2"
   ]
  },
  {
   "cell_type": "markdown",
   "id": "e0ef7f82",
   "metadata": {},
   "source": [
    "### 2.2 Матрицы условных вероятностей"
   ]
  },
  {
   "cell_type": "code",
   "execution_count": 21,
   "id": "0e71f565",
   "metadata": {},
   "outputs": [
    {
     "data": {
      "text/html": [
       "<div>\n",
       "<style scoped>\n",
       "    .dataframe tbody tr th:only-of-type {\n",
       "        vertical-align: middle;\n",
       "    }\n",
       "\n",
       "    .dataframe tbody tr th {\n",
       "        vertical-align: top;\n",
       "    }\n",
       "\n",
       "    .dataframe thead th {\n",
       "        text-align: right;\n",
       "    }\n",
       "</style>\n",
       "<table border=\"1\" class=\"dataframe\">\n",
       "  <thead>\n",
       "    <tr style=\"text-align: right;\">\n",
       "      <th>carat_label</th>\n",
       "      <th>big</th>\n",
       "      <th>medium</th>\n",
       "      <th>small</th>\n",
       "      <th>All</th>\n",
       "    </tr>\n",
       "    <tr>\n",
       "      <th>color</th>\n",
       "      <th></th>\n",
       "      <th></th>\n",
       "      <th></th>\n",
       "      <th></th>\n",
       "    </tr>\n",
       "  </thead>\n",
       "  <tbody>\n",
       "    <tr>\n",
       "      <th>D</th>\n",
       "      <td>0.020202</td>\n",
       "      <td>0.050934</td>\n",
       "      <td>0.137821</td>\n",
       "      <td>0.075</td>\n",
       "    </tr>\n",
       "    <tr>\n",
       "      <th>E</th>\n",
       "      <td>0.070707</td>\n",
       "      <td>0.071307</td>\n",
       "      <td>0.233974</td>\n",
       "      <td>0.122</td>\n",
       "    </tr>\n",
       "    <tr>\n",
       "      <th>F</th>\n",
       "      <td>0.191919</td>\n",
       "      <td>0.033956</td>\n",
       "      <td>0.233974</td>\n",
       "      <td>0.112</td>\n",
       "    </tr>\n",
       "    <tr>\n",
       "      <th>G</th>\n",
       "      <td>0.070707</td>\n",
       "      <td>0.164686</td>\n",
       "      <td>0.179487</td>\n",
       "      <td>0.160</td>\n",
       "    </tr>\n",
       "    <tr>\n",
       "      <th>H</th>\n",
       "      <td>0.111111</td>\n",
       "      <td>0.224109</td>\n",
       "      <td>0.150641</td>\n",
       "      <td>0.190</td>\n",
       "    </tr>\n",
       "    <tr>\n",
       "      <th>I</th>\n",
       "      <td>0.303030</td>\n",
       "      <td>0.297114</td>\n",
       "      <td>0.054487</td>\n",
       "      <td>0.222</td>\n",
       "    </tr>\n",
       "    <tr>\n",
       "      <th>J</th>\n",
       "      <td>0.232323</td>\n",
       "      <td>0.157895</td>\n",
       "      <td>0.009615</td>\n",
       "      <td>0.119</td>\n",
       "    </tr>\n",
       "    <tr>\n",
       "      <th>All</th>\n",
       "      <td>1.000000</td>\n",
       "      <td>1.000000</td>\n",
       "      <td>1.000000</td>\n",
       "      <td>1.000</td>\n",
       "    </tr>\n",
       "  </tbody>\n",
       "</table>\n",
       "</div>"
      ],
      "text/plain": [
       "carat_label       big    medium     small    All\n",
       "color                                           \n",
       "D            0.020202  0.050934  0.137821  0.075\n",
       "E            0.070707  0.071307  0.233974  0.122\n",
       "F            0.191919  0.033956  0.233974  0.112\n",
       "G            0.070707  0.164686  0.179487  0.160\n",
       "H            0.111111  0.224109  0.150641  0.190\n",
       "I            0.303030  0.297114  0.054487  0.222\n",
       "J            0.232323  0.157895  0.009615  0.119\n",
       "All          1.000000  1.000000  1.000000  1.000"
      ]
     },
     "execution_count": 21,
     "metadata": {},
     "output_type": "execute_result"
    }
   ],
   "source": [
    "cond_prob_carat = np.divide(crosstab_carat1, np.array(crosstab_carat1[-1:]))\n",
    "cond_prob_price = np.divide(crosstab_price1, np.array(crosstab_price1[-1:]))\n",
    "cond_prob_carat # матрица условных вероятностей"
   ]
  },
  {
   "cell_type": "code",
   "execution_count": 22,
   "id": "44a55cbb",
   "metadata": {},
   "outputs": [
    {
     "data": {
      "text/html": [
       "<div>\n",
       "<style scoped>\n",
       "    .dataframe tbody tr th:only-of-type {\n",
       "        vertical-align: middle;\n",
       "    }\n",
       "\n",
       "    .dataframe tbody tr th {\n",
       "        vertical-align: top;\n",
       "    }\n",
       "\n",
       "    .dataframe thead th {\n",
       "        text-align: right;\n",
       "    }\n",
       "</style>\n",
       "<table border=\"1\" class=\"dataframe\">\n",
       "  <thead>\n",
       "    <tr style=\"text-align: right;\">\n",
       "      <th>price_label</th>\n",
       "      <th>cheap</th>\n",
       "      <th>expensive</th>\n",
       "      <th>medium</th>\n",
       "      <th>All</th>\n",
       "    </tr>\n",
       "    <tr>\n",
       "      <th>color</th>\n",
       "      <th></th>\n",
       "      <th></th>\n",
       "      <th></th>\n",
       "      <th></th>\n",
       "    </tr>\n",
       "  </thead>\n",
       "  <tbody>\n",
       "    <tr>\n",
       "      <th>D</th>\n",
       "      <td>0.082645</td>\n",
       "      <td>0.098305</td>\n",
       "      <td>0.061644</td>\n",
       "      <td>0.075</td>\n",
       "    </tr>\n",
       "    <tr>\n",
       "      <th>E</th>\n",
       "      <td>0.247934</td>\n",
       "      <td>0.101695</td>\n",
       "      <td>0.106164</td>\n",
       "      <td>0.122</td>\n",
       "    </tr>\n",
       "    <tr>\n",
       "      <th>F</th>\n",
       "      <td>0.090909</td>\n",
       "      <td>0.111864</td>\n",
       "      <td>0.116438</td>\n",
       "      <td>0.112</td>\n",
       "    </tr>\n",
       "    <tr>\n",
       "      <th>G</th>\n",
       "      <td>0.082645</td>\n",
       "      <td>0.142373</td>\n",
       "      <td>0.184932</td>\n",
       "      <td>0.160</td>\n",
       "    </tr>\n",
       "    <tr>\n",
       "      <th>H</th>\n",
       "      <td>0.123967</td>\n",
       "      <td>0.220339</td>\n",
       "      <td>0.188356</td>\n",
       "      <td>0.190</td>\n",
       "    </tr>\n",
       "    <tr>\n",
       "      <th>I</th>\n",
       "      <td>0.140496</td>\n",
       "      <td>0.250847</td>\n",
       "      <td>0.224315</td>\n",
       "      <td>0.222</td>\n",
       "    </tr>\n",
       "    <tr>\n",
       "      <th>J</th>\n",
       "      <td>0.231405</td>\n",
       "      <td>0.074576</td>\n",
       "      <td>0.118151</td>\n",
       "      <td>0.119</td>\n",
       "    </tr>\n",
       "    <tr>\n",
       "      <th>All</th>\n",
       "      <td>1.000000</td>\n",
       "      <td>1.000000</td>\n",
       "      <td>1.000000</td>\n",
       "      <td>1.000</td>\n",
       "    </tr>\n",
       "  </tbody>\n",
       "</table>\n",
       "</div>"
      ],
      "text/plain": [
       "price_label     cheap  expensive    medium    All\n",
       "color                                            \n",
       "D            0.082645   0.098305  0.061644  0.075\n",
       "E            0.247934   0.101695  0.106164  0.122\n",
       "F            0.090909   0.111864  0.116438  0.112\n",
       "G            0.082645   0.142373  0.184932  0.160\n",
       "H            0.123967   0.220339  0.188356  0.190\n",
       "I            0.140496   0.250847  0.224315  0.222\n",
       "J            0.231405   0.074576  0.118151  0.119\n",
       "All          1.000000   1.000000  1.000000  1.000"
      ]
     },
     "execution_count": 22,
     "metadata": {},
     "output_type": "execute_result"
    }
   ],
   "source": [
    "cond_prob_price # матрица условных вероятностей"
   ]
  },
  {
   "cell_type": "markdown",
   "id": "b5f5e57c",
   "metadata": {},
   "source": [
    "### Чето еще "
   ]
  },
  {
   "cell_type": "code",
   "execution_count": 25,
   "id": "14e3ea6a",
   "metadata": {},
   "outputs": [
    {
     "data": {
      "text/plain": [
       "array([[0.007425, 0.044175, 0.0234  , 0.075   ],\n",
       "       [0.012078, 0.071858, 0.038064, 0.122   ],\n",
       "       [0.011088, 0.065968, 0.034944, 0.112   ],\n",
       "       [0.01584 , 0.09424 , 0.04992 , 0.16    ],\n",
       "       [0.01881 , 0.11191 , 0.05928 , 0.19    ],\n",
       "       [0.021978, 0.130758, 0.069264, 0.222   ],\n",
       "       [0.011781, 0.070091, 0.037128, 0.119   ],\n",
       "       [0.099   , 0.589   , 0.312   , 1.      ]])"
      ]
     },
     "execution_count": 25,
     "metadata": {},
     "output_type": "execute_result"
    }
   ],
   "source": [
    "c_prob = crosstab_carat2.iloc[:, -1].values[:, None] @ crosstab_carat2.iloc[-1, :].values[None, :]\n",
    "c_prob # матрица распределения при условии независимости признаков"
   ]
  },
  {
   "cell_type": "code",
   "execution_count": 26,
   "id": "4f6477ed",
   "metadata": {},
   "outputs": [
    {
     "data": {
      "text/plain": [
       "array([[0.009075, 0.022125, 0.0438  , 0.075   ],\n",
       "       [0.014762, 0.03599 , 0.071248, 0.122   ],\n",
       "       [0.013552, 0.03304 , 0.065408, 0.112   ],\n",
       "       [0.01936 , 0.0472  , 0.09344 , 0.16    ],\n",
       "       [0.02299 , 0.05605 , 0.11096 , 0.19    ],\n",
       "       [0.026862, 0.06549 , 0.129648, 0.222   ],\n",
       "       [0.014399, 0.035105, 0.069496, 0.119   ],\n",
       "       [0.121   , 0.295   , 0.584   , 1.      ]])"
      ]
     },
     "execution_count": 26,
     "metadata": {},
     "output_type": "execute_result"
    }
   ],
   "source": [
    "p_prob = crosstab_price2.iloc[:, -1].values[:, None] @ crosstab_price2.iloc[-1, :].values[None, :]\n",
    "p_prob"
   ]
  },
  {
   "cell_type": "markdown",
   "id": "c466bc3d",
   "metadata": {},
   "source": [
    "### Коэффы Кетле "
   ]
  },
  {
   "cell_type": "code",
   "execution_count": 27,
   "id": "6d14eea3",
   "metadata": {},
   "outputs": [
    {
     "data": {
      "text/html": [
       "<div>\n",
       "<style scoped>\n",
       "    .dataframe tbody tr th:only-of-type {\n",
       "        vertical-align: middle;\n",
       "    }\n",
       "\n",
       "    .dataframe tbody tr th {\n",
       "        vertical-align: top;\n",
       "    }\n",
       "\n",
       "    .dataframe thead th {\n",
       "        text-align: right;\n",
       "    }\n",
       "</style>\n",
       "<table border=\"1\" class=\"dataframe\">\n",
       "  <thead>\n",
       "    <tr style=\"text-align: right;\">\n",
       "      <th>carat_label</th>\n",
       "      <th>big</th>\n",
       "      <th>medium</th>\n",
       "      <th>small</th>\n",
       "      <th>All</th>\n",
       "    </tr>\n",
       "    <tr>\n",
       "      <th>color</th>\n",
       "      <th></th>\n",
       "      <th></th>\n",
       "      <th></th>\n",
       "      <th></th>\n",
       "    </tr>\n",
       "  </thead>\n",
       "  <tbody>\n",
       "    <tr>\n",
       "      <th>D</th>\n",
       "      <td>-0.730640</td>\n",
       "      <td>-0.320883</td>\n",
       "      <td>0.837607</td>\n",
       "      <td>0.0</td>\n",
       "    </tr>\n",
       "    <tr>\n",
       "      <th>E</th>\n",
       "      <td>-0.420434</td>\n",
       "      <td>-0.415514</td>\n",
       "      <td>0.917823</td>\n",
       "      <td>0.0</td>\n",
       "    </tr>\n",
       "    <tr>\n",
       "      <th>F</th>\n",
       "      <td>0.713564</td>\n",
       "      <td>-0.696823</td>\n",
       "      <td>1.089057</td>\n",
       "      <td>0.0</td>\n",
       "    </tr>\n",
       "    <tr>\n",
       "      <th>G</th>\n",
       "      <td>-0.558081</td>\n",
       "      <td>0.029287</td>\n",
       "      <td>0.121795</td>\n",
       "      <td>0.0</td>\n",
       "    </tr>\n",
       "    <tr>\n",
       "      <th>H</th>\n",
       "      <td>-0.415205</td>\n",
       "      <td>0.179519</td>\n",
       "      <td>-0.207152</td>\n",
       "      <td>0.0</td>\n",
       "    </tr>\n",
       "    <tr>\n",
       "      <th>I</th>\n",
       "      <td>0.365001</td>\n",
       "      <td>0.338350</td>\n",
       "      <td>-0.754562</td>\n",
       "      <td>0.0</td>\n",
       "    </tr>\n",
       "    <tr>\n",
       "      <th>J</th>\n",
       "      <td>0.952296</td>\n",
       "      <td>0.326847</td>\n",
       "      <td>-0.919198</td>\n",
       "      <td>0.0</td>\n",
       "    </tr>\n",
       "    <tr>\n",
       "      <th>All</th>\n",
       "      <td>0.000000</td>\n",
       "      <td>0.000000</td>\n",
       "      <td>0.000000</td>\n",
       "      <td>0.0</td>\n",
       "    </tr>\n",
       "  </tbody>\n",
       "</table>\n",
       "</div>"
      ],
      "text/plain": [
       "carat_label       big    medium     small  All\n",
       "color                                         \n",
       "D           -0.730640 -0.320883  0.837607  0.0\n",
       "E           -0.420434 -0.415514  0.917823  0.0\n",
       "F            0.713564 -0.696823  1.089057  0.0\n",
       "G           -0.558081  0.029287  0.121795  0.0\n",
       "H           -0.415205  0.179519 -0.207152  0.0\n",
       "I            0.365001  0.338350 -0.754562  0.0\n",
       "J            0.952296  0.326847 -0.919198  0.0\n",
       "All          0.000000  0.000000  0.000000  0.0"
      ]
     },
     "execution_count": 27,
     "metadata": {},
     "output_type": "execute_result"
    }
   ],
   "source": [
    "c_quetle = crosstab_carat2 / c_prob - 1\n",
    "c_quetle # матрица индексов Кетле"
   ]
  },
  {
   "cell_type": "code",
   "execution_count": 42,
   "id": "aaaa4911",
   "metadata": {},
   "outputs": [
    {
     "data": {
      "text/plain": [
       "0.2726817857872301"
      ]
     },
     "execution_count": 42,
     "metadata": {},
     "output_type": "execute_result"
    }
   ],
   "source": [
    "m = crosstab_carat2.iloc[:-1, :-1] * c_quetle\n",
    "np.sum(m.iloc[1:,1:].values)"
   ]
  },
  {
   "cell_type": "code",
   "execution_count": 31,
   "id": "16db3a67",
   "metadata": {},
   "outputs": [
    {
     "data": {
      "text/html": [
       "<div>\n",
       "<style scoped>\n",
       "    .dataframe tbody tr th:only-of-type {\n",
       "        vertical-align: middle;\n",
       "    }\n",
       "\n",
       "    .dataframe tbody tr th {\n",
       "        vertical-align: top;\n",
       "    }\n",
       "\n",
       "    .dataframe thead th {\n",
       "        text-align: right;\n",
       "    }\n",
       "</style>\n",
       "<table border=\"1\" class=\"dataframe\">\n",
       "  <thead>\n",
       "    <tr style=\"text-align: right;\">\n",
       "      <th>price_label</th>\n",
       "      <th>cheap</th>\n",
       "      <th>expensive</th>\n",
       "      <th>medium</th>\n",
       "      <th>All</th>\n",
       "    </tr>\n",
       "    <tr>\n",
       "      <th>color</th>\n",
       "      <th></th>\n",
       "      <th></th>\n",
       "      <th></th>\n",
       "      <th></th>\n",
       "    </tr>\n",
       "  </thead>\n",
       "  <tbody>\n",
       "    <tr>\n",
       "      <th>D</th>\n",
       "      <td>0.101928</td>\n",
       "      <td>0.310734</td>\n",
       "      <td>-0.178082</td>\n",
       "      <td>0.0</td>\n",
       "    </tr>\n",
       "    <tr>\n",
       "      <th>E</th>\n",
       "      <td>1.032245</td>\n",
       "      <td>-0.166435</td>\n",
       "      <td>-0.129800</td>\n",
       "      <td>0.0</td>\n",
       "    </tr>\n",
       "    <tr>\n",
       "      <th>F</th>\n",
       "      <td>-0.188312</td>\n",
       "      <td>-0.001211</td>\n",
       "      <td>0.039628</td>\n",
       "      <td>0.0</td>\n",
       "    </tr>\n",
       "    <tr>\n",
       "      <th>G</th>\n",
       "      <td>-0.483471</td>\n",
       "      <td>-0.110169</td>\n",
       "      <td>0.155822</td>\n",
       "      <td>0.0</td>\n",
       "    </tr>\n",
       "    <tr>\n",
       "      <th>H</th>\n",
       "      <td>-0.347542</td>\n",
       "      <td>0.159679</td>\n",
       "      <td>-0.008652</td>\n",
       "      <td>0.0</td>\n",
       "    </tr>\n",
       "    <tr>\n",
       "      <th>I</th>\n",
       "      <td>-0.367136</td>\n",
       "      <td>0.129944</td>\n",
       "      <td>0.010428</td>\n",
       "      <td>0.0</td>\n",
       "    </tr>\n",
       "    <tr>\n",
       "      <th>J</th>\n",
       "      <td>0.944579</td>\n",
       "      <td>-0.373309</td>\n",
       "      <td>-0.007137</td>\n",
       "      <td>0.0</td>\n",
       "    </tr>\n",
       "    <tr>\n",
       "      <th>All</th>\n",
       "      <td>0.000000</td>\n",
       "      <td>0.000000</td>\n",
       "      <td>0.000000</td>\n",
       "      <td>0.0</td>\n",
       "    </tr>\n",
       "  </tbody>\n",
       "</table>\n",
       "</div>"
      ],
      "text/plain": [
       "price_label     cheap  expensive    medium  All\n",
       "color                                          \n",
       "D            0.101928   0.310734 -0.178082  0.0\n",
       "E            1.032245  -0.166435 -0.129800  0.0\n",
       "F           -0.188312  -0.001211  0.039628  0.0\n",
       "G           -0.483471  -0.110169  0.155822  0.0\n",
       "H           -0.347542   0.159679 -0.008652  0.0\n",
       "I           -0.367136   0.129944  0.010428  0.0\n",
       "J            0.944579  -0.373309 -0.007137  0.0\n",
       "All          0.000000   0.000000  0.000000  0.0"
      ]
     },
     "execution_count": 31,
     "metadata": {},
     "output_type": "execute_result"
    }
   ],
   "source": [
    "p_quetle = crosstab_price2 / p_prob - 1\n",
    "p_quetle # матрица индексов Кетле"
   ]
  },
  {
   "cell_type": "code",
   "execution_count": 32,
   "id": "7e1879bd",
   "metadata": {},
   "outputs": [
    {
     "data": {
      "text/plain": [
       "0.05619446619254867"
      ]
     },
     "execution_count": 32,
     "metadata": {},
     "output_type": "execute_result"
    }
   ],
   "source": [
    "m = crosstab_price2.iloc[:-1, :-1] * p_quetle\n",
    "np.sum(m.iloc[1:,1:].values)"
   ]
  },
  {
   "cell_type": "markdown",
   "id": "3897b2fc",
   "metadata": {},
   "source": [
    "### Chi square"
   ]
  },
  {
   "cell_type": "code",
   "execution_count": 34,
   "id": "7aa7f388",
   "metadata": {},
   "outputs": [
    {
     "data": {
      "text/html": [
       "<div>\n",
       "<style scoped>\n",
       "    .dataframe tbody tr th:only-of-type {\n",
       "        vertical-align: middle;\n",
       "    }\n",
       "\n",
       "    .dataframe tbody tr th {\n",
       "        vertical-align: top;\n",
       "    }\n",
       "\n",
       "    .dataframe thead th {\n",
       "        text-align: right;\n",
       "    }\n",
       "</style>\n",
       "<table border=\"1\" class=\"dataframe\">\n",
       "  <thead>\n",
       "    <tr style=\"text-align: right;\">\n",
       "      <th>carat_label</th>\n",
       "      <th>big</th>\n",
       "      <th>medium</th>\n",
       "      <th>small</th>\n",
       "    </tr>\n",
       "    <tr>\n",
       "      <th>color</th>\n",
       "      <th></th>\n",
       "      <th></th>\n",
       "      <th></th>\n",
       "    </tr>\n",
       "  </thead>\n",
       "  <tbody>\n",
       "    <tr>\n",
       "      <th>D</th>\n",
       "      <td>0.003964</td>\n",
       "      <td>0.004549</td>\n",
       "      <td>0.016417</td>\n",
       "    </tr>\n",
       "    <tr>\n",
       "      <th>E</th>\n",
       "      <td>0.002135</td>\n",
       "      <td>0.012406</td>\n",
       "      <td>0.032065</td>\n",
       "    </tr>\n",
       "    <tr>\n",
       "      <th>F</th>\n",
       "      <td>0.005646</td>\n",
       "      <td>0.032032</td>\n",
       "      <td>0.041445</td>\n",
       "    </tr>\n",
       "    <tr>\n",
       "      <th>G</th>\n",
       "      <td>0.004933</td>\n",
       "      <td>0.000081</td>\n",
       "      <td>0.000741</td>\n",
       "    </tr>\n",
       "    <tr>\n",
       "      <th>H</th>\n",
       "      <td>0.003243</td>\n",
       "      <td>0.003607</td>\n",
       "      <td>0.002544</td>\n",
       "    </tr>\n",
       "    <tr>\n",
       "      <th>I</th>\n",
       "      <td>0.002928</td>\n",
       "      <td>0.014969</td>\n",
       "      <td>0.039436</td>\n",
       "    </tr>\n",
       "    <tr>\n",
       "      <th>J</th>\n",
       "      <td>0.010684</td>\n",
       "      <td>0.007488</td>\n",
       "      <td>0.031370</td>\n",
       "    </tr>\n",
       "  </tbody>\n",
       "</table>\n",
       "</div>"
      ],
      "text/plain": [
       "carat_label       big    medium     small\n",
       "color                                    \n",
       "D            0.003964  0.004549  0.016417\n",
       "E            0.002135  0.012406  0.032065\n",
       "F            0.005646  0.032032  0.041445\n",
       "G            0.004933  0.000081  0.000741\n",
       "H            0.003243  0.003607  0.002544\n",
       "I            0.002928  0.014969  0.039436\n",
       "J            0.010684  0.007488  0.031370"
      ]
     },
     "execution_count": 34,
     "metadata": {},
     "output_type": "execute_result"
    }
   ],
   "source": [
    "c_kxi = (crosstab_carat2  - c_prob)**2 / c_prob\n",
    "c_kxi = c_kxi.iloc[:-1, :-1]\n",
    "c_kxi # хи-квадрат"
   ]
  },
  {
   "cell_type": "code",
   "execution_count": 35,
   "id": "93c3398b",
   "metadata": {},
   "outputs": [
    {
     "data": {
      "text/plain": [
       "0.27268178578723007"
      ]
     },
     "execution_count": 35,
     "metadata": {},
     "output_type": "execute_result"
    }
   ],
   "source": [
    "np.sum(c_kxi.values)"
   ]
  },
  {
   "cell_type": "code",
   "execution_count": 39,
   "id": "9bf4e87f",
   "metadata": {},
   "outputs": [
    {
     "data": {
      "text/html": [
       "<div>\n",
       "<style scoped>\n",
       "    .dataframe tbody tr th:only-of-type {\n",
       "        vertical-align: middle;\n",
       "    }\n",
       "\n",
       "    .dataframe tbody tr th {\n",
       "        vertical-align: top;\n",
       "    }\n",
       "\n",
       "    .dataframe thead th {\n",
       "        text-align: right;\n",
       "    }\n",
       "</style>\n",
       "<table border=\"1\" class=\"dataframe\">\n",
       "  <thead>\n",
       "    <tr style=\"text-align: right;\">\n",
       "      <th>price_label</th>\n",
       "      <th>cheap</th>\n",
       "      <th>expensive</th>\n",
       "      <th>medium</th>\n",
       "    </tr>\n",
       "    <tr>\n",
       "      <th>color</th>\n",
       "      <th></th>\n",
       "      <th></th>\n",
       "      <th></th>\n",
       "    </tr>\n",
       "  </thead>\n",
       "  <tbody>\n",
       "    <tr>\n",
       "      <th>D</th>\n",
       "      <td>0.000094</td>\n",
       "      <td>2.136299e-03</td>\n",
       "      <td>0.001389</td>\n",
       "    </tr>\n",
       "    <tr>\n",
       "      <th>E</th>\n",
       "      <td>0.015729</td>\n",
       "      <td>9.969464e-04</td>\n",
       "      <td>0.001200</td>\n",
       "    </tr>\n",
       "    <tr>\n",
       "      <th>F</th>\n",
       "      <td>0.000481</td>\n",
       "      <td>4.842615e-08</td>\n",
       "      <td>0.000103</td>\n",
       "    </tr>\n",
       "    <tr>\n",
       "      <th>G</th>\n",
       "      <td>0.004525</td>\n",
       "      <td>5.728814e-04</td>\n",
       "      <td>0.002269</td>\n",
       "    </tr>\n",
       "    <tr>\n",
       "      <th>H</th>\n",
       "      <td>0.002777</td>\n",
       "      <td>1.429126e-03</td>\n",
       "      <td>0.000008</td>\n",
       "    </tr>\n",
       "    <tr>\n",
       "      <th>I</th>\n",
       "      <td>0.003621</td>\n",
       "      <td>1.105819e-03</td>\n",
       "      <td>0.000014</td>\n",
       "    </tr>\n",
       "    <tr>\n",
       "      <th>J</th>\n",
       "      <td>0.012847</td>\n",
       "      <td>4.892210e-03</td>\n",
       "      <td>0.000004</td>\n",
       "    </tr>\n",
       "  </tbody>\n",
       "</table>\n",
       "</div>"
      ],
      "text/plain": [
       "price_label     cheap     expensive    medium\n",
       "color                                        \n",
       "D            0.000094  2.136299e-03  0.001389\n",
       "E            0.015729  9.969464e-04  0.001200\n",
       "F            0.000481  4.842615e-08  0.000103\n",
       "G            0.004525  5.728814e-04  0.002269\n",
       "H            0.002777  1.429126e-03  0.000008\n",
       "I            0.003621  1.105819e-03  0.000014\n",
       "J            0.012847  4.892210e-03  0.000004"
      ]
     },
     "execution_count": 39,
     "metadata": {},
     "output_type": "execute_result"
    }
   ],
   "source": [
    "p_kxi = (crosstab_price2  - p_prob)**2 / p_prob\n",
    "p_kxi = p_kxi.iloc[:-1, :-1]\n",
    "p_kxi # хи-квадрат"
   ]
  },
  {
   "cell_type": "code",
   "execution_count": 40,
   "id": "c827ab60",
   "metadata": {},
   "outputs": [
    {
     "data": {
      "text/plain": [
       "0.056194466192548594"
      ]
     },
     "execution_count": 40,
     "metadata": {},
     "output_type": "execute_result"
    }
   ],
   "source": [
    "np.sum(p_kxi.values)"
   ]
  }
 ],
 "metadata": {
  "kernelspec": {
   "display_name": "Python 3 (ipykernel)",
   "language": "python",
   "name": "python3"
  },
  "language_info": {
   "codemirror_mode": {
    "name": "ipython",
    "version": 3
   },
   "file_extension": ".py",
   "mimetype": "text/x-python",
   "name": "python",
   "nbconvert_exporter": "python",
   "pygments_lexer": "ipython3",
   "version": "3.9.12"
  }
 },
 "nbformat": 4,
 "nbformat_minor": 5
}
