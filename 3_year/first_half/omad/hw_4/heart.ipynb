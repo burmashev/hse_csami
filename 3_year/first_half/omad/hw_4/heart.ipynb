{
 "cells": [
  {
   "cell_type": "code",
   "execution_count": 1,
   "id": "8d733c15",
   "metadata": {},
   "outputs": [],
   "source": [
    "import numpy as np\n",
    "import pandas as pd\n",
    "import matplotlib.pyplot as plt"
   ]
  },
  {
   "cell_type": "code",
   "execution_count": 2,
   "id": "efe0b067",
   "metadata": {},
   "outputs": [
    {
     "data": {
      "text/html": [
       "<div>\n",
       "<style scoped>\n",
       "    .dataframe tbody tr th:only-of-type {\n",
       "        vertical-align: middle;\n",
       "    }\n",
       "\n",
       "    .dataframe tbody tr th {\n",
       "        vertical-align: top;\n",
       "    }\n",
       "\n",
       "    .dataframe thead th {\n",
       "        text-align: right;\n",
       "    }\n",
       "</style>\n",
       "<table border=\"1\" class=\"dataframe\">\n",
       "  <thead>\n",
       "    <tr style=\"text-align: right;\">\n",
       "      <th></th>\n",
       "      <th>age</th>\n",
       "      <th>sex</th>\n",
       "      <th>cp</th>\n",
       "      <th>trtbps</th>\n",
       "      <th>chol</th>\n",
       "      <th>fbs</th>\n",
       "      <th>restecg</th>\n",
       "      <th>thalachh</th>\n",
       "      <th>exng</th>\n",
       "      <th>oldpeak</th>\n",
       "      <th>slp</th>\n",
       "      <th>caa</th>\n",
       "      <th>thall</th>\n",
       "      <th>output</th>\n",
       "    </tr>\n",
       "  </thead>\n",
       "  <tbody>\n",
       "    <tr>\n",
       "      <th>0</th>\n",
       "      <td>63</td>\n",
       "      <td>1</td>\n",
       "      <td>3</td>\n",
       "      <td>145</td>\n",
       "      <td>233</td>\n",
       "      <td>1</td>\n",
       "      <td>0</td>\n",
       "      <td>150</td>\n",
       "      <td>0</td>\n",
       "      <td>2.3</td>\n",
       "      <td>0</td>\n",
       "      <td>0</td>\n",
       "      <td>1</td>\n",
       "      <td>1</td>\n",
       "    </tr>\n",
       "    <tr>\n",
       "      <th>1</th>\n",
       "      <td>37</td>\n",
       "      <td>1</td>\n",
       "      <td>2</td>\n",
       "      <td>130</td>\n",
       "      <td>250</td>\n",
       "      <td>0</td>\n",
       "      <td>1</td>\n",
       "      <td>187</td>\n",
       "      <td>0</td>\n",
       "      <td>3.5</td>\n",
       "      <td>0</td>\n",
       "      <td>0</td>\n",
       "      <td>2</td>\n",
       "      <td>1</td>\n",
       "    </tr>\n",
       "    <tr>\n",
       "      <th>2</th>\n",
       "      <td>41</td>\n",
       "      <td>0</td>\n",
       "      <td>1</td>\n",
       "      <td>130</td>\n",
       "      <td>204</td>\n",
       "      <td>0</td>\n",
       "      <td>0</td>\n",
       "      <td>172</td>\n",
       "      <td>0</td>\n",
       "      <td>1.4</td>\n",
       "      <td>2</td>\n",
       "      <td>0</td>\n",
       "      <td>2</td>\n",
       "      <td>1</td>\n",
       "    </tr>\n",
       "    <tr>\n",
       "      <th>3</th>\n",
       "      <td>56</td>\n",
       "      <td>1</td>\n",
       "      <td>1</td>\n",
       "      <td>120</td>\n",
       "      <td>236</td>\n",
       "      <td>0</td>\n",
       "      <td>1</td>\n",
       "      <td>178</td>\n",
       "      <td>0</td>\n",
       "      <td>0.8</td>\n",
       "      <td>2</td>\n",
       "      <td>0</td>\n",
       "      <td>2</td>\n",
       "      <td>1</td>\n",
       "    </tr>\n",
       "    <tr>\n",
       "      <th>4</th>\n",
       "      <td>57</td>\n",
       "      <td>0</td>\n",
       "      <td>0</td>\n",
       "      <td>120</td>\n",
       "      <td>354</td>\n",
       "      <td>0</td>\n",
       "      <td>1</td>\n",
       "      <td>163</td>\n",
       "      <td>1</td>\n",
       "      <td>0.6</td>\n",
       "      <td>2</td>\n",
       "      <td>0</td>\n",
       "      <td>2</td>\n",
       "      <td>1</td>\n",
       "    </tr>\n",
       "    <tr>\n",
       "      <th>...</th>\n",
       "      <td>...</td>\n",
       "      <td>...</td>\n",
       "      <td>...</td>\n",
       "      <td>...</td>\n",
       "      <td>...</td>\n",
       "      <td>...</td>\n",
       "      <td>...</td>\n",
       "      <td>...</td>\n",
       "      <td>...</td>\n",
       "      <td>...</td>\n",
       "      <td>...</td>\n",
       "      <td>...</td>\n",
       "      <td>...</td>\n",
       "      <td>...</td>\n",
       "    </tr>\n",
       "    <tr>\n",
       "      <th>298</th>\n",
       "      <td>57</td>\n",
       "      <td>0</td>\n",
       "      <td>0</td>\n",
       "      <td>140</td>\n",
       "      <td>241</td>\n",
       "      <td>0</td>\n",
       "      <td>1</td>\n",
       "      <td>123</td>\n",
       "      <td>1</td>\n",
       "      <td>0.2</td>\n",
       "      <td>1</td>\n",
       "      <td>0</td>\n",
       "      <td>3</td>\n",
       "      <td>0</td>\n",
       "    </tr>\n",
       "    <tr>\n",
       "      <th>299</th>\n",
       "      <td>45</td>\n",
       "      <td>1</td>\n",
       "      <td>3</td>\n",
       "      <td>110</td>\n",
       "      <td>264</td>\n",
       "      <td>0</td>\n",
       "      <td>1</td>\n",
       "      <td>132</td>\n",
       "      <td>0</td>\n",
       "      <td>1.2</td>\n",
       "      <td>1</td>\n",
       "      <td>0</td>\n",
       "      <td>3</td>\n",
       "      <td>0</td>\n",
       "    </tr>\n",
       "    <tr>\n",
       "      <th>300</th>\n",
       "      <td>68</td>\n",
       "      <td>1</td>\n",
       "      <td>0</td>\n",
       "      <td>144</td>\n",
       "      <td>193</td>\n",
       "      <td>1</td>\n",
       "      <td>1</td>\n",
       "      <td>141</td>\n",
       "      <td>0</td>\n",
       "      <td>3.4</td>\n",
       "      <td>1</td>\n",
       "      <td>2</td>\n",
       "      <td>3</td>\n",
       "      <td>0</td>\n",
       "    </tr>\n",
       "    <tr>\n",
       "      <th>301</th>\n",
       "      <td>57</td>\n",
       "      <td>1</td>\n",
       "      <td>0</td>\n",
       "      <td>130</td>\n",
       "      <td>131</td>\n",
       "      <td>0</td>\n",
       "      <td>1</td>\n",
       "      <td>115</td>\n",
       "      <td>1</td>\n",
       "      <td>1.2</td>\n",
       "      <td>1</td>\n",
       "      <td>1</td>\n",
       "      <td>3</td>\n",
       "      <td>0</td>\n",
       "    </tr>\n",
       "    <tr>\n",
       "      <th>302</th>\n",
       "      <td>57</td>\n",
       "      <td>0</td>\n",
       "      <td>1</td>\n",
       "      <td>130</td>\n",
       "      <td>236</td>\n",
       "      <td>0</td>\n",
       "      <td>0</td>\n",
       "      <td>174</td>\n",
       "      <td>0</td>\n",
       "      <td>0.0</td>\n",
       "      <td>1</td>\n",
       "      <td>1</td>\n",
       "      <td>2</td>\n",
       "      <td>0</td>\n",
       "    </tr>\n",
       "  </tbody>\n",
       "</table>\n",
       "<p>303 rows × 14 columns</p>\n",
       "</div>"
      ],
      "text/plain": [
       "     age  sex  cp  trtbps  chol  fbs  restecg  thalachh  exng  oldpeak  slp  \\\n",
       "0     63    1   3     145   233    1        0       150     0      2.3    0   \n",
       "1     37    1   2     130   250    0        1       187     0      3.5    0   \n",
       "2     41    0   1     130   204    0        0       172     0      1.4    2   \n",
       "3     56    1   1     120   236    0        1       178     0      0.8    2   \n",
       "4     57    0   0     120   354    0        1       163     1      0.6    2   \n",
       "..   ...  ...  ..     ...   ...  ...      ...       ...   ...      ...  ...   \n",
       "298   57    0   0     140   241    0        1       123     1      0.2    1   \n",
       "299   45    1   3     110   264    0        1       132     0      1.2    1   \n",
       "300   68    1   0     144   193    1        1       141     0      3.4    1   \n",
       "301   57    1   0     130   131    0        1       115     1      1.2    1   \n",
       "302   57    0   1     130   236    0        0       174     0      0.0    1   \n",
       "\n",
       "     caa  thall  output  \n",
       "0      0      1       1  \n",
       "1      0      2       1  \n",
       "2      0      2       1  \n",
       "3      0      2       1  \n",
       "4      0      2       1  \n",
       "..   ...    ...     ...  \n",
       "298    0      3       0  \n",
       "299    0      3       0  \n",
       "300    2      3       0  \n",
       "301    1      3       0  \n",
       "302    1      2       0  \n",
       "\n",
       "[303 rows x 14 columns]"
      ]
     },
     "execution_count": 2,
     "metadata": {},
     "output_type": "execute_result"
    }
   ],
   "source": [
    "data = pd.read_csv('/Users/alice/Desktop/вшэ/omad/heart.csv')\n",
    "data"
   ]
  },
  {
   "cell_type": "code",
   "execution_count": 11,
   "id": "6fe9a991",
   "metadata": {},
   "outputs": [
    {
     "data": {
      "text/plain": [
       "<matplotlib.lines.Line2D at 0x12e8fbc40>"
      ]
     },
     "execution_count": 11,
     "metadata": {},
     "output_type": "execute_result"
    },
    {
     "data": {
      "image/png": "[encoded data removed]",
      "text/plain": [
       "<Figure size 1000x800 with 1 Axes>"
      ]
     },
     "metadata": {},
     "output_type": "display_data"
    }
   ],
   "source": [
    "plt.figure(figsize=(10, 8))\n",
    "plt.hist(data['trtbps'], bins = 60, color = 'salmon')\n",
    "plt.title('Распределение давления')\n",
    "plt.axvline(110, c='lightblue')\n",
    "plt.axvline(145, c='lightblue')"
   ]
  },
  {
   "cell_type": "code",
   "execution_count": 12,
   "id": "4c713a6b",
   "metadata": {},
   "outputs": [],
   "source": [
    "data_cat = data.copy()\n",
    "data_cat['trtbps_label'] = 0\n",
    "data_cat.loc[data_cat['trtbps'] < 110, 'trtbps_label'] = 'low'\n",
    "data_cat.loc[(data_cat['trtbps'] >= 110) & (data_cat['trtbps'] <= 145) , 'trtbps_label'] = 'normal'\n",
    "data_cat.loc[data_cat['trtbps'] > 145, 'trtbps_label'] = 'high'"
   ]
  },
  {
   "cell_type": "code",
   "execution_count": 13,
   "id": "1217335e",
   "metadata": {},
   "outputs": [
    {
     "data": {
      "text/plain": [
       "normal    228\n",
       "high       55\n",
       "low        20\n",
       "Name: trtbps_label, dtype: int64"
      ]
     },
     "execution_count": 13,
     "metadata": {},
     "output_type": "execute_result"
    }
   ],
   "source": [
    "data_cat['trtbps_label'].value_counts()"
   ]
  },
  {
   "cell_type": "code",
   "execution_count": null,
   "id": "1fde72e5",
   "metadata": {},
   "outputs": [],
   "source": []
  },
  {
   "cell_type": "code",
   "execution_count": 20,
   "id": "6b21bafe",
   "metadata": {},
   "outputs": [
    {
     "data": {
      "text/plain": [
       "<matplotlib.lines.Line2D at 0x12ee5bbb0>"
      ]
     },
     "execution_count": 20,
     "metadata": {},
     "output_type": "execute_result"
    },
    {
     "data": {
      "image/png": "[encoded data removed]",
      "text/plain": [
       "<Figure size 1000x800 with 1 Axes>"
      ]
     },
     "metadata": {},
     "output_type": "display_data"
    }
   ],
   "source": [
    "plt.figure(figsize=(10, 8))\n",
    "plt.hist(data['chol'], bins = 60, color = 'salmon')\n",
    "plt.title('Распределение холестерина')\n",
    "plt.axvline(200, c='lightblue')\n",
    "plt.axvline(290, c='lightblue')"
   ]
  },
  {
   "cell_type": "code",
   "execution_count": null,
   "id": "71394b9f",
   "metadata": {},
   "outputs": [],
   "source": []
  },
  {
   "cell_type": "code",
   "execution_count": 21,
   "id": "7c6f8ba8",
   "metadata": {},
   "outputs": [],
   "source": [
    "data_cat['chol_label'] = 0\n",
    "data_cat.loc[data_cat['chol'] < 200, 'chol_label'] = 'normal'\n",
    "data_cat.loc[(data_cat['chol'] >= 200) & (data_cat['chol'] <= 290) , 'chol_label'] = 'elevated'\n",
    "data_cat.loc[data_cat['chol'] > 290, 'chol_label'] = 'extremely elevated'"
   ]
  },
  {
   "cell_type": "code",
   "execution_count": 22,
   "id": "96d9ba75",
   "metadata": {},
   "outputs": [
    {
     "data": {
      "text/plain": [
       "elevated              200\n",
       "extremely elevated     53\n",
       "normal                 50\n",
       "Name: chol_label, dtype: int64"
      ]
     },
     "execution_count": 22,
     "metadata": {},
     "output_type": "execute_result"
    }
   ],
   "source": [
    "data_cat['chol_label'].value_counts(sort=False)"
   ]
  },
  {
   "cell_type": "markdown",
   "id": "ce7c52f4",
   "metadata": {},
   "source": [
    "Третьим берем пол пациента, он уже является категориальным. "
   ]
  },
  {
   "cell_type": "code",
   "execution_count": 140,
   "id": "7291a550",
   "metadata": {},
   "outputs": [
    {
     "data": {
      "text/plain": [
       "1    207\n",
       "0     96\n",
       "Name: sex, dtype: int64"
      ]
     },
     "execution_count": 140,
     "metadata": {},
     "output_type": "execute_result"
    }
   ],
   "source": [
    "data_cat['sex'].value_counts(sort=False)"
   ]
  },
  {
   "cell_type": "code",
   "execution_count": 144,
   "id": "8d655cc2",
   "metadata": {},
   "outputs": [],
   "source": [
    "data_cat['sex'] = data_cat['sex'].replace(to_replace=0, value='Female')\n",
    "data_cat['sex'] = data_cat['sex'].replace(to_replace=1, value='Male')"
   ]
  },
  {
   "cell_type": "code",
   "execution_count": 145,
   "id": "5cbbff7f",
   "metadata": {},
   "outputs": [
    {
     "data": {
      "text/plain": [
       "0        Male\n",
       "1        Male\n",
       "2      Female\n",
       "3        Male\n",
       "4      Female\n",
       "        ...  \n",
       "298    Female\n",
       "299      Male\n",
       "300      Male\n",
       "301      Male\n",
       "302    Female\n",
       "Name: sex, Length: 303, dtype: object"
      ]
     },
     "execution_count": 145,
     "metadata": {},
     "output_type": "execute_result"
    }
   ],
   "source": [
    "data_cat['sex']"
   ]
  },
  {
   "cell_type": "code",
   "execution_count": 24,
   "id": "449cfc71",
   "metadata": {},
   "outputs": [],
   "source": [
    "from sklearn.cluster import KMeans\n",
    "def clasters(data, n_clusters):\n",
    "    criterions = []\n",
    "    labels = []\n",
    "\n",
    "    for i in range(12):\n",
    "        kmeans = KMeans(n_clusters=n_clusters, init='random', n_init=1)\n",
    "        kmeans.fit(data)\n",
    "        criterions.append(kmeans.inertia_)\n",
    "        labels.append(kmeans.labels_)\n",
    "\n",
    "    opt_ind = np.argmin(criterions)\n",
    "    opt_criterion = criterions[opt_ind]\n",
    "    opt_label = labels[opt_ind]\n",
    "    \n",
    "    return criterions, labels, opt_criterion, opt_label"
   ]
  },
  {
   "cell_type": "code",
   "execution_count": 25,
   "id": "7da5b283",
   "metadata": {},
   "outputs": [],
   "source": [
    "numeric = ['age', 'trtbps', 'chol']\n",
    "norm_data = (data[numeric] - data[numeric].mean()) / data[numeric].std()\n",
    "criterions5, labels5, opt_criterion5, opt_label5 = clasters(norm_data, 5)"
   ]
  },
  {
   "cell_type": "code",
   "execution_count": 26,
   "id": "eea706fc",
   "metadata": {},
   "outputs": [],
   "source": [
    "claster_data5 = data[numeric].copy()\n",
    "claster_data5.loc[:, 'label5'] = opt_label5"
   ]
  },
  {
   "cell_type": "code",
   "execution_count": null,
   "id": "6e5a2467",
   "metadata": {},
   "outputs": [],
   "source": []
  },
  {
   "cell_type": "markdown",
   "id": "f418cbb8",
   "metadata": {},
   "source": [
    "# Матрицы сопряженности"
   ]
  },
  {
   "cell_type": "code",
   "execution_count": 146,
   "id": "6346eeee",
   "metadata": {},
   "outputs": [
    {
     "data": {
      "text/html": [
       "<div>\n",
       "<style scoped>\n",
       "    .dataframe tbody tr th:only-of-type {\n",
       "        vertical-align: middle;\n",
       "    }\n",
       "\n",
       "    .dataframe tbody tr th {\n",
       "        vertical-align: top;\n",
       "    }\n",
       "\n",
       "    .dataframe thead th {\n",
       "        text-align: right;\n",
       "    }\n",
       "</style>\n",
       "<table border=\"1\" class=\"dataframe\">\n",
       "  <thead>\n",
       "    <tr style=\"text-align: right;\">\n",
       "      <th>chol_label</th>\n",
       "      <th>elevated</th>\n",
       "      <th>extremely elevated</th>\n",
       "      <th>normal</th>\n",
       "      <th>All</th>\n",
       "    </tr>\n",
       "    <tr>\n",
       "      <th>trtbps_label</th>\n",
       "      <th></th>\n",
       "      <th></th>\n",
       "      <th></th>\n",
       "      <th></th>\n",
       "    </tr>\n",
       "  </thead>\n",
       "  <tbody>\n",
       "    <tr>\n",
       "      <th>high</th>\n",
       "      <td>43</td>\n",
       "      <td>7</td>\n",
       "      <td>5</td>\n",
       "      <td>55</td>\n",
       "    </tr>\n",
       "    <tr>\n",
       "      <th>low</th>\n",
       "      <td>13</td>\n",
       "      <td>3</td>\n",
       "      <td>4</td>\n",
       "      <td>20</td>\n",
       "    </tr>\n",
       "    <tr>\n",
       "      <th>normal</th>\n",
       "      <td>144</td>\n",
       "      <td>43</td>\n",
       "      <td>41</td>\n",
       "      <td>228</td>\n",
       "    </tr>\n",
       "    <tr>\n",
       "      <th>All</th>\n",
       "      <td>200</td>\n",
       "      <td>53</td>\n",
       "      <td>50</td>\n",
       "      <td>303</td>\n",
       "    </tr>\n",
       "  </tbody>\n",
       "</table>\n",
       "</div>"
      ],
      "text/plain": [
       "chol_label    elevated  extremely elevated  normal  All\n",
       "trtbps_label                                           \n",
       "high                43                   7       5   55\n",
       "low                 13                   3       4   20\n",
       "normal             144                  43      41  228\n",
       "All                200                  53      50  303"
      ]
     },
     "execution_count": 146,
     "metadata": {},
     "output_type": "execute_result"
    }
   ],
   "source": [
    "crosstab_chol1 = pd.crosstab(data_cat['trtbps_label'], data_cat['chol_label'], margins = True)\n",
    "crosstab_chol2 = pd.crosstab(data_cat['trtbps_label'], data_cat['chol_label'], margins = True, normalize=True)\n",
    "crosstab_chol1 # матрица сопряженности давление и холестерина"
   ]
  },
  {
   "cell_type": "code",
   "execution_count": 147,
   "id": "52ca29ab",
   "metadata": {},
   "outputs": [
    {
     "data": {
      "text/html": [
       "<div>\n",
       "<style scoped>\n",
       "    .dataframe tbody tr th:only-of-type {\n",
       "        vertical-align: middle;\n",
       "    }\n",
       "\n",
       "    .dataframe tbody tr th {\n",
       "        vertical-align: top;\n",
       "    }\n",
       "\n",
       "    .dataframe thead th {\n",
       "        text-align: right;\n",
       "    }\n",
       "</style>\n",
       "<table border=\"1\" class=\"dataframe\">\n",
       "  <thead>\n",
       "    <tr style=\"text-align: right;\">\n",
       "      <th>chol_label</th>\n",
       "      <th>elevated</th>\n",
       "      <th>extremely elevated</th>\n",
       "      <th>normal</th>\n",
       "      <th>All</th>\n",
       "    </tr>\n",
       "    <tr>\n",
       "      <th>trtbps_label</th>\n",
       "      <th></th>\n",
       "      <th></th>\n",
       "      <th></th>\n",
       "      <th></th>\n",
       "    </tr>\n",
       "  </thead>\n",
       "  <tbody>\n",
       "    <tr>\n",
       "      <th>high</th>\n",
       "      <td>0.141914</td>\n",
       "      <td>0.023102</td>\n",
       "      <td>0.016502</td>\n",
       "      <td>0.181518</td>\n",
       "    </tr>\n",
       "    <tr>\n",
       "      <th>low</th>\n",
       "      <td>0.042904</td>\n",
       "      <td>0.009901</td>\n",
       "      <td>0.013201</td>\n",
       "      <td>0.066007</td>\n",
       "    </tr>\n",
       "    <tr>\n",
       "      <th>normal</th>\n",
       "      <td>0.475248</td>\n",
       "      <td>0.141914</td>\n",
       "      <td>0.135314</td>\n",
       "      <td>0.752475</td>\n",
       "    </tr>\n",
       "    <tr>\n",
       "      <th>All</th>\n",
       "      <td>0.660066</td>\n",
       "      <td>0.174917</td>\n",
       "      <td>0.165017</td>\n",
       "      <td>1.000000</td>\n",
       "    </tr>\n",
       "  </tbody>\n",
       "</table>\n",
       "</div>"
      ],
      "text/plain": [
       "chol_label    elevated  extremely elevated    normal       All\n",
       "trtbps_label                                                  \n",
       "high          0.141914            0.023102  0.016502  0.181518\n",
       "low           0.042904            0.009901  0.013201  0.066007\n",
       "normal        0.475248            0.141914  0.135314  0.752475\n",
       "All           0.660066            0.174917  0.165017  1.000000"
      ]
     },
     "execution_count": 147,
     "metadata": {},
     "output_type": "execute_result"
    }
   ],
   "source": [
    "crosstab_chol2 # частоты"
   ]
  },
  {
   "cell_type": "code",
   "execution_count": 161,
   "id": "49923ed4",
   "metadata": {},
   "outputs": [
    {
     "data": {
      "text/html": [
       "<div>\n",
       "<style scoped>\n",
       "    .dataframe tbody tr th:only-of-type {\n",
       "        vertical-align: middle;\n",
       "    }\n",
       "\n",
       "    .dataframe tbody tr th {\n",
       "        vertical-align: top;\n",
       "    }\n",
       "\n",
       "    .dataframe thead th {\n",
       "        text-align: right;\n",
       "    }\n",
       "</style>\n",
       "<table border=\"1\" class=\"dataframe\">\n",
       "  <thead>\n",
       "    <tr style=\"text-align: right;\">\n",
       "      <th>sex</th>\n",
       "      <th>Female</th>\n",
       "      <th>Male</th>\n",
       "      <th>All</th>\n",
       "    </tr>\n",
       "    <tr>\n",
       "      <th>trtbps_label</th>\n",
       "      <th></th>\n",
       "      <th></th>\n",
       "      <th></th>\n",
       "    </tr>\n",
       "  </thead>\n",
       "  <tbody>\n",
       "    <tr>\n",
       "      <th>high</th>\n",
       "      <td>20</td>\n",
       "      <td>35</td>\n",
       "      <td>55</td>\n",
       "    </tr>\n",
       "    <tr>\n",
       "      <th>low</th>\n",
       "      <td>10</td>\n",
       "      <td>10</td>\n",
       "      <td>20</td>\n",
       "    </tr>\n",
       "    <tr>\n",
       "      <th>normal</th>\n",
       "      <td>66</td>\n",
       "      <td>162</td>\n",
       "      <td>228</td>\n",
       "    </tr>\n",
       "    <tr>\n",
       "      <th>All</th>\n",
       "      <td>96</td>\n",
       "      <td>207</td>\n",
       "      <td>303</td>\n",
       "    </tr>\n",
       "  </tbody>\n",
       "</table>\n",
       "</div>"
      ],
      "text/plain": [
       "sex           Female  Male  All\n",
       "trtbps_label                   \n",
       "high              20    35   55\n",
       "low               10    10   20\n",
       "normal            66   162  228\n",
       "All               96   207  303"
      ]
     },
     "execution_count": 161,
     "metadata": {},
     "output_type": "execute_result"
    }
   ],
   "source": [
    "crosstab_cp1 = pd.crosstab(data_cat['trtbps_label'], data_cat['sex'], margins = True)\n",
    "crosstab_cp2 = pd.crosstab(data_cat['trtbps_label'], data_cat['sex'], margins = True, normalize=True)\n",
    "crosstab_cp1 # матрица сопряженности давление и типа боли в груди"
   ]
  },
  {
   "cell_type": "code",
   "execution_count": 162,
   "id": "6b46c2bb",
   "metadata": {},
   "outputs": [
    {
     "data": {
      "text/html": [
       "<div>\n",
       "<style scoped>\n",
       "    .dataframe tbody tr th:only-of-type {\n",
       "        vertical-align: middle;\n",
       "    }\n",
       "\n",
       "    .dataframe tbody tr th {\n",
       "        vertical-align: top;\n",
       "    }\n",
       "\n",
       "    .dataframe thead th {\n",
       "        text-align: right;\n",
       "    }\n",
       "</style>\n",
       "<table border=\"1\" class=\"dataframe\">\n",
       "  <thead>\n",
       "    <tr style=\"text-align: right;\">\n",
       "      <th>sex</th>\n",
       "      <th>Female</th>\n",
       "      <th>Male</th>\n",
       "      <th>All</th>\n",
       "    </tr>\n",
       "    <tr>\n",
       "      <th>trtbps_label</th>\n",
       "      <th></th>\n",
       "      <th></th>\n",
       "      <th></th>\n",
       "    </tr>\n",
       "  </thead>\n",
       "  <tbody>\n",
       "    <tr>\n",
       "      <th>high</th>\n",
       "      <td>0.066007</td>\n",
       "      <td>0.115512</td>\n",
       "      <td>0.181518</td>\n",
       "    </tr>\n",
       "    <tr>\n",
       "      <th>low</th>\n",
       "      <td>0.033003</td>\n",
       "      <td>0.033003</td>\n",
       "      <td>0.066007</td>\n",
       "    </tr>\n",
       "    <tr>\n",
       "      <th>normal</th>\n",
       "      <td>0.217822</td>\n",
       "      <td>0.534653</td>\n",
       "      <td>0.752475</td>\n",
       "    </tr>\n",
       "    <tr>\n",
       "      <th>All</th>\n",
       "      <td>0.316832</td>\n",
       "      <td>0.683168</td>\n",
       "      <td>1.000000</td>\n",
       "    </tr>\n",
       "  </tbody>\n",
       "</table>\n",
       "</div>"
      ],
      "text/plain": [
       "sex             Female      Male       All\n",
       "trtbps_label                              \n",
       "high          0.066007  0.115512  0.181518\n",
       "low           0.033003  0.033003  0.066007\n",
       "normal        0.217822  0.534653  0.752475\n",
       "All           0.316832  0.683168  1.000000"
      ]
     },
     "execution_count": 162,
     "metadata": {},
     "output_type": "execute_result"
    }
   ],
   "source": [
    "crosstab_cp2 # частоты"
   ]
  },
  {
   "cell_type": "markdown",
   "id": "33ed25e8",
   "metadata": {},
   "source": [
    "# Матрицы условных вероятностей"
   ]
  },
  {
   "cell_type": "code",
   "execution_count": 150,
   "id": "bc8ce4ad",
   "metadata": {},
   "outputs": [
    {
     "data": {
      "text/html": [
       "<div>\n",
       "<style scoped>\n",
       "    .dataframe tbody tr th:only-of-type {\n",
       "        vertical-align: middle;\n",
       "    }\n",
       "\n",
       "    .dataframe tbody tr th {\n",
       "        vertical-align: top;\n",
       "    }\n",
       "\n",
       "    .dataframe thead th {\n",
       "        text-align: right;\n",
       "    }\n",
       "</style>\n",
       "<table border=\"1\" class=\"dataframe\">\n",
       "  <thead>\n",
       "    <tr style=\"text-align: right;\">\n",
       "      <th>chol_label</th>\n",
       "      <th>elevated</th>\n",
       "      <th>extremely elevated</th>\n",
       "      <th>normal</th>\n",
       "      <th>All</th>\n",
       "    </tr>\n",
       "    <tr>\n",
       "      <th>trtbps_label</th>\n",
       "      <th></th>\n",
       "      <th></th>\n",
       "      <th></th>\n",
       "      <th></th>\n",
       "    </tr>\n",
       "  </thead>\n",
       "  <tbody>\n",
       "    <tr>\n",
       "      <th>high</th>\n",
       "      <td>0.215</td>\n",
       "      <td>0.132075</td>\n",
       "      <td>0.10</td>\n",
       "      <td>0.181518</td>\n",
       "    </tr>\n",
       "    <tr>\n",
       "      <th>low</th>\n",
       "      <td>0.065</td>\n",
       "      <td>0.056604</td>\n",
       "      <td>0.08</td>\n",
       "      <td>0.066007</td>\n",
       "    </tr>\n",
       "    <tr>\n",
       "      <th>normal</th>\n",
       "      <td>0.720</td>\n",
       "      <td>0.811321</td>\n",
       "      <td>0.82</td>\n",
       "      <td>0.752475</td>\n",
       "    </tr>\n",
       "    <tr>\n",
       "      <th>All</th>\n",
       "      <td>1.000</td>\n",
       "      <td>1.000000</td>\n",
       "      <td>1.00</td>\n",
       "      <td>1.000000</td>\n",
       "    </tr>\n",
       "  </tbody>\n",
       "</table>\n",
       "</div>"
      ],
      "text/plain": [
       "chol_label    elevated  extremely elevated  normal       All\n",
       "trtbps_label                                                \n",
       "high             0.215            0.132075    0.10  0.181518\n",
       "low              0.065            0.056604    0.08  0.066007\n",
       "normal           0.720            0.811321    0.82  0.752475\n",
       "All              1.000            1.000000    1.00  1.000000"
      ]
     },
     "execution_count": 150,
     "metadata": {},
     "output_type": "execute_result"
    }
   ],
   "source": [
    "cond_prob_chol = np.divide(crosstab_chol1, np.array(crosstab_chol1[-1:]))\n",
    "cond_prob_chol # матрица условных вероятностей (суммы по столбцам равны 1)"
   ]
  },
  {
   "cell_type": "code",
   "execution_count": 163,
   "id": "ca689ea1",
   "metadata": {},
   "outputs": [
    {
     "data": {
      "text/html": [
       "<div>\n",
       "<style scoped>\n",
       "    .dataframe tbody tr th:only-of-type {\n",
       "        vertical-align: middle;\n",
       "    }\n",
       "\n",
       "    .dataframe tbody tr th {\n",
       "        vertical-align: top;\n",
       "    }\n",
       "\n",
       "    .dataframe thead th {\n",
       "        text-align: right;\n",
       "    }\n",
       "</style>\n",
       "<table border=\"1\" class=\"dataframe\">\n",
       "  <thead>\n",
       "    <tr style=\"text-align: right;\">\n",
       "      <th>sex</th>\n",
       "      <th>Female</th>\n",
       "      <th>Male</th>\n",
       "      <th>All</th>\n",
       "    </tr>\n",
       "    <tr>\n",
       "      <th>trtbps_label</th>\n",
       "      <th></th>\n",
       "      <th></th>\n",
       "      <th></th>\n",
       "    </tr>\n",
       "  </thead>\n",
       "  <tbody>\n",
       "    <tr>\n",
       "      <th>high</th>\n",
       "      <td>0.208333</td>\n",
       "      <td>0.169082</td>\n",
       "      <td>0.181518</td>\n",
       "    </tr>\n",
       "    <tr>\n",
       "      <th>low</th>\n",
       "      <td>0.104167</td>\n",
       "      <td>0.048309</td>\n",
       "      <td>0.066007</td>\n",
       "    </tr>\n",
       "    <tr>\n",
       "      <th>normal</th>\n",
       "      <td>0.687500</td>\n",
       "      <td>0.782609</td>\n",
       "      <td>0.752475</td>\n",
       "    </tr>\n",
       "    <tr>\n",
       "      <th>All</th>\n",
       "      <td>1.000000</td>\n",
       "      <td>1.000000</td>\n",
       "      <td>1.000000</td>\n",
       "    </tr>\n",
       "  </tbody>\n",
       "</table>\n",
       "</div>"
      ],
      "text/plain": [
       "sex             Female      Male       All\n",
       "trtbps_label                              \n",
       "high          0.208333  0.169082  0.181518\n",
       "low           0.104167  0.048309  0.066007\n",
       "normal        0.687500  0.782609  0.752475\n",
       "All           1.000000  1.000000  1.000000"
      ]
     },
     "execution_count": 163,
     "metadata": {},
     "output_type": "execute_result"
    }
   ],
   "source": [
    "cond_prob_cp = np.divide(crosstab_cp1, np.array(crosstab_cp1[-1:]))\n",
    "cond_prob_cp # матрица условных вероятностей (суммы по столбцам равны 1)"
   ]
  },
  {
   "cell_type": "markdown",
   "id": "d894fffa",
   "metadata": {},
   "source": [
    "# Матрица распределения при условии независимости признаков"
   ]
  },
  {
   "cell_type": "code",
   "execution_count": 69,
   "id": "8519e98c",
   "metadata": {},
   "outputs": [
    {
     "data": {
      "text/plain": [
       "array([[0.11981396, 0.0317507 , 0.02995349, 0.18151815],\n",
       "       [0.04356871, 0.01154571, 0.01089218, 0.0660066 ],\n",
       "       [0.49668333, 0.13162108, 0.12417083, 0.75247525],\n",
       "       [0.66006601, 0.17491749, 0.1650165 , 1.        ]])"
      ]
     },
     "execution_count": 69,
     "metadata": {},
     "output_type": "execute_result"
    }
   ],
   "source": [
    "c_prob = crosstab_chol2.iloc[:, -1].values[:, None] @ crosstab_chol2.iloc[-1, :].values[None, :]\n",
    "c_prob # матрица распределения при условии независимости признаков"
   ]
  },
  {
   "cell_type": "code",
   "execution_count": 70,
   "id": "c01c437c",
   "metadata": {},
   "outputs": [
    {
     "data": {
      "text/html": [
       "<div>\n",
       "<style scoped>\n",
       "    .dataframe tbody tr th:only-of-type {\n",
       "        vertical-align: middle;\n",
       "    }\n",
       "\n",
       "    .dataframe tbody tr th {\n",
       "        vertical-align: top;\n",
       "    }\n",
       "\n",
       "    .dataframe thead th {\n",
       "        text-align: right;\n",
       "    }\n",
       "</style>\n",
       "<table border=\"1\" class=\"dataframe\">\n",
       "  <thead>\n",
       "    <tr style=\"text-align: right;\">\n",
       "      <th></th>\n",
       "      <th>0</th>\n",
       "      <th>1</th>\n",
       "      <th>2</th>\n",
       "      <th>3</th>\n",
       "    </tr>\n",
       "  </thead>\n",
       "  <tbody>\n",
       "    <tr>\n",
       "      <th>0</th>\n",
       "      <td>0.119814</td>\n",
       "      <td>0.031751</td>\n",
       "      <td>0.029953</td>\n",
       "      <td>0.181518</td>\n",
       "    </tr>\n",
       "    <tr>\n",
       "      <th>1</th>\n",
       "      <td>0.043569</td>\n",
       "      <td>0.011546</td>\n",
       "      <td>0.010892</td>\n",
       "      <td>0.066007</td>\n",
       "    </tr>\n",
       "    <tr>\n",
       "      <th>2</th>\n",
       "      <td>0.496683</td>\n",
       "      <td>0.131621</td>\n",
       "      <td>0.124171</td>\n",
       "      <td>0.752475</td>\n",
       "    </tr>\n",
       "    <tr>\n",
       "      <th>3</th>\n",
       "      <td>0.660066</td>\n",
       "      <td>0.174917</td>\n",
       "      <td>0.165017</td>\n",
       "      <td>1.000000</td>\n",
       "    </tr>\n",
       "  </tbody>\n",
       "</table>\n",
       "</div>"
      ],
      "text/plain": [
       "          0         1         2         3\n",
       "0  0.119814  0.031751  0.029953  0.181518\n",
       "1  0.043569  0.011546  0.010892  0.066007\n",
       "2  0.496683  0.131621  0.124171  0.752475\n",
       "3  0.660066  0.174917  0.165017  1.000000"
      ]
     },
     "execution_count": 70,
     "metadata": {},
     "output_type": "execute_result"
    }
   ],
   "source": [
    "df1 = pd.DataFrame(c_prob)\n",
    "df1"
   ]
  },
  {
   "cell_type": "code",
   "execution_count": 124,
   "id": "e94a23c0",
   "metadata": {},
   "outputs": [
    {
     "data": {
      "text/plain": [
       "array([[0.0575107 , 0.12400745, 0.18151815],\n",
       "       [0.02091298, 0.04509362, 0.0660066 ],\n",
       "       [0.238408  , 0.51406725, 0.75247525],\n",
       "       [0.31683168, 0.68316832, 1.        ]])"
      ]
     },
     "execution_count": 124,
     "metadata": {},
     "output_type": "execute_result"
    }
   ],
   "source": [
    "cp_prob = crosstab_cp2.iloc[:, -1].values[:, None] @ crosstab_cp2.iloc[-1, :].values[None, :]\n",
    "cp_prob # матрица распределения при условии независимости признаков"
   ]
  },
  {
   "cell_type": "code",
   "execution_count": 125,
   "id": "bb8b8334",
   "metadata": {},
   "outputs": [
    {
     "data": {
      "text/html": [
       "<div>\n",
       "<style scoped>\n",
       "    .dataframe tbody tr th:only-of-type {\n",
       "        vertical-align: middle;\n",
       "    }\n",
       "\n",
       "    .dataframe tbody tr th {\n",
       "        vertical-align: top;\n",
       "    }\n",
       "\n",
       "    .dataframe thead th {\n",
       "        text-align: right;\n",
       "    }\n",
       "</style>\n",
       "<table border=\"1\" class=\"dataframe\">\n",
       "  <thead>\n",
       "    <tr style=\"text-align: right;\">\n",
       "      <th></th>\n",
       "      <th>0</th>\n",
       "      <th>1</th>\n",
       "      <th>2</th>\n",
       "      <th>3</th>\n",
       "      <th>4</th>\n",
       "      <th>5</th>\n",
       "    </tr>\n",
       "  </thead>\n",
       "  <tbody>\n",
       "    <tr>\n",
       "      <th>0</th>\n",
       "      <td>0.206951</td>\n",
       "      <td>0.137241</td>\n",
       "      <td>0.100208</td>\n",
       "      <td>0.135063</td>\n",
       "      <td>0.080602</td>\n",
       "      <td>0.660066</td>\n",
       "    </tr>\n",
       "    <tr>\n",
       "      <th>1</th>\n",
       "      <td>0.054842</td>\n",
       "      <td>0.036369</td>\n",
       "      <td>0.026555</td>\n",
       "      <td>0.035792</td>\n",
       "      <td>0.021360</td>\n",
       "      <td>0.174917</td>\n",
       "    </tr>\n",
       "    <tr>\n",
       "      <th>2</th>\n",
       "      <td>0.051738</td>\n",
       "      <td>0.034310</td>\n",
       "      <td>0.025052</td>\n",
       "      <td>0.033766</td>\n",
       "      <td>0.020151</td>\n",
       "      <td>0.165017</td>\n",
       "    </tr>\n",
       "    <tr>\n",
       "      <th>3</th>\n",
       "      <td>0.313531</td>\n",
       "      <td>0.207921</td>\n",
       "      <td>0.151815</td>\n",
       "      <td>0.204620</td>\n",
       "      <td>0.122112</td>\n",
       "      <td>1.000000</td>\n",
       "    </tr>\n",
       "  </tbody>\n",
       "</table>\n",
       "</div>"
      ],
      "text/plain": [
       "          0         1         2         3         4         5\n",
       "0  0.206951  0.137241  0.100208  0.135063  0.080602  0.660066\n",
       "1  0.054842  0.036369  0.026555  0.035792  0.021360  0.174917\n",
       "2  0.051738  0.034310  0.025052  0.033766  0.020151  0.165017\n",
       "3  0.313531  0.207921  0.151815  0.204620  0.122112  1.000000"
      ]
     },
     "execution_count": 125,
     "metadata": {},
     "output_type": "execute_result"
    }
   ],
   "source": [
    "df2 = pd.DataFrame(p_prob)\n",
    "df2"
   ]
  },
  {
   "cell_type": "markdown",
   "id": "3c8a4c35",
   "metadata": {},
   "source": [
    "# Матрица индексов Кетле"
   ]
  },
  {
   "cell_type": "code",
   "execution_count": 126,
   "id": "1ca6bbb8",
   "metadata": {},
   "outputs": [
    {
     "data": {
      "text/html": [
       "<div>\n",
       "<style scoped>\n",
       "    .dataframe tbody tr th:only-of-type {\n",
       "        vertical-align: middle;\n",
       "    }\n",
       "\n",
       "    .dataframe tbody tr th {\n",
       "        vertical-align: top;\n",
       "    }\n",
       "\n",
       "    .dataframe thead th {\n",
       "        text-align: right;\n",
       "    }\n",
       "</style>\n",
       "<table border=\"1\" class=\"dataframe\">\n",
       "  <thead>\n",
       "    <tr style=\"text-align: right;\">\n",
       "      <th>chol_label</th>\n",
       "      <th>elevated</th>\n",
       "      <th>extremely elevated</th>\n",
       "      <th>normal</th>\n",
       "      <th>All</th>\n",
       "    </tr>\n",
       "    <tr>\n",
       "      <th>trtbps_label</th>\n",
       "      <th></th>\n",
       "      <th></th>\n",
       "      <th></th>\n",
       "      <th></th>\n",
       "    </tr>\n",
       "  </thead>\n",
       "  <tbody>\n",
       "    <tr>\n",
       "      <th>high</th>\n",
       "      <td>0.184455</td>\n",
       "      <td>-0.272384</td>\n",
       "      <td>-0.449091</td>\n",
       "      <td>0.0</td>\n",
       "    </tr>\n",
       "    <tr>\n",
       "      <th>low</th>\n",
       "      <td>-0.015250</td>\n",
       "      <td>-0.142453</td>\n",
       "      <td>0.212000</td>\n",
       "      <td>0.0</td>\n",
       "    </tr>\n",
       "    <tr>\n",
       "      <th>normal</th>\n",
       "      <td>-0.043158</td>\n",
       "      <td>0.078203</td>\n",
       "      <td>0.089737</td>\n",
       "      <td>0.0</td>\n",
       "    </tr>\n",
       "    <tr>\n",
       "      <th>All</th>\n",
       "      <td>0.000000</td>\n",
       "      <td>0.000000</td>\n",
       "      <td>0.000000</td>\n",
       "      <td>0.0</td>\n",
       "    </tr>\n",
       "  </tbody>\n",
       "</table>\n",
       "</div>"
      ],
      "text/plain": [
       "chol_label    elevated  extremely elevated    normal  All\n",
       "trtbps_label                                             \n",
       "high          0.184455           -0.272384 -0.449091  0.0\n",
       "low          -0.015250           -0.142453  0.212000  0.0\n",
       "normal       -0.043158            0.078203  0.089737  0.0\n",
       "All           0.000000            0.000000  0.000000  0.0"
      ]
     },
     "execution_count": 126,
     "metadata": {},
     "output_type": "execute_result"
    }
   ],
   "source": [
    "c_quetle = crosstab_chol2 / c_prob - 1\n",
    "c_quetle # матрица индексов Кетле"
   ]
  },
  {
   "cell_type": "code",
   "execution_count": 128,
   "id": "d181cdba",
   "metadata": {},
   "outputs": [
    {
     "data": {
      "text/plain": [
       "0.015937219764677518"
      ]
     },
     "execution_count": 128,
     "metadata": {},
     "output_type": "execute_result"
    }
   ],
   "source": [
    "m = crosstab_chol2.iloc[:-1, :-1] * c_quetle\n",
    "np.sum(m.iloc[1:,1:].values)"
   ]
  },
  {
   "cell_type": "code",
   "execution_count": 152,
   "id": "7b080d88",
   "metadata": {},
   "outputs": [
    {
     "data": {
      "text/html": [
       "<div>\n",
       "<style scoped>\n",
       "    .dataframe tbody tr th:only-of-type {\n",
       "        vertical-align: middle;\n",
       "    }\n",
       "\n",
       "    .dataframe tbody tr th {\n",
       "        vertical-align: top;\n",
       "    }\n",
       "\n",
       "    .dataframe thead th {\n",
       "        text-align: right;\n",
       "    }\n",
       "</style>\n",
       "<table border=\"1\" class=\"dataframe\">\n",
       "  <thead>\n",
       "    <tr style=\"text-align: right;\">\n",
       "      <th>sex</th>\n",
       "      <th>Female</th>\n",
       "      <th>Male</th>\n",
       "      <th>All</th>\n",
       "    </tr>\n",
       "    <tr>\n",
       "      <th>trtbps_label</th>\n",
       "      <th></th>\n",
       "      <th></th>\n",
       "      <th></th>\n",
       "    </tr>\n",
       "  </thead>\n",
       "  <tbody>\n",
       "    <tr>\n",
       "      <th>high</th>\n",
       "      <td>0.147727</td>\n",
       "      <td>-0.068511</td>\n",
       "      <td>0.0</td>\n",
       "    </tr>\n",
       "    <tr>\n",
       "      <th>low</th>\n",
       "      <td>0.578125</td>\n",
       "      <td>-0.268116</td>\n",
       "      <td>0.0</td>\n",
       "    </tr>\n",
       "    <tr>\n",
       "      <th>normal</th>\n",
       "      <td>-0.086349</td>\n",
       "      <td>0.040046</td>\n",
       "      <td>0.0</td>\n",
       "    </tr>\n",
       "    <tr>\n",
       "      <th>All</th>\n",
       "      <td>0.000000</td>\n",
       "      <td>0.000000</td>\n",
       "      <td>0.0</td>\n",
       "    </tr>\n",
       "  </tbody>\n",
       "</table>\n",
       "</div>"
      ],
      "text/plain": [
       "sex             Female      Male  All\n",
       "trtbps_label                         \n",
       "high          0.147727 -0.068511  0.0\n",
       "low           0.578125 -0.268116  0.0\n",
       "normal       -0.086349  0.040046  0.0\n",
       "All           0.000000  0.000000  0.0"
      ]
     },
     "execution_count": 152,
     "metadata": {},
     "output_type": "execute_result"
    }
   ],
   "source": [
    "cp_quetle = crosstab_cp2 / cp_prob - 1\n",
    "cp_quetle # матрица индексов Кетле"
   ]
  },
  {
   "cell_type": "code",
   "execution_count": 155,
   "id": "0c76e558",
   "metadata": {},
   "outputs": [
    {
     "data": {
      "text/plain": [
       "0.014670445877539701"
      ]
     },
     "execution_count": 155,
     "metadata": {},
     "output_type": "execute_result"
    }
   ],
   "source": [
    "m2 = crosstab_cp2.iloc[:-1, :-1] * cp_quetle\n",
    "np.sum(m2.iloc[1:, 1:].values)"
   ]
  },
  {
   "cell_type": "markdown",
   "id": "7fd6785d",
   "metadata": {},
   "source": [
    "# Матрица кси-квадрат"
   ]
  },
  {
   "cell_type": "code",
   "execution_count": 135,
   "id": "8e856de0",
   "metadata": {},
   "outputs": [
    {
     "data": {
      "text/html": [
       "<div>\n",
       "<style scoped>\n",
       "    .dataframe tbody tr th:only-of-type {\n",
       "        vertical-align: middle;\n",
       "    }\n",
       "\n",
       "    .dataframe tbody tr th {\n",
       "        vertical-align: top;\n",
       "    }\n",
       "\n",
       "    .dataframe thead th {\n",
       "        text-align: right;\n",
       "    }\n",
       "</style>\n",
       "<table border=\"1\" class=\"dataframe\">\n",
       "  <thead>\n",
       "    <tr style=\"text-align: right;\">\n",
       "      <th>chol_label</th>\n",
       "      <th>elevated</th>\n",
       "      <th>extremely elevated</th>\n",
       "      <th>normal</th>\n",
       "    </tr>\n",
       "    <tr>\n",
       "      <th>trtbps_label</th>\n",
       "      <th></th>\n",
       "      <th></th>\n",
       "      <th></th>\n",
       "    </tr>\n",
       "  </thead>\n",
       "  <tbody>\n",
       "    <tr>\n",
       "      <th>high</th>\n",
       "      <td>0.004076</td>\n",
       "      <td>0.002356</td>\n",
       "      <td>0.006041</td>\n",
       "    </tr>\n",
       "    <tr>\n",
       "      <th>low</th>\n",
       "      <td>0.000010</td>\n",
       "      <td>0.000234</td>\n",
       "      <td>0.000490</td>\n",
       "    </tr>\n",
       "    <tr>\n",
       "      <th>normal</th>\n",
       "      <td>0.000925</td>\n",
       "      <td>0.000805</td>\n",
       "      <td>0.001000</td>\n",
       "    </tr>\n",
       "  </tbody>\n",
       "</table>\n",
       "</div>"
      ],
      "text/plain": [
       "chol_label    elevated  extremely elevated    normal\n",
       "trtbps_label                                        \n",
       "high          0.004076            0.002356  0.006041\n",
       "low           0.000010            0.000234  0.000490\n",
       "normal        0.000925            0.000805  0.001000"
      ]
     },
     "execution_count": 135,
     "metadata": {},
     "output_type": "execute_result"
    }
   ],
   "source": [
    "c_kxi = (crosstab_chol2  - c_prob)**2 / c_prob\n",
    "c_kxi = c_kxi.iloc[:-1, :-1]\n",
    "c_kxi # хи-квадрат"
   ]
  },
  {
   "cell_type": "code",
   "execution_count": 139,
   "id": "0406f83d",
   "metadata": {},
   "outputs": [
    {
     "data": {
      "text/plain": [
       "0.015937219764677563"
      ]
     },
     "execution_count": 139,
     "metadata": {},
     "output_type": "execute_result"
    }
   ],
   "source": [
    "np.sum(c_kxi.values)"
   ]
  },
  {
   "cell_type": "code",
   "execution_count": 156,
   "id": "aad289ca",
   "metadata": {},
   "outputs": [
    {
     "data": {
      "text/html": [
       "<div>\n",
       "<style scoped>\n",
       "    .dataframe tbody tr th:only-of-type {\n",
       "        vertical-align: middle;\n",
       "    }\n",
       "\n",
       "    .dataframe tbody tr th {\n",
       "        vertical-align: top;\n",
       "    }\n",
       "\n",
       "    .dataframe thead th {\n",
       "        text-align: right;\n",
       "    }\n",
       "</style>\n",
       "<table border=\"1\" class=\"dataframe\">\n",
       "  <thead>\n",
       "    <tr style=\"text-align: right;\">\n",
       "      <th>sex</th>\n",
       "      <th>Female</th>\n",
       "      <th>Male</th>\n",
       "    </tr>\n",
       "    <tr>\n",
       "      <th>trtbps_label</th>\n",
       "      <th></th>\n",
       "      <th></th>\n",
       "    </tr>\n",
       "  </thead>\n",
       "  <tbody>\n",
       "    <tr>\n",
       "      <th>high</th>\n",
       "      <td>0.001255</td>\n",
       "      <td>0.000582</td>\n",
       "    </tr>\n",
       "    <tr>\n",
       "      <th>low</th>\n",
       "      <td>0.006990</td>\n",
       "      <td>0.003242</td>\n",
       "    </tr>\n",
       "    <tr>\n",
       "      <th>normal</th>\n",
       "      <td>0.001778</td>\n",
       "      <td>0.000824</td>\n",
       "    </tr>\n",
       "  </tbody>\n",
       "</table>\n",
       "</div>"
      ],
      "text/plain": [
       "sex             Female      Male\n",
       "trtbps_label                    \n",
       "high          0.001255  0.000582\n",
       "low           0.006990  0.003242\n",
       "normal        0.001778  0.000824"
      ]
     },
     "execution_count": 156,
     "metadata": {},
     "output_type": "execute_result"
    }
   ],
   "source": [
    "сp_kxi = (crosstab_cp2  - cp_prob)**2 / cp_prob\n",
    "сp_kxi = сp_kxi.iloc[:-1, :-1]\n",
    "сp_kxi # хи-квадрат"
   ]
  },
  {
   "cell_type": "code",
   "execution_count": 157,
   "id": "f70da9f1",
   "metadata": {},
   "outputs": [
    {
     "data": {
      "text/plain": [
       "0.014670445877539701"
      ]
     },
     "execution_count": 157,
     "metadata": {},
     "output_type": "execute_result"
    }
   ],
   "source": [
    "np.sum(сp_kxi.values)"
   ]
  },
  {
   "cell_type": "code",
   "execution_count": null,
   "id": "6a8acae8",
   "metadata": {},
   "outputs": [],
   "source": []
  }
 ],
 "metadata": {
  "kernelspec": {
   "display_name": "Python 3 (ipykernel)",
   "language": "python",
   "name": "python3"
  },
  "language_info": {
   "codemirror_mode": {
    "name": "ipython",
    "version": 3
   },
   "file_extension": ".py",
   "mimetype": "text/x-python",
   "name": "python",
   "nbconvert_exporter": "python",
   "pygments_lexer": "ipython3",
   "version": "3.9.12"
  }
 },
 "nbformat": 4,
 "nbformat_minor": 5
}
